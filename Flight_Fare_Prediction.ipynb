{
  "nbformat": 4,
  "nbformat_minor": 0,
  "metadata": {
    "kernelspec": {
      "display_name": "Python 3",
      "language": "python",
      "name": "python3"
    },
    "language_info": {
      "codemirror_mode": {
        "name": "ipython",
        "version": 3
      },
      "file_extension": ".py",
      "mimetype": "text/x-python",
      "name": "python",
      "nbconvert_exporter": "python",
      "pygments_lexer": "ipython3",
      "version": "3.7.0a4"
    },
    "toc": {
      "base_numbering": 1,
      "nav_menu": {},
      "number_sections": true,
      "sideBar": true,
      "skip_h1_title": true,
      "title_cell": "Table of Contents",
      "title_sidebar": "Contents",
      "toc_cell": false,
      "toc_position": {},
      "toc_section_display": true,
      "toc_window_display": false
    },
    "colab": {
      "name": "Flight Fare Prediction-Submission.ipynb",
      "provenance": []
    }
  },
  "cells": [
    {
      "cell_type": "markdown",
      "metadata": {
        "id": "XAEgSYOw27H0"
      },
      "source": [
        "# Air Fare Prediction "
      ]
    },
    {
      "cell_type": "markdown",
      "metadata": {
        "id": "_qRPJrVZ27H4"
      },
      "source": [
        "__Compared to last few decades the passengers travelling via Air mode has increased drastically. Every other airline passenger tries to buy an air ticket at cheapest fare possible.__\n",
        "\n",
        "&ensp;\n",
        "\n",
        "<div>\n",
        "<img src = https://img.washingtonpost.com/rf/image_1484w/2010-2019/WashingtonPost/2017/06/29/Interactivity/Images/iStock-626867464.JPG?uuid=zUBRYlq-EeeqaTlkp9VSBw width=\"400\">\n",
        "<div/>\n",
        " <center> Flight Fares </center>\n",
        "\n",
        "&ensp;\n",
        "\n",
        "\n",
        " To achieve this we have to follow one basic rule that is plan your travel well in advance, but it doesn't always guarantee you end up buying cheapest air fare ticket. And always its not possible to plan our travel in advance. Flight fare in today's world is difficult to predict as it keep varying on frequent basis. \n",
        " \n",
        "As a Data Scientist, here is the attempt to predict the air fares for various airlines in India."
      ]
    },
    {
      "cell_type": "markdown",
      "metadata": {
        "id": "_rX5PiQ927H8"
      },
      "source": [
        "## Import required Libraries"
      ]
    },
    {
      "cell_type": "markdown",
      "metadata": {
        "id": "8y7g2hj827H_"
      },
      "source": [
        "Let's import relevant libraries."
      ]
    },
    {
      "cell_type": "code",
      "metadata": {
        "id": "pwxC02s227ID"
      },
      "source": [
        "## Import library\n",
        "%matplotlib inline\n",
        "\n",
        "import warnings # To supress warnings\n",
        "warnings.filterwarnings('ignore')\n",
        "warnings.filterwarnings('ignore', category=DeprecationWarning)\n",
        "\n",
        "import numpy as np # Linear algebraa\n",
        "import pandas as pd # Data processing, CSV file I/O (e.g. pd.read_csv)\n",
        "import matplotlib.pyplot as plt  # Matlab-style plottinga\n",
        "import seaborn as sns # Visualisation\n",
        "from datetime import datetime\n",
        "from scipy import stats\n",
        "from sklearn.linear_model import LinearRegression\n",
        "from sklearn.model_selection import KFold, cross_val_score\n",
        "from sklearn.linear_model import RidgeCV\n",
        "from sklearn.linear_model import LassoCV\n",
        "from sklearn.linear_model import ElasticNetCV\n",
        "from lightgbm import LGBMRegressor\n",
        "from xgboost import XGBRegressor\n",
        "from sklearn.metrics import r2_score\n",
        "import lightgbm as lgb\n",
        "from bayes_opt import BayesianOptimization"
      ],
      "execution_count": 4,
      "outputs": []
    },
    {
      "cell_type": "code",
      "metadata": {
        "id": "xB-cCcrVFoBT"
      },
      "source": [
        "# pip install bayesian-optimization\n"
      ],
      "execution_count": null,
      "outputs": []
    },
    {
      "cell_type": "code",
      "metadata": {
        "id": "nDa5h4q2Fg-y"
      },
      "source": [
        "from bayes_opt import BayesianOptimization"
      ],
      "execution_count": 79,
      "outputs": []
    },
    {
      "cell_type": "markdown",
      "metadata": {
        "id": "aRndmoQH27IS"
      },
      "source": [
        "## Datasets\n",
        "\n",
        "We have 2 datasets 'Train' and 'Test', both consists of categorical and numerical variables. 'Train' and 'Test' both contain similar columns except there is no 'Price' column 'Test' dataset as same has to be predicted. Let us load the datasets."
      ]
    },
    {
      "cell_type": "code",
      "metadata": {
        "id": "csEQnuaJ27IU"
      },
      "source": [
        "## Load datasets\n",
        "\n",
        "train_df =  pd.read_excel('/content/sample_data/Data_Train.xlsx')\n",
        "test_df = pd.read_excel('/content/sample_data/Test_set.xlsx')"
      ],
      "execution_count": 5,
      "outputs": []
    },
    {
      "cell_type": "markdown",
      "metadata": {
        "id": "5Z5sO7De27If"
      },
      "source": [
        "### Train Dataset"
      ]
    },
    {
      "cell_type": "code",
      "metadata": {
        "id": "vRbK9Q_z27Ig",
        "outputId": "ee0f275b-bfee-4393-8e03-057ee53ceb76",
        "colab": {
          "base_uri": "https://localhost:8080/",
          "height": 35
        }
      },
      "source": [
        "train_df.shape"
      ],
      "execution_count": 6,
      "outputs": [
        {
          "output_type": "execute_result",
          "data": {
            "text/plain": [
              "(10683, 11)"
            ]
          },
          "metadata": {
            "tags": []
          },
          "execution_count": 6
        }
      ]
    },
    {
      "cell_type": "code",
      "metadata": {
        "id": "uQ39sOcN27Ir",
        "outputId": "7485fa0e-1091-419c-87d7-9df0d48261cb",
        "colab": {
          "base_uri": "https://localhost:8080/",
          "height": 206
        }
      },
      "source": [
        "train_df.sample(5)"
      ],
      "execution_count": 7,
      "outputs": [
        {
          "output_type": "execute_result",
          "data": {
            "text/html": [
              "<div>\n",
              "<style scoped>\n",
              "    .dataframe tbody tr th:only-of-type {\n",
              "        vertical-align: middle;\n",
              "    }\n",
              "\n",
              "    .dataframe tbody tr th {\n",
              "        vertical-align: top;\n",
              "    }\n",
              "\n",
              "    .dataframe thead th {\n",
              "        text-align: right;\n",
              "    }\n",
              "</style>\n",
              "<table border=\"1\" class=\"dataframe\">\n",
              "  <thead>\n",
              "    <tr style=\"text-align: right;\">\n",
              "      <th></th>\n",
              "      <th>Airline</th>\n",
              "      <th>Date_of_Journey</th>\n",
              "      <th>Source</th>\n",
              "      <th>Destination</th>\n",
              "      <th>Route</th>\n",
              "      <th>Dep_Time</th>\n",
              "      <th>Arrival_Time</th>\n",
              "      <th>Duration</th>\n",
              "      <th>Total_Stops</th>\n",
              "      <th>Additional_Info</th>\n",
              "      <th>Price</th>\n",
              "    </tr>\n",
              "  </thead>\n",
              "  <tbody>\n",
              "    <tr>\n",
              "      <th>6536</th>\n",
              "      <td>Air India</td>\n",
              "      <td>03/03/2019</td>\n",
              "      <td>Banglore</td>\n",
              "      <td>New Delhi</td>\n",
              "      <td>BLR → CCU → DEL</td>\n",
              "      <td>05:50</td>\n",
              "      <td>12:55</td>\n",
              "      <td>7h 5m</td>\n",
              "      <td>1 stop</td>\n",
              "      <td>No info</td>\n",
              "      <td>12389</td>\n",
              "    </tr>\n",
              "    <tr>\n",
              "      <th>7093</th>\n",
              "      <td>Multiple carriers</td>\n",
              "      <td>21/03/2019</td>\n",
              "      <td>Delhi</td>\n",
              "      <td>Cochin</td>\n",
              "      <td>DEL → BOM → COK</td>\n",
              "      <td>11:40</td>\n",
              "      <td>19:15</td>\n",
              "      <td>7h 35m</td>\n",
              "      <td>1 stop</td>\n",
              "      <td>No info</td>\n",
              "      <td>7531</td>\n",
              "    </tr>\n",
              "    <tr>\n",
              "      <th>7020</th>\n",
              "      <td>IndiGo</td>\n",
              "      <td>6/06/2019</td>\n",
              "      <td>Kolkata</td>\n",
              "      <td>Banglore</td>\n",
              "      <td>CCU → BLR</td>\n",
              "      <td>09:35</td>\n",
              "      <td>12:10</td>\n",
              "      <td>2h 35m</td>\n",
              "      <td>non-stop</td>\n",
              "      <td>No info</td>\n",
              "      <td>4804</td>\n",
              "    </tr>\n",
              "    <tr>\n",
              "      <th>4320</th>\n",
              "      <td>Multiple carriers</td>\n",
              "      <td>21/05/2019</td>\n",
              "      <td>Delhi</td>\n",
              "      <td>Cochin</td>\n",
              "      <td>DEL → BOM → COK</td>\n",
              "      <td>09:00</td>\n",
              "      <td>21:00</td>\n",
              "      <td>12h</td>\n",
              "      <td>1 stop</td>\n",
              "      <td>No info</td>\n",
              "      <td>7888</td>\n",
              "    </tr>\n",
              "    <tr>\n",
              "      <th>7491</th>\n",
              "      <td>IndiGo</td>\n",
              "      <td>1/05/2019</td>\n",
              "      <td>Kolkata</td>\n",
              "      <td>Banglore</td>\n",
              "      <td>CCU → MAA → BLR</td>\n",
              "      <td>06:20</td>\n",
              "      <td>10:20</td>\n",
              "      <td>4h</td>\n",
              "      <td>1 stop</td>\n",
              "      <td>No info</td>\n",
              "      <td>4226</td>\n",
              "    </tr>\n",
              "  </tbody>\n",
              "</table>\n",
              "</div>"
            ],
            "text/plain": [
              "                Airline Date_of_Journey  ... Additional_Info  Price\n",
              "6536          Air India      03/03/2019  ...         No info  12389\n",
              "7093  Multiple carriers      21/03/2019  ...         No info   7531\n",
              "7020             IndiGo       6/06/2019  ...         No info   4804\n",
              "4320  Multiple carriers      21/05/2019  ...         No info   7888\n",
              "7491             IndiGo       1/05/2019  ...         No info   4226\n",
              "\n",
              "[5 rows x 11 columns]"
            ]
          },
          "metadata": {
            "tags": []
          },
          "execution_count": 7
        }
      ]
    },
    {
      "cell_type": "markdown",
      "metadata": {
        "id": "gcS3Ehbn27Iz"
      },
      "source": [
        "### Test Dataset"
      ]
    },
    {
      "cell_type": "code",
      "metadata": {
        "id": "bTSAk92D27I1",
        "outputId": "5de74f69-52a2-48f4-def5-1daa49c5d60b",
        "colab": {
          "base_uri": "https://localhost:8080/",
          "height": 35
        }
      },
      "source": [
        "test_df.shape"
      ],
      "execution_count": 8,
      "outputs": [
        {
          "output_type": "execute_result",
          "data": {
            "text/plain": [
              "(2671, 10)"
            ]
          },
          "metadata": {
            "tags": []
          },
          "execution_count": 8
        }
      ]
    },
    {
      "cell_type": "code",
      "metadata": {
        "id": "Ym-vvicx27I_",
        "outputId": "64d3d138-eee2-4bf5-fc62-65685bf2bb87",
        "colab": {
          "base_uri": "https://localhost:8080/",
          "height": 206
        }
      },
      "source": [
        "test_df.sample(5)"
      ],
      "execution_count": 9,
      "outputs": [
        {
          "output_type": "execute_result",
          "data": {
            "text/html": [
              "<div>\n",
              "<style scoped>\n",
              "    .dataframe tbody tr th:only-of-type {\n",
              "        vertical-align: middle;\n",
              "    }\n",
              "\n",
              "    .dataframe tbody tr th {\n",
              "        vertical-align: top;\n",
              "    }\n",
              "\n",
              "    .dataframe thead th {\n",
              "        text-align: right;\n",
              "    }\n",
              "</style>\n",
              "<table border=\"1\" class=\"dataframe\">\n",
              "  <thead>\n",
              "    <tr style=\"text-align: right;\">\n",
              "      <th></th>\n",
              "      <th>Airline</th>\n",
              "      <th>Date_of_Journey</th>\n",
              "      <th>Source</th>\n",
              "      <th>Destination</th>\n",
              "      <th>Route</th>\n",
              "      <th>Dep_Time</th>\n",
              "      <th>Arrival_Time</th>\n",
              "      <th>Duration</th>\n",
              "      <th>Total_Stops</th>\n",
              "      <th>Additional_Info</th>\n",
              "    </tr>\n",
              "  </thead>\n",
              "  <tbody>\n",
              "    <tr>\n",
              "      <th>1313</th>\n",
              "      <td>Jet Airways</td>\n",
              "      <td>24/06/2019</td>\n",
              "      <td>Delhi</td>\n",
              "      <td>Cochin</td>\n",
              "      <td>DEL → JAI → BOM → COK</td>\n",
              "      <td>05:30</td>\n",
              "      <td>19:00</td>\n",
              "      <td>13h 30m</td>\n",
              "      <td>2 stops</td>\n",
              "      <td>In-flight meal not included</td>\n",
              "    </tr>\n",
              "    <tr>\n",
              "      <th>2162</th>\n",
              "      <td>GoAir</td>\n",
              "      <td>1/06/2019</td>\n",
              "      <td>Delhi</td>\n",
              "      <td>Cochin</td>\n",
              "      <td>DEL → BOM → COK</td>\n",
              "      <td>10:35</td>\n",
              "      <td>19:35</td>\n",
              "      <td>9h</td>\n",
              "      <td>1 stop</td>\n",
              "      <td>No info</td>\n",
              "    </tr>\n",
              "    <tr>\n",
              "      <th>794</th>\n",
              "      <td>Jet Airways</td>\n",
              "      <td>12/06/2019</td>\n",
              "      <td>Delhi</td>\n",
              "      <td>Cochin</td>\n",
              "      <td>DEL → JAI → BOM → COK</td>\n",
              "      <td>05:30</td>\n",
              "      <td>04:25 13 Jun</td>\n",
              "      <td>22h 55m</td>\n",
              "      <td>2 stops</td>\n",
              "      <td>In-flight meal not included</td>\n",
              "    </tr>\n",
              "    <tr>\n",
              "      <th>2069</th>\n",
              "      <td>Air India</td>\n",
              "      <td>12/03/2019</td>\n",
              "      <td>Mumbai</td>\n",
              "      <td>Hyderabad</td>\n",
              "      <td>BOM → BLR → HYD</td>\n",
              "      <td>16:50</td>\n",
              "      <td>09:15 13 Mar</td>\n",
              "      <td>16h 25m</td>\n",
              "      <td>1 stop</td>\n",
              "      <td>No info</td>\n",
              "    </tr>\n",
              "    <tr>\n",
              "      <th>96</th>\n",
              "      <td>Jet Airways</td>\n",
              "      <td>15/06/2019</td>\n",
              "      <td>Delhi</td>\n",
              "      <td>Cochin</td>\n",
              "      <td>DEL → BOM → COK</td>\n",
              "      <td>15:00</td>\n",
              "      <td>04:25 16 Jun</td>\n",
              "      <td>13h 25m</td>\n",
              "      <td>1 stop</td>\n",
              "      <td>In-flight meal not included</td>\n",
              "    </tr>\n",
              "  </tbody>\n",
              "</table>\n",
              "</div>"
            ],
            "text/plain": [
              "          Airline Date_of_Journey  ... Total_Stops              Additional_Info\n",
              "1313  Jet Airways      24/06/2019  ...     2 stops  In-flight meal not included\n",
              "2162        GoAir       1/06/2019  ...      1 stop                      No info\n",
              "794   Jet Airways      12/06/2019  ...     2 stops  In-flight meal not included\n",
              "2069    Air India      12/03/2019  ...      1 stop                      No info\n",
              "96    Jet Airways      15/06/2019  ...      1 stop  In-flight meal not included\n",
              "\n",
              "[5 rows x 10 columns]"
            ]
          },
          "metadata": {
            "tags": []
          },
          "execution_count": 9
        }
      ]
    },
    {
      "cell_type": "markdown",
      "metadata": {
        "id": "22DzESIV27JE"
      },
      "source": [
        "### Combining datasets into one dataset"
      ]
    },
    {
      "cell_type": "markdown",
      "metadata": {
        "id": "tGqqH1My27JF"
      },
      "source": [
        "We will combine test dataset and train dataset so as to work on both datasets at same time. "
      ]
    },
    {
      "cell_type": "code",
      "metadata": {
        "id": "14gkdHxA27JG"
      },
      "source": [
        "combined_df = train_df.append(test_df)\n",
        "combined_df.reset_index(inplace=True)"
      ],
      "execution_count": 10,
      "outputs": []
    },
    {
      "cell_type": "code",
      "metadata": {
        "id": "1VbX6oxx27JQ",
        "outputId": "0a2fe436-4934-4020-d13a-cd9607f5c3ed",
        "colab": {
          "base_uri": "https://localhost:8080/",
          "height": 35
        }
      },
      "source": [
        "combined_df.shape"
      ],
      "execution_count": 11,
      "outputs": [
        {
          "output_type": "execute_result",
          "data": {
            "text/plain": [
              "(13354, 12)"
            ]
          },
          "metadata": {
            "tags": []
          },
          "execution_count": 11
        }
      ]
    },
    {
      "cell_type": "code",
      "metadata": {
        "id": "q5xJ0Msz27JX",
        "outputId": "fd9329e7-42f0-460d-ab75-9d96db6112a0",
        "colab": {
          "base_uri": "https://localhost:8080/",
          "height": 178
        }
      },
      "source": [
        "combined_df.sample(3)"
      ],
      "execution_count": 12,
      "outputs": [
        {
          "output_type": "execute_result",
          "data": {
            "text/html": [
              "<div>\n",
              "<style scoped>\n",
              "    .dataframe tbody tr th:only-of-type {\n",
              "        vertical-align: middle;\n",
              "    }\n",
              "\n",
              "    .dataframe tbody tr th {\n",
              "        vertical-align: top;\n",
              "    }\n",
              "\n",
              "    .dataframe thead th {\n",
              "        text-align: right;\n",
              "    }\n",
              "</style>\n",
              "<table border=\"1\" class=\"dataframe\">\n",
              "  <thead>\n",
              "    <tr style=\"text-align: right;\">\n",
              "      <th></th>\n",
              "      <th>index</th>\n",
              "      <th>Airline</th>\n",
              "      <th>Date_of_Journey</th>\n",
              "      <th>Source</th>\n",
              "      <th>Destination</th>\n",
              "      <th>Route</th>\n",
              "      <th>Dep_Time</th>\n",
              "      <th>Arrival_Time</th>\n",
              "      <th>Duration</th>\n",
              "      <th>Total_Stops</th>\n",
              "      <th>Additional_Info</th>\n",
              "      <th>Price</th>\n",
              "    </tr>\n",
              "  </thead>\n",
              "  <tbody>\n",
              "    <tr>\n",
              "      <th>10187</th>\n",
              "      <td>10187</td>\n",
              "      <td>Jet Airways</td>\n",
              "      <td>3/03/2019</td>\n",
              "      <td>Delhi</td>\n",
              "      <td>Cochin</td>\n",
              "      <td>DEL → IDR → BOM → COK</td>\n",
              "      <td>05:25</td>\n",
              "      <td>18:50</td>\n",
              "      <td>13h 25m</td>\n",
              "      <td>2 stops</td>\n",
              "      <td>No info</td>\n",
              "      <td>18799.0</td>\n",
              "    </tr>\n",
              "    <tr>\n",
              "      <th>11125</th>\n",
              "      <td>442</td>\n",
              "      <td>Jet Airways</td>\n",
              "      <td>9/05/2019</td>\n",
              "      <td>Kolkata</td>\n",
              "      <td>Banglore</td>\n",
              "      <td>CCU → DEL → BLR</td>\n",
              "      <td>09:35</td>\n",
              "      <td>19:10</td>\n",
              "      <td>9h 35m</td>\n",
              "      <td>1 stop</td>\n",
              "      <td>No info</td>\n",
              "      <td>NaN</td>\n",
              "    </tr>\n",
              "    <tr>\n",
              "      <th>11728</th>\n",
              "      <td>1045</td>\n",
              "      <td>Air Asia</td>\n",
              "      <td>6/05/2019</td>\n",
              "      <td>Kolkata</td>\n",
              "      <td>Banglore</td>\n",
              "      <td>CCU → BLR</td>\n",
              "      <td>22:50</td>\n",
              "      <td>01:20 07 May</td>\n",
              "      <td>2h 30m</td>\n",
              "      <td>non-stop</td>\n",
              "      <td>No info</td>\n",
              "      <td>NaN</td>\n",
              "    </tr>\n",
              "  </tbody>\n",
              "</table>\n",
              "</div>"
            ],
            "text/plain": [
              "       index      Airline Date_of_Journey  ... Total_Stops Additional_Info    Price\n",
              "10187  10187  Jet Airways       3/03/2019  ...     2 stops         No info  18799.0\n",
              "11125    442  Jet Airways       9/05/2019  ...      1 stop         No info      NaN\n",
              "11728   1045     Air Asia       6/05/2019  ...    non-stop         No info      NaN\n",
              "\n",
              "[3 rows x 12 columns]"
            ]
          },
          "metadata": {
            "tags": []
          },
          "execution_count": 12
        }
      ]
    },
    {
      "cell_type": "markdown",
      "metadata": {
        "id": "CqbqiY-C27Jg"
      },
      "source": [
        "## Data Wrangling, EDA and Feature Engineering"
      ]
    },
    {
      "cell_type": "code",
      "metadata": {
        "scrolled": false,
        "id": "Jxlqnb6827Jh",
        "outputId": "e474fd24-9707-40a0-a670-61a94c0c49be",
        "colab": {
          "base_uri": "https://localhost:8080/",
          "height": 356
        }
      },
      "source": [
        "combined_df.info()"
      ],
      "execution_count": 13,
      "outputs": [
        {
          "output_type": "stream",
          "text": [
            "<class 'pandas.core.frame.DataFrame'>\n",
            "RangeIndex: 13354 entries, 0 to 13353\n",
            "Data columns (total 12 columns):\n",
            " #   Column           Non-Null Count  Dtype  \n",
            "---  ------           --------------  -----  \n",
            " 0   index            13354 non-null  int64  \n",
            " 1   Airline          13354 non-null  object \n",
            " 2   Date_of_Journey  13354 non-null  object \n",
            " 3   Source           13354 non-null  object \n",
            " 4   Destination      13354 non-null  object \n",
            " 5   Route            13353 non-null  object \n",
            " 6   Dep_Time         13354 non-null  object \n",
            " 7   Arrival_Time     13354 non-null  object \n",
            " 8   Duration         13354 non-null  object \n",
            " 9   Total_Stops      13353 non-null  object \n",
            " 10  Additional_Info  13354 non-null  object \n",
            " 11  Price            10683 non-null  float64\n",
            "dtypes: float64(1), int64(1), object(10)\n",
            "memory usage: 1.2+ MB\n"
          ],
          "name": "stdout"
        }
      ]
    },
    {
      "cell_type": "markdown",
      "metadata": {
        "id": "8NQhLprP27Jo"
      },
      "source": [
        "The \"Price\" column is __Target Variable__ which has to be predicted in test dataset. The other variables are features.\n",
        "\n",
        "Additional_Info : Info about type of meal or any other service passenger is willing to opt.\n",
        "\n",
        "- Airline: __Name of the airline__\n",
        "- Arrival_Time      \n",
        "- Date_of_Journey  \n",
        "- Dep_Time:__Time of Departure___\n",
        "- Destination\n",
        "- Source  \n",
        "- Duration: __Total duration of the flight___\n",
        "- Route: __Flight will travel via these cities__\n",
        "- Total_Stops:__Total stops flight will have in the journey___\n"
      ]
    },
    {
      "cell_type": "code",
      "metadata": {
        "scrolled": true,
        "id": "Jx1XlkNM27Jq",
        "outputId": "d076d03c-8c9f-4f1c-c0d1-88ca6c29e1aa",
        "colab": {
          "base_uri": "https://localhost:8080/",
          "height": 300
        }
      },
      "source": [
        "combined_df.describe()"
      ],
      "execution_count": 14,
      "outputs": [
        {
          "output_type": "execute_result",
          "data": {
            "text/html": [
              "<div>\n",
              "<style scoped>\n",
              "    .dataframe tbody tr th:only-of-type {\n",
              "        vertical-align: middle;\n",
              "    }\n",
              "\n",
              "    .dataframe tbody tr th {\n",
              "        vertical-align: top;\n",
              "    }\n",
              "\n",
              "    .dataframe thead th {\n",
              "        text-align: right;\n",
              "    }\n",
              "</style>\n",
              "<table border=\"1\" class=\"dataframe\">\n",
              "  <thead>\n",
              "    <tr style=\"text-align: right;\">\n",
              "      <th></th>\n",
              "      <th>index</th>\n",
              "      <th>Price</th>\n",
              "    </tr>\n",
              "  </thead>\n",
              "  <tbody>\n",
              "    <tr>\n",
              "      <th>count</th>\n",
              "      <td>13354.000000</td>\n",
              "      <td>10683.000000</td>\n",
              "    </tr>\n",
              "    <tr>\n",
              "      <th>mean</th>\n",
              "      <td>4539.740003</td>\n",
              "      <td>9087.064121</td>\n",
              "    </tr>\n",
              "    <tr>\n",
              "      <th>std</th>\n",
              "      <td>3208.707521</td>\n",
              "      <td>4611.359167</td>\n",
              "    </tr>\n",
              "    <tr>\n",
              "      <th>min</th>\n",
              "      <td>0.000000</td>\n",
              "      <td>1759.000000</td>\n",
              "    </tr>\n",
              "    <tr>\n",
              "      <th>25%</th>\n",
              "      <td>1669.000000</td>\n",
              "      <td>5277.000000</td>\n",
              "    </tr>\n",
              "    <tr>\n",
              "      <th>50%</th>\n",
              "      <td>4005.500000</td>\n",
              "      <td>8372.000000</td>\n",
              "    </tr>\n",
              "    <tr>\n",
              "      <th>75%</th>\n",
              "      <td>7343.750000</td>\n",
              "      <td>12373.000000</td>\n",
              "    </tr>\n",
              "    <tr>\n",
              "      <th>max</th>\n",
              "      <td>10682.000000</td>\n",
              "      <td>79512.000000</td>\n",
              "    </tr>\n",
              "  </tbody>\n",
              "</table>\n",
              "</div>"
            ],
            "text/plain": [
              "              index         Price\n",
              "count  13354.000000  10683.000000\n",
              "mean    4539.740003   9087.064121\n",
              "std     3208.707521   4611.359167\n",
              "min        0.000000   1759.000000\n",
              "25%     1669.000000   5277.000000\n",
              "50%     4005.500000   8372.000000\n",
              "75%     7343.750000  12373.000000\n",
              "max    10682.000000  79512.000000"
            ]
          },
          "metadata": {
            "tags": []
          },
          "execution_count": 14
        }
      ]
    },
    {
      "cell_type": "markdown",
      "metadata": {
        "id": "vV_frMAd27KQ"
      },
      "source": [
        "_We can see only 'Index' and 'Price' columns are in numeric format._"
      ]
    },
    {
      "cell_type": "markdown",
      "metadata": {
        "id": "47lGdsJ727KV"
      },
      "source": [
        "### Processing Date Column"
      ]
    },
    {
      "cell_type": "markdown",
      "metadata": {
        "id": "S3aR5uSv27KZ"
      },
      "source": [
        "Date of Journey column is in dd/mm/yyyy format but its datatype is object. We need to convert this column into datetime datatype."
      ]
    },
    {
      "cell_type": "code",
      "metadata": {
        "id": "lZCVvNeg27Kc"
      },
      "source": [
        "combined_df['Date_of_Journey'] =  pd.to_datetime(combined_df['Date_of_Journey'],format ='%d/%m/%Y')"
      ],
      "execution_count": 15,
      "outputs": []
    },
    {
      "cell_type": "code",
      "metadata": {
        "id": "dSi-GXuV27Ko"
      },
      "source": [
        "## Splitting Date \n",
        "\n",
        "combined_df['Date'] = combined_df['Date_of_Journey'].dt.day.astype(int)\n",
        "combined_df['Month'] = combined_df['Date_of_Journey'].dt.month.astype(int)\n",
        "combined_df['Year'] = combined_df['Date_of_Journey'].dt.year.astype(int)"
      ],
      "execution_count": 16,
      "outputs": []
    },
    {
      "cell_type": "code",
      "metadata": {
        "id": "PhoK89if27Kx",
        "outputId": "14c09357-1ac1-4eb1-d5f0-774847585dd5",
        "colab": {
          "base_uri": "https://localhost:8080/",
          "height": 182
        }
      },
      "source": [
        "combined_df.sample(2)"
      ],
      "execution_count": 17,
      "outputs": [
        {
          "output_type": "execute_result",
          "data": {
            "text/html": [
              "<div>\n",
              "<style scoped>\n",
              "    .dataframe tbody tr th:only-of-type {\n",
              "        vertical-align: middle;\n",
              "    }\n",
              "\n",
              "    .dataframe tbody tr th {\n",
              "        vertical-align: top;\n",
              "    }\n",
              "\n",
              "    .dataframe thead th {\n",
              "        text-align: right;\n",
              "    }\n",
              "</style>\n",
              "<table border=\"1\" class=\"dataframe\">\n",
              "  <thead>\n",
              "    <tr style=\"text-align: right;\">\n",
              "      <th></th>\n",
              "      <th>index</th>\n",
              "      <th>Airline</th>\n",
              "      <th>Date_of_Journey</th>\n",
              "      <th>Source</th>\n",
              "      <th>Destination</th>\n",
              "      <th>Route</th>\n",
              "      <th>Dep_Time</th>\n",
              "      <th>Arrival_Time</th>\n",
              "      <th>Duration</th>\n",
              "      <th>Total_Stops</th>\n",
              "      <th>Additional_Info</th>\n",
              "      <th>Price</th>\n",
              "      <th>Date</th>\n",
              "      <th>Month</th>\n",
              "      <th>Year</th>\n",
              "    </tr>\n",
              "  </thead>\n",
              "  <tbody>\n",
              "    <tr>\n",
              "      <th>2741</th>\n",
              "      <td>2741</td>\n",
              "      <td>IndiGo</td>\n",
              "      <td>2019-06-12</td>\n",
              "      <td>Delhi</td>\n",
              "      <td>Cochin</td>\n",
              "      <td>DEL → BOM → COK</td>\n",
              "      <td>09:15</td>\n",
              "      <td>21:00</td>\n",
              "      <td>11h 45m</td>\n",
              "      <td>1 stop</td>\n",
              "      <td>No info</td>\n",
              "      <td>6838.0</td>\n",
              "      <td>12</td>\n",
              "      <td>6</td>\n",
              "      <td>2019</td>\n",
              "    </tr>\n",
              "    <tr>\n",
              "      <th>9444</th>\n",
              "      <td>9444</td>\n",
              "      <td>Multiple carriers</td>\n",
              "      <td>2019-03-09</td>\n",
              "      <td>Delhi</td>\n",
              "      <td>Cochin</td>\n",
              "      <td>DEL → HYD → COK</td>\n",
              "      <td>09:45</td>\n",
              "      <td>16:10</td>\n",
              "      <td>6h 25m</td>\n",
              "      <td>1 stop</td>\n",
              "      <td>No info</td>\n",
              "      <td>8386.0</td>\n",
              "      <td>9</td>\n",
              "      <td>3</td>\n",
              "      <td>2019</td>\n",
              "    </tr>\n",
              "  </tbody>\n",
              "</table>\n",
              "</div>"
            ],
            "text/plain": [
              "      index            Airline Date_of_Journey  ... Date Month  Year\n",
              "2741   2741             IndiGo      2019-06-12  ...   12     6  2019\n",
              "9444   9444  Multiple carriers      2019-03-09  ...    9     3  2019\n",
              "\n",
              "[2 rows x 15 columns]"
            ]
          },
          "metadata": {
            "tags": []
          },
          "execution_count": 17
        }
      ]
    },
    {
      "cell_type": "markdown",
      "metadata": {
        "id": "aqZbiJ5p27K3"
      },
      "source": [
        "__As we have extracted Date, Month & Year from 'Date_of_Journey' column, we can drop this column.__"
      ]
    },
    {
      "cell_type": "code",
      "metadata": {
        "id": "0HjMfl9M27K3"
      },
      "source": [
        "combined_df = combined_df.drop(['Date_of_Journey'], axis=1)"
      ],
      "execution_count": 18,
      "outputs": []
    },
    {
      "cell_type": "code",
      "metadata": {
        "scrolled": true,
        "id": "JmvdYm0a27K9",
        "outputId": "70c2a42c-3b6f-485c-ea47-08035350ee89",
        "colab": {
          "base_uri": "https://localhost:8080/",
          "height": 147
        }
      },
      "source": [
        "combined_df.sample(2)"
      ],
      "execution_count": 19,
      "outputs": [
        {
          "output_type": "execute_result",
          "data": {
            "text/html": [
              "<div>\n",
              "<style scoped>\n",
              "    .dataframe tbody tr th:only-of-type {\n",
              "        vertical-align: middle;\n",
              "    }\n",
              "\n",
              "    .dataframe tbody tr th {\n",
              "        vertical-align: top;\n",
              "    }\n",
              "\n",
              "    .dataframe thead th {\n",
              "        text-align: right;\n",
              "    }\n",
              "</style>\n",
              "<table border=\"1\" class=\"dataframe\">\n",
              "  <thead>\n",
              "    <tr style=\"text-align: right;\">\n",
              "      <th></th>\n",
              "      <th>index</th>\n",
              "      <th>Airline</th>\n",
              "      <th>Source</th>\n",
              "      <th>Destination</th>\n",
              "      <th>Route</th>\n",
              "      <th>Dep_Time</th>\n",
              "      <th>Arrival_Time</th>\n",
              "      <th>Duration</th>\n",
              "      <th>Total_Stops</th>\n",
              "      <th>Additional_Info</th>\n",
              "      <th>Price</th>\n",
              "      <th>Date</th>\n",
              "      <th>Month</th>\n",
              "      <th>Year</th>\n",
              "    </tr>\n",
              "  </thead>\n",
              "  <tbody>\n",
              "    <tr>\n",
              "      <th>3099</th>\n",
              "      <td>3099</td>\n",
              "      <td>Jet Airways</td>\n",
              "      <td>Mumbai</td>\n",
              "      <td>Hyderabad</td>\n",
              "      <td>BOM → HYD</td>\n",
              "      <td>19:35</td>\n",
              "      <td>21:05</td>\n",
              "      <td>1h 30m</td>\n",
              "      <td>non-stop</td>\n",
              "      <td>In-flight meal not included</td>\n",
              "      <td>2228.0</td>\n",
              "      <td>1</td>\n",
              "      <td>5</td>\n",
              "      <td>2019</td>\n",
              "    </tr>\n",
              "    <tr>\n",
              "      <th>2047</th>\n",
              "      <td>2047</td>\n",
              "      <td>Multiple carriers</td>\n",
              "      <td>Delhi</td>\n",
              "      <td>Cochin</td>\n",
              "      <td>DEL → BOM → COK</td>\n",
              "      <td>10:00</td>\n",
              "      <td>21:00</td>\n",
              "      <td>11h</td>\n",
              "      <td>1 stop</td>\n",
              "      <td>No info</td>\n",
              "      <td>7408.0</td>\n",
              "      <td>9</td>\n",
              "      <td>6</td>\n",
              "      <td>2019</td>\n",
              "    </tr>\n",
              "  </tbody>\n",
              "</table>\n",
              "</div>"
            ],
            "text/plain": [
              "      index            Airline  Source Destination  ...   Price Date Month  Year\n",
              "3099   3099        Jet Airways  Mumbai   Hyderabad  ...  2228.0    1     5  2019\n",
              "2047   2047  Multiple carriers   Delhi      Cochin  ...  7408.0    9     6  2019\n",
              "\n",
              "[2 rows x 14 columns]"
            ]
          },
          "metadata": {
            "tags": []
          },
          "execution_count": 19
        }
      ]
    },
    {
      "cell_type": "markdown",
      "metadata": {
        "id": "a3t9Yo5f27LF"
      },
      "source": [
        "### Processing Price Column"
      ]
    },
    {
      "cell_type": "code",
      "metadata": {
        "id": "dNJCawul27LH",
        "outputId": "a5ecb075-e7ed-422f-fdcf-4d0e9f06cc43",
        "colab": {
          "base_uri": "https://localhost:8080/",
          "height": 0
        }
      },
      "source": [
        "combined_df.isna().sum()"
      ],
      "execution_count": 20,
      "outputs": [
        {
          "output_type": "execute_result",
          "data": {
            "text/plain": [
              "index                 0\n",
              "Airline               0\n",
              "Source                0\n",
              "Destination           0\n",
              "Route                 1\n",
              "Dep_Time              0\n",
              "Arrival_Time          0\n",
              "Duration              0\n",
              "Total_Stops           1\n",
              "Additional_Info       0\n",
              "Price              2671\n",
              "Date                  0\n",
              "Month                 0\n",
              "Year                  0\n",
              "dtype: int64"
            ]
          },
          "metadata": {
            "tags": []
          },
          "execution_count": 20
        }
      ]
    },
    {
      "cell_type": "markdown",
      "metadata": {
        "id": "tJz-jE2w27LM"
      },
      "source": [
        "Let's replace NA values in Price column with mean value."
      ]
    },
    {
      "cell_type": "code",
      "metadata": {
        "id": "I_dazsLZ27LO"
      },
      "source": [
        "combined_df['Price'].fillna((combined_df['Price'].mean()), inplace=True)"
      ],
      "execution_count": 21,
      "outputs": []
    },
    {
      "cell_type": "markdown",
      "metadata": {
        "id": "h2SHiJQ927LV"
      },
      "source": [
        "### Plot \n",
        "\n",
        "Let's try to do some analytics by plotting a graph."
      ]
    },
    {
      "cell_type": "code",
      "metadata": {
        "scrolled": true,
        "id": "T19T9u8U27LW",
        "outputId": "5923b779-a882-4a08-aa79-bf48c746daea",
        "colab": {
          "base_uri": "https://localhost:8080/",
          "height": 0
        }
      },
      "source": [
        "sns.jointplot(x=\"Date\", y=\"Price\" ,kind = 'reg', data=combined_df);"
      ],
      "execution_count": 22,
      "outputs": [
        {
          "output_type": "display_data",
          "data": {
            "image/png": "[encoded data removed]",
            "text/plain": [
              "<Figure size 432x432 with 3 Axes>"
            ]
          },
          "metadata": {
            "tags": [],
            "needs_background": "light"
          }
        }
      ]
    },
    {
      "cell_type": "markdown",
      "metadata": {
        "id": "5kDJTMtF27Lc"
      },
      "source": [
        "Above plot describes that Ticket fares are slightly cheaper in mid of the month as compared to start and end of the month. Majority of tickets are of the range Rs. 1700 to Rs.18000. There is light negative corelation between Ticket Price and Date."
      ]
    },
    {
      "cell_type": "markdown",
      "metadata": {
        "id": "RHOe1ga827Lg"
      },
      "source": [
        "### Processing Arrival_Time & Dep_Time Columns"
      ]
    },
    {
      "cell_type": "markdown",
      "metadata": {
        "id": "NvEHd2bt27Lh"
      },
      "source": [
        "__In 'Arrival_Time' column, the time is in combined format of Date & time but we don't need date from it so we will strip date and extract only time from it.__"
      ]
    },
    {
      "cell_type": "code",
      "metadata": {
        "id": "M7w--lOC27Ln"
      },
      "source": [
        "combined_df['Arrival_Time'] = combined_df['Arrival_Time'] .str.split(' ').str[0]"
      ],
      "execution_count": 23,
      "outputs": []
    },
    {
      "cell_type": "markdown",
      "metadata": {
        "id": "Eu8mAld827Lt"
      },
      "source": [
        "Extracting 'Hour' & \"Minutes' in separate columns from \"Arrival_Time\" and \"Dep_Time\"."
      ]
    },
    {
      "cell_type": "code",
      "metadata": {
        "id": "uL-UcZPO27Lu"
      },
      "source": [
        "combined_df['Arrival_Hour'] = combined_df['Arrival_Time'] .str.split(':').str[0].astype(int)\n",
        "combined_df['Arrival_Minute'] = combined_df['Arrival_Time'] .str.split(':').str[1].astype(int)"
      ],
      "execution_count": 24,
      "outputs": []
    },
    {
      "cell_type": "code",
      "metadata": {
        "id": "8xrawiDi27L1"
      },
      "source": [
        "combined_df=combined_df.drop(['Arrival_Time'], axis=1)"
      ],
      "execution_count": 25,
      "outputs": []
    },
    {
      "cell_type": "code",
      "metadata": {
        "id": "ss8xrg4z27L7"
      },
      "source": [
        "combined_df['Dep_Hour'] = combined_df['Dep_Time'] .str.split(':').str[0].astype(int)\n",
        "combined_df['Dep_Minute'] = combined_df['Dep_Time'] .str.split(':').str[1].astype(int)\n",
        "combined_df=combined_df.drop(['Dep_Time'], axis=1)"
      ],
      "execution_count": 26,
      "outputs": []
    },
    {
      "cell_type": "markdown",
      "metadata": {
        "id": "TQOO0e8D27MB"
      },
      "source": [
        "### Processing 'Total Stop' Column"
      ]
    },
    {
      "cell_type": "markdown",
      "metadata": {
        "id": "CL65YRbL27MC"
      },
      "source": [
        "__'Total Stop' column contains values such as '2 Stop', '1 Stop', 'non-stop', we will replace 'non stop' with '0 stop' and get only integers out of values.__"
      ]
    },
    {
      "cell_type": "code",
      "metadata": {
        "id": "aIxKaNUI27ME"
      },
      "source": [
        "combined_df['Total_Stops'] = combined_df['Total_Stops'].fillna('1 stop')"
      ],
      "execution_count": 27,
      "outputs": []
    },
    {
      "cell_type": "code",
      "metadata": {
        "id": "sSN0xpsh27MJ"
      },
      "source": [
        "combined_df['Total_Stops']=combined_df['Total_Stops'].replace('non-stop','0 stop')"
      ],
      "execution_count": 28,
      "outputs": []
    },
    {
      "cell_type": "code",
      "metadata": {
        "id": "oJ4rYDTl27MP"
      },
      "source": [
        "combined_df['Stop'] = combined_df['Total_Stops'].str.split(' ').str[0].astype(int)"
      ],
      "execution_count": 29,
      "outputs": []
    },
    {
      "cell_type": "code",
      "metadata": {
        "id": "krAxQw8N27MW"
      },
      "source": [
        "# 'Total_Stops' can be dropped as we have extracted numeric values in 'Stop' \n",
        "\n",
        "combined_df=combined_df.drop(['Total_Stops'], axis=1) "
      ],
      "execution_count": 30,
      "outputs": []
    },
    {
      "cell_type": "markdown",
      "metadata": {
        "id": "yrQeXSLW27Md"
      },
      "source": [
        "### Processing Route Column"
      ]
    },
    {
      "cell_type": "markdown",
      "metadata": {
        "id": "B_MivFGV27Me"
      },
      "source": [
        "We need to eliminate \"→\" symbol from 'Route' column and extract city names"
      ]
    },
    {
      "cell_type": "code",
      "metadata": {
        "id": "FdTeZUT827Mg"
      },
      "source": [
        "combined_df['Route_1'] = combined_df['Route'] .str.split('→ ').str[0]\n",
        "combined_df['Route_2'] = combined_df['Route'] .str.split('→ ').str[1]\n",
        "combined_df['Route_3'] = combined_df['Route'] .str.split('→ ').str[2]\n",
        "combined_df['Route_4'] = combined_df['Route'] .str.split('→ ').str[3]\n",
        "combined_df['Route_5'] = combined_df['Route'] .str.split('→ ').str[4]"
      ],
      "execution_count": 31,
      "outputs": []
    },
    {
      "cell_type": "markdown",
      "metadata": {
        "id": "RIqGiCiE27Mn"
      },
      "source": [
        "Let's replace NA values in 'Route_n' columns with mean None."
      ]
    },
    {
      "cell_type": "code",
      "metadata": {
        "id": "AikLC-T-27Mo"
      },
      "source": [
        "combined_df['Route_1'].fillna(\"None\",inplace = True)\n",
        "combined_df['Route_2'].fillna(\"None\",inplace = True)\n",
        "combined_df['Route_3'].fillna(\"None\",inplace = True)\n",
        "combined_df['Route_4'].fillna(\"None\",inplace = True)\n",
        "combined_df['Route_5'].fillna(\"None\",inplace = True)"
      ],
      "execution_count": 32,
      "outputs": []
    },
    {
      "cell_type": "code",
      "metadata": {
        "id": "AXvG_KS927Mt",
        "outputId": "669edd86-b435-41fc-96fb-ef7bb0f91e07",
        "colab": {
          "base_uri": "https://localhost:8080/",
          "height": 0
        }
      },
      "source": [
        "combined_df.describe()"
      ],
      "execution_count": 33,
      "outputs": [
        {
          "output_type": "execute_result",
          "data": {
            "text/html": [
              "<div>\n",
              "<style scoped>\n",
              "    .dataframe tbody tr th:only-of-type {\n",
              "        vertical-align: middle;\n",
              "    }\n",
              "\n",
              "    .dataframe tbody tr th {\n",
              "        vertical-align: top;\n",
              "    }\n",
              "\n",
              "    .dataframe thead th {\n",
              "        text-align: right;\n",
              "    }\n",
              "</style>\n",
              "<table border=\"1\" class=\"dataframe\">\n",
              "  <thead>\n",
              "    <tr style=\"text-align: right;\">\n",
              "      <th></th>\n",
              "      <th>index</th>\n",
              "      <th>Price</th>\n",
              "      <th>Date</th>\n",
              "      <th>Month</th>\n",
              "      <th>Year</th>\n",
              "      <th>Arrival_Hour</th>\n",
              "      <th>Arrival_Minute</th>\n",
              "      <th>Dep_Hour</th>\n",
              "      <th>Dep_Minute</th>\n",
              "      <th>Stop</th>\n",
              "    </tr>\n",
              "  </thead>\n",
              "  <tbody>\n",
              "    <tr>\n",
              "      <th>count</th>\n",
              "      <td>13354.000000</td>\n",
              "      <td>13354.000000</td>\n",
              "      <td>13354.000000</td>\n",
              "      <td>13354.000000</td>\n",
              "      <td>13354.0</td>\n",
              "      <td>13354.000000</td>\n",
              "      <td>13354.000000</td>\n",
              "      <td>13354.000000</td>\n",
              "      <td>13354.000000</td>\n",
              "      <td>13354.000000</td>\n",
              "    </tr>\n",
              "    <tr>\n",
              "      <th>mean</th>\n",
              "      <td>4539.740003</td>\n",
              "      <td>9087.064121</td>\n",
              "      <td>13.389846</td>\n",
              "      <td>4.710574</td>\n",
              "      <td>2019.0</td>\n",
              "      <td>13.396061</td>\n",
              "      <td>24.664146</td>\n",
              "      <td>12.513254</td>\n",
              "      <td>24.507264</td>\n",
              "      <td>0.826045</td>\n",
              "    </tr>\n",
              "    <tr>\n",
              "      <th>std</th>\n",
              "      <td>3208.707521</td>\n",
              "      <td>4124.447805</td>\n",
              "      <td>8.439060</td>\n",
              "      <td>1.165622</td>\n",
              "      <td>0.0</td>\n",
              "      <td>6.896145</td>\n",
              "      <td>16.559723</td>\n",
              "      <td>5.736273</td>\n",
              "      <td>18.832385</td>\n",
              "      <td>0.674608</td>\n",
              "    </tr>\n",
              "    <tr>\n",
              "      <th>min</th>\n",
              "      <td>0.000000</td>\n",
              "      <td>1759.000000</td>\n",
              "      <td>1.000000</td>\n",
              "      <td>3.000000</td>\n",
              "      <td>2019.0</td>\n",
              "      <td>0.000000</td>\n",
              "      <td>0.000000</td>\n",
              "      <td>0.000000</td>\n",
              "      <td>0.000000</td>\n",
              "      <td>0.000000</td>\n",
              "    </tr>\n",
              "    <tr>\n",
              "      <th>25%</th>\n",
              "      <td>1669.000000</td>\n",
              "      <td>6135.250000</td>\n",
              "      <td>6.000000</td>\n",
              "      <td>3.000000</td>\n",
              "      <td>2019.0</td>\n",
              "      <td>8.000000</td>\n",
              "      <td>10.000000</td>\n",
              "      <td>8.000000</td>\n",
              "      <td>5.000000</td>\n",
              "      <td>0.000000</td>\n",
              "    </tr>\n",
              "    <tr>\n",
              "      <th>50%</th>\n",
              "      <td>4005.500000</td>\n",
              "      <td>9087.064121</td>\n",
              "      <td>12.000000</td>\n",
              "      <td>5.000000</td>\n",
              "      <td>2019.0</td>\n",
              "      <td>14.000000</td>\n",
              "      <td>25.000000</td>\n",
              "      <td>11.000000</td>\n",
              "      <td>25.000000</td>\n",
              "      <td>1.000000</td>\n",
              "    </tr>\n",
              "    <tr>\n",
              "      <th>75%</th>\n",
              "      <td>7343.750000</td>\n",
              "      <td>11087.000000</td>\n",
              "      <td>21.000000</td>\n",
              "      <td>6.000000</td>\n",
              "      <td>2019.0</td>\n",
              "      <td>19.000000</td>\n",
              "      <td>35.000000</td>\n",
              "      <td>18.000000</td>\n",
              "      <td>40.000000</td>\n",
              "      <td>1.000000</td>\n",
              "    </tr>\n",
              "    <tr>\n",
              "      <th>max</th>\n",
              "      <td>10682.000000</td>\n",
              "      <td>79512.000000</td>\n",
              "      <td>27.000000</td>\n",
              "      <td>6.000000</td>\n",
              "      <td>2019.0</td>\n",
              "      <td>23.000000</td>\n",
              "      <td>55.000000</td>\n",
              "      <td>23.000000</td>\n",
              "      <td>55.000000</td>\n",
              "      <td>4.000000</td>\n",
              "    </tr>\n",
              "  </tbody>\n",
              "</table>\n",
              "</div>"
            ],
            "text/plain": [
              "              index         Price  ...    Dep_Minute          Stop\n",
              "count  13354.000000  13354.000000  ...  13354.000000  13354.000000\n",
              "mean    4539.740003   9087.064121  ...     24.507264      0.826045\n",
              "std     3208.707521   4124.447805  ...     18.832385      0.674608\n",
              "min        0.000000   1759.000000  ...      0.000000      0.000000\n",
              "25%     1669.000000   6135.250000  ...      5.000000      0.000000\n",
              "50%     4005.500000   9087.064121  ...     25.000000      1.000000\n",
              "75%     7343.750000  11087.000000  ...     40.000000      1.000000\n",
              "max    10682.000000  79512.000000  ...     55.000000      4.000000\n",
              "\n",
              "[8 rows x 10 columns]"
            ]
          },
          "metadata": {
            "tags": []
          },
          "execution_count": 33
        }
      ]
    },
    {
      "cell_type": "markdown",
      "metadata": {
        "id": "ILnCYXbY27M0"
      },
      "source": [
        "### Encoding "
      ]
    },
    {
      "cell_type": "markdown",
      "metadata": {
        "id": "cwP0rkfN27M3"
      },
      "source": [
        "#### Integer Encoding\n",
        "\n",
        "We will encode categorical data in our dataset to numerical data using Label Encoder.\n",
        "\n",
        "For this we will import LabelEncoder from sklearn library,then fit and transform the data."
      ]
    },
    {
      "cell_type": "code",
      "metadata": {
        "id": "dOWnt_1P27M5"
      },
      "source": [
        "from sklearn.preprocessing import LabelEncoder\n",
        "\n",
        "lb_encode = LabelEncoder()\n",
        "combined_df[\"Additional_Info\"] = lb_encode.fit_transform(combined_df[\"Additional_Info\"])\n",
        "combined_df[\"Airline\"] = lb_encode.fit_transform(combined_df[\"Airline\"])\n",
        "combined_df[\"Destination\"] = lb_encode.fit_transform(combined_df[\"Destination\"])\n",
        "combined_df[\"Source\"] = lb_encode.fit_transform(combined_df[\"Source\"])\n",
        "combined_df['Route_1']= lb_encode.fit_transform(combined_df[\"Route_1\"])\n",
        "combined_df['Route_2']= lb_encode.fit_transform(combined_df[\"Route_2\"])\n",
        "combined_df['Route_3']= lb_encode.fit_transform(combined_df[\"Route_3\"])\n",
        "combined_df['Route_4']= lb_encode.fit_transform(combined_df[\"Route_4\"])\n",
        "combined_df['Route_5']= lb_encode.fit_transform(combined_df[\"Route_5\"])"
      ],
      "execution_count": 34,
      "outputs": []
    },
    {
      "cell_type": "code",
      "metadata": {
        "id": "axNC1fAo27M7",
        "outputId": "dc7b2022-1add-4101-a700-97298d9f64f6",
        "colab": {
          "base_uri": "https://localhost:8080/",
          "height": 0
        }
      },
      "source": [
        "combined_df.sample(5)"
      ],
      "execution_count": 35,
      "outputs": [
        {
          "output_type": "execute_result",
          "data": {
            "text/html": [
              "<div>\n",
              "<style scoped>\n",
              "    .dataframe tbody tr th:only-of-type {\n",
              "        vertical-align: middle;\n",
              "    }\n",
              "\n",
              "    .dataframe tbody tr th {\n",
              "        vertical-align: top;\n",
              "    }\n",
              "\n",
              "    .dataframe thead th {\n",
              "        text-align: right;\n",
              "    }\n",
              "</style>\n",
              "<table border=\"1\" class=\"dataframe\">\n",
              "  <thead>\n",
              "    <tr style=\"text-align: right;\">\n",
              "      <th></th>\n",
              "      <th>index</th>\n",
              "      <th>Airline</th>\n",
              "      <th>Source</th>\n",
              "      <th>Destination</th>\n",
              "      <th>Route</th>\n",
              "      <th>Duration</th>\n",
              "      <th>Additional_Info</th>\n",
              "      <th>Price</th>\n",
              "      <th>Date</th>\n",
              "      <th>Month</th>\n",
              "      <th>Year</th>\n",
              "      <th>Arrival_Hour</th>\n",
              "      <th>Arrival_Minute</th>\n",
              "      <th>Dep_Hour</th>\n",
              "      <th>Dep_Minute</th>\n",
              "      <th>Stop</th>\n",
              "      <th>Route_1</th>\n",
              "      <th>Route_2</th>\n",
              "      <th>Route_3</th>\n",
              "      <th>Route_4</th>\n",
              "      <th>Route_5</th>\n",
              "    </tr>\n",
              "  </thead>\n",
              "  <tbody>\n",
              "    <tr>\n",
              "      <th>8155</th>\n",
              "      <td>8155</td>\n",
              "      <td>4</td>\n",
              "      <td>2</td>\n",
              "      <td>1</td>\n",
              "      <td>DEL → IDR → BOM → COK</td>\n",
              "      <td>13h 30m</td>\n",
              "      <td>5</td>\n",
              "      <td>11507.000000</td>\n",
              "      <td>27</td>\n",
              "      <td>6</td>\n",
              "      <td>2019</td>\n",
              "      <td>19</td>\n",
              "      <td>0</td>\n",
              "      <td>5</td>\n",
              "      <td>30</td>\n",
              "      <td>2</td>\n",
              "      <td>3</td>\n",
              "      <td>21</td>\n",
              "      <td>4</td>\n",
              "      <td>5</td>\n",
              "      <td>4</td>\n",
              "    </tr>\n",
              "    <tr>\n",
              "      <th>9496</th>\n",
              "      <td>9496</td>\n",
              "      <td>6</td>\n",
              "      <td>2</td>\n",
              "      <td>1</td>\n",
              "      <td>DEL → BOM → COK</td>\n",
              "      <td>8h</td>\n",
              "      <td>8</td>\n",
              "      <td>17493.000000</td>\n",
              "      <td>3</td>\n",
              "      <td>3</td>\n",
              "      <td>2019</td>\n",
              "      <td>21</td>\n",
              "      <td>0</td>\n",
              "      <td>13</td>\n",
              "      <td>0</td>\n",
              "      <td>1</td>\n",
              "      <td>3</td>\n",
              "      <td>7</td>\n",
              "      <td>6</td>\n",
              "      <td>12</td>\n",
              "      <td>4</td>\n",
              "    </tr>\n",
              "    <tr>\n",
              "      <th>4613</th>\n",
              "      <td>4613</td>\n",
              "      <td>8</td>\n",
              "      <td>2</td>\n",
              "      <td>1</td>\n",
              "      <td>DEL → PNQ → COK</td>\n",
              "      <td>4h 30m</td>\n",
              "      <td>7</td>\n",
              "      <td>6356.000000</td>\n",
              "      <td>21</td>\n",
              "      <td>3</td>\n",
              "      <td>2019</td>\n",
              "      <td>13</td>\n",
              "      <td>15</td>\n",
              "      <td>8</td>\n",
              "      <td>45</td>\n",
              "      <td>1</td>\n",
              "      <td>3</td>\n",
              "      <td>38</td>\n",
              "      <td>6</td>\n",
              "      <td>12</td>\n",
              "      <td>4</td>\n",
              "    </tr>\n",
              "    <tr>\n",
              "      <th>6162</th>\n",
              "      <td>6162</td>\n",
              "      <td>4</td>\n",
              "      <td>3</td>\n",
              "      <td>0</td>\n",
              "      <td>CCU → DEL → BLR</td>\n",
              "      <td>17h 55m</td>\n",
              "      <td>5</td>\n",
              "      <td>8066.000000</td>\n",
              "      <td>9</td>\n",
              "      <td>5</td>\n",
              "      <td>2019</td>\n",
              "      <td>10</td>\n",
              "      <td>55</td>\n",
              "      <td>17</td>\n",
              "      <td>0</td>\n",
              "      <td>1</td>\n",
              "      <td>2</td>\n",
              "      <td>14</td>\n",
              "      <td>3</td>\n",
              "      <td>12</td>\n",
              "      <td>4</td>\n",
              "    </tr>\n",
              "    <tr>\n",
              "      <th>10992</th>\n",
              "      <td>309</td>\n",
              "      <td>3</td>\n",
              "      <td>3</td>\n",
              "      <td>0</td>\n",
              "      <td>CCU → HYD → BLR</td>\n",
              "      <td>4h 50m</td>\n",
              "      <td>8</td>\n",
              "      <td>9087.064121</td>\n",
              "      <td>9</td>\n",
              "      <td>6</td>\n",
              "      <td>2019</td>\n",
              "      <td>20</td>\n",
              "      <td>5</td>\n",
              "      <td>15</td>\n",
              "      <td>15</td>\n",
              "      <td>1</td>\n",
              "      <td>2</td>\n",
              "      <td>20</td>\n",
              "      <td>3</td>\n",
              "      <td>12</td>\n",
              "      <td>4</td>\n",
              "    </tr>\n",
              "  </tbody>\n",
              "</table>\n",
              "</div>"
            ],
            "text/plain": [
              "       index  Airline  Source  Destination  ... Route_2 Route_3  Route_4  Route_5\n",
              "8155    8155        4       2            1  ...      21       4        5        4\n",
              "9496    9496        6       2            1  ...       7       6       12        4\n",
              "4613    4613        8       2            1  ...      38       6       12        4\n",
              "6162    6162        4       3            0  ...      14       3       12        4\n",
              "10992    309        3       3            0  ...      20       3       12        4\n",
              "\n",
              "[5 rows x 21 columns]"
            ]
          },
          "metadata": {
            "tags": []
          },
          "execution_count": 35
        }
      ]
    },
    {
      "cell_type": "markdown",
      "metadata": {
        "id": "cjngbEaE27NB"
      },
      "source": [
        "#### One hot encoding - Dummy encoding\n",
        "\n",
        "In addition to 'Integer Encoding', we will apply 'Dummy Encoding' to disallow our model to assume any natural ordering between categorie as this may result in poor performance. \n",
        "\n",
        "This is where the integer encoded variable is removed and a new binary variable is added for each unique integer value.\n",
        "\n",
        "We will apply get_dummies class from Pandas library to each column and then drop original column."
      ]
    },
    {
      "cell_type": "code",
      "metadata": {
        "id": "zTdY625427NC"
      },
      "source": [
        "Additional_Info_dummies = pd.get_dummies(combined_df[\"Additional_Info\"], prefix='Additional_Info')    \n",
        "combined_df = pd.concat([combined_df, Additional_Info_dummies], axis=1)\n",
        "combined_df.drop('Additional_Info', axis=1, inplace=True)"
      ],
      "execution_count": 36,
      "outputs": []
    },
    {
      "cell_type": "code",
      "metadata": {
        "id": "SPu2gLj527NH"
      },
      "source": [
        "Airline_dummies = pd.get_dummies(combined_df[\"Airline\"], prefix='Airline')    \n",
        "combined_df = pd.concat([combined_df, Airline_dummies], axis=1)\n",
        "combined_df.drop('Airline', axis=1, inplace=True)"
      ],
      "execution_count": 37,
      "outputs": []
    },
    {
      "cell_type": "code",
      "metadata": {
        "id": "lL39Q3J727NL"
      },
      "source": [
        "Destination_dummies = pd.get_dummies(combined_df[\"Destination\"], prefix='Destination')    \n",
        "combined_df = pd.concat([combined_df, Destination_dummies], axis=1)\n",
        "combined_df.drop('Destination', axis=1, inplace=True)"
      ],
      "execution_count": 38,
      "outputs": []
    },
    {
      "cell_type": "code",
      "metadata": {
        "id": "Gt-m-VKa27NP"
      },
      "source": [
        "Source_dummies = pd.get_dummies(combined_df[\"Source\"], prefix='Source')    \n",
        "combined_df = pd.concat([combined_df, Source_dummies], axis=1)\n",
        "combined_df.drop('Source', axis=1, inplace=True)"
      ],
      "execution_count": 39,
      "outputs": []
    },
    {
      "cell_type": "code",
      "metadata": {
        "id": "z-bmqfut27NU"
      },
      "source": [
        "Route_1_dummies = pd.get_dummies(combined_df[\"Route_1\"], prefix='Route_1')    \n",
        "combined_df = pd.concat([combined_df, Route_1_dummies], axis=1)\n",
        "combined_df.drop('Route_1', axis=1, inplace=True)"
      ],
      "execution_count": 40,
      "outputs": []
    },
    {
      "cell_type": "code",
      "metadata": {
        "id": "pwX72ikN27NZ"
      },
      "source": [
        "Route_2_dummies = pd.get_dummies(combined_df[\"Route_2\"], prefix='Route_2')    \n",
        "combined_df = pd.concat([combined_df, Route_2_dummies], axis=1)\n",
        "combined_df.drop('Route_2', axis=1, inplace=True)"
      ],
      "execution_count": 41,
      "outputs": []
    },
    {
      "cell_type": "code",
      "metadata": {
        "id": "DQRJQ8wK27Nd"
      },
      "source": [
        "Route_3_dummies = pd.get_dummies(combined_df[\"Route_3\"], prefix='Route_3')    \n",
        "combined_df = pd.concat([combined_df, Route_3_dummies], axis=1)\n",
        "combined_df.drop('Route_3', axis=1, inplace=True)"
      ],
      "execution_count": 42,
      "outputs": []
    },
    {
      "cell_type": "code",
      "metadata": {
        "id": "QP7HamX227Nk"
      },
      "source": [
        "Route_4_dummies = pd.get_dummies(combined_df[\"Route_4\"], prefix='Route_4')    \n",
        "combined_df = pd.concat([combined_df, Route_4_dummies], axis=1)\n",
        "combined_df.drop('Route_4', axis=1, inplace=True)"
      ],
      "execution_count": 43,
      "outputs": []
    },
    {
      "cell_type": "code",
      "metadata": {
        "id": "FVPBS1KJ27OB"
      },
      "source": [
        "Route_5_dummies = pd.get_dummies(combined_df[\"Route_5\"], prefix='Route_5')    \n",
        "combined_df = pd.concat([combined_df, Route_5_dummies], axis=1)\n",
        "combined_df.drop('Route_5', axis=1, inplace=True)"
      ],
      "execution_count": 44,
      "outputs": []
    },
    {
      "cell_type": "code",
      "metadata": {
        "id": "oPRAp3a927OG"
      },
      "source": [
        "combined_df=combined_df.drop(['Route'], axis=1)\n",
        "combined_df=combined_df.drop(['Duration'], axis=1)"
      ],
      "execution_count": 45,
      "outputs": []
    },
    {
      "cell_type": "code",
      "metadata": {
        "id": "cEiziVeR27OL",
        "outputId": "5e4eeb2d-a92d-41f0-d197-547943177a48",
        "colab": {
          "base_uri": "https://localhost:8080/",
          "height": 0
        }
      },
      "source": [
        "combined_df.sample(5)"
      ],
      "execution_count": 46,
      "outputs": [
        {
          "output_type": "execute_result",
          "data": {
            "text/html": [
              "<div>\n",
              "<style scoped>\n",
              "    .dataframe tbody tr th:only-of-type {\n",
              "        vertical-align: middle;\n",
              "    }\n",
              "\n",
              "    .dataframe tbody tr th {\n",
              "        vertical-align: top;\n",
              "    }\n",
              "\n",
              "    .dataframe thead th {\n",
              "        text-align: right;\n",
              "    }\n",
              "</style>\n",
              "<table border=\"1\" class=\"dataframe\">\n",
              "  <thead>\n",
              "    <tr style=\"text-align: right;\">\n",
              "      <th></th>\n",
              "      <th>index</th>\n",
              "      <th>Price</th>\n",
              "      <th>Date</th>\n",
              "      <th>Month</th>\n",
              "      <th>Year</th>\n",
              "      <th>Arrival_Hour</th>\n",
              "      <th>Arrival_Minute</th>\n",
              "      <th>Dep_Hour</th>\n",
              "      <th>Dep_Minute</th>\n",
              "      <th>Stop</th>\n",
              "      <th>Additional_Info_0</th>\n",
              "      <th>Additional_Info_1</th>\n",
              "      <th>Additional_Info_2</th>\n",
              "      <th>Additional_Info_3</th>\n",
              "      <th>Additional_Info_4</th>\n",
              "      <th>Additional_Info_5</th>\n",
              "      <th>Additional_Info_6</th>\n",
              "      <th>Additional_Info_7</th>\n",
              "      <th>Additional_Info_8</th>\n",
              "      <th>Additional_Info_9</th>\n",
              "      <th>Airline_0</th>\n",
              "      <th>Airline_1</th>\n",
              "      <th>Airline_2</th>\n",
              "      <th>Airline_3</th>\n",
              "      <th>Airline_4</th>\n",
              "      <th>Airline_5</th>\n",
              "      <th>Airline_6</th>\n",
              "      <th>Airline_7</th>\n",
              "      <th>Airline_8</th>\n",
              "      <th>Airline_9</th>\n",
              "      <th>Airline_10</th>\n",
              "      <th>Airline_11</th>\n",
              "      <th>Destination_0</th>\n",
              "      <th>Destination_1</th>\n",
              "      <th>Destination_2</th>\n",
              "      <th>Destination_3</th>\n",
              "      <th>Destination_4</th>\n",
              "      <th>Destination_5</th>\n",
              "      <th>Source_0</th>\n",
              "      <th>Source_1</th>\n",
              "      <th>...</th>\n",
              "      <th>Route_3_11</th>\n",
              "      <th>Route_3_12</th>\n",
              "      <th>Route_3_13</th>\n",
              "      <th>Route_3_14</th>\n",
              "      <th>Route_3_15</th>\n",
              "      <th>Route_3_16</th>\n",
              "      <th>Route_3_17</th>\n",
              "      <th>Route_3_18</th>\n",
              "      <th>Route_3_19</th>\n",
              "      <th>Route_3_20</th>\n",
              "      <th>Route_3_21</th>\n",
              "      <th>Route_3_22</th>\n",
              "      <th>Route_3_23</th>\n",
              "      <th>Route_3_24</th>\n",
              "      <th>Route_3_25</th>\n",
              "      <th>Route_3_26</th>\n",
              "      <th>Route_3_27</th>\n",
              "      <th>Route_3_28</th>\n",
              "      <th>Route_3_29</th>\n",
              "      <th>Route_3_30</th>\n",
              "      <th>Route_4_0</th>\n",
              "      <th>Route_4_1</th>\n",
              "      <th>Route_4_2</th>\n",
              "      <th>Route_4_3</th>\n",
              "      <th>Route_4_4</th>\n",
              "      <th>Route_4_5</th>\n",
              "      <th>Route_4_6</th>\n",
              "      <th>Route_4_7</th>\n",
              "      <th>Route_4_8</th>\n",
              "      <th>Route_4_9</th>\n",
              "      <th>Route_4_10</th>\n",
              "      <th>Route_4_11</th>\n",
              "      <th>Route_4_12</th>\n",
              "      <th>Route_4_13</th>\n",
              "      <th>Route_5_0</th>\n",
              "      <th>Route_5_1</th>\n",
              "      <th>Route_5_2</th>\n",
              "      <th>Route_5_3</th>\n",
              "      <th>Route_5_4</th>\n",
              "      <th>Route_5_5</th>\n",
              "    </tr>\n",
              "  </thead>\n",
              "  <tbody>\n",
              "    <tr>\n",
              "      <th>1281</th>\n",
              "      <td>1281</td>\n",
              "      <td>6795.000000</td>\n",
              "      <td>15</td>\n",
              "      <td>6</td>\n",
              "      <td>2019</td>\n",
              "      <td>1</td>\n",
              "      <td>30</td>\n",
              "      <td>19</td>\n",
              "      <td>0</td>\n",
              "      <td>1</td>\n",
              "      <td>0</td>\n",
              "      <td>0</td>\n",
              "      <td>0</td>\n",
              "      <td>0</td>\n",
              "      <td>0</td>\n",
              "      <td>0</td>\n",
              "      <td>0</td>\n",
              "      <td>0</td>\n",
              "      <td>1</td>\n",
              "      <td>0</td>\n",
              "      <td>0</td>\n",
              "      <td>0</td>\n",
              "      <td>0</td>\n",
              "      <td>0</td>\n",
              "      <td>0</td>\n",
              "      <td>0</td>\n",
              "      <td>1</td>\n",
              "      <td>0</td>\n",
              "      <td>0</td>\n",
              "      <td>0</td>\n",
              "      <td>0</td>\n",
              "      <td>0</td>\n",
              "      <td>0</td>\n",
              "      <td>1</td>\n",
              "      <td>0</td>\n",
              "      <td>0</td>\n",
              "      <td>0</td>\n",
              "      <td>0</td>\n",
              "      <td>0</td>\n",
              "      <td>0</td>\n",
              "      <td>...</td>\n",
              "      <td>0</td>\n",
              "      <td>0</td>\n",
              "      <td>0</td>\n",
              "      <td>0</td>\n",
              "      <td>0</td>\n",
              "      <td>0</td>\n",
              "      <td>0</td>\n",
              "      <td>0</td>\n",
              "      <td>0</td>\n",
              "      <td>0</td>\n",
              "      <td>0</td>\n",
              "      <td>0</td>\n",
              "      <td>0</td>\n",
              "      <td>0</td>\n",
              "      <td>0</td>\n",
              "      <td>0</td>\n",
              "      <td>0</td>\n",
              "      <td>0</td>\n",
              "      <td>0</td>\n",
              "      <td>0</td>\n",
              "      <td>0</td>\n",
              "      <td>0</td>\n",
              "      <td>0</td>\n",
              "      <td>0</td>\n",
              "      <td>0</td>\n",
              "      <td>0</td>\n",
              "      <td>0</td>\n",
              "      <td>0</td>\n",
              "      <td>0</td>\n",
              "      <td>0</td>\n",
              "      <td>0</td>\n",
              "      <td>0</td>\n",
              "      <td>1</td>\n",
              "      <td>0</td>\n",
              "      <td>0</td>\n",
              "      <td>0</td>\n",
              "      <td>0</td>\n",
              "      <td>0</td>\n",
              "      <td>1</td>\n",
              "      <td>0</td>\n",
              "    </tr>\n",
              "    <tr>\n",
              "      <th>1195</th>\n",
              "      <td>1195</td>\n",
              "      <td>10844.000000</td>\n",
              "      <td>6</td>\n",
              "      <td>6</td>\n",
              "      <td>2019</td>\n",
              "      <td>9</td>\n",
              "      <td>20</td>\n",
              "      <td>21</td>\n",
              "      <td>10</td>\n",
              "      <td>1</td>\n",
              "      <td>0</td>\n",
              "      <td>0</td>\n",
              "      <td>0</td>\n",
              "      <td>0</td>\n",
              "      <td>0</td>\n",
              "      <td>1</td>\n",
              "      <td>0</td>\n",
              "      <td>0</td>\n",
              "      <td>0</td>\n",
              "      <td>0</td>\n",
              "      <td>0</td>\n",
              "      <td>0</td>\n",
              "      <td>0</td>\n",
              "      <td>0</td>\n",
              "      <td>1</td>\n",
              "      <td>0</td>\n",
              "      <td>0</td>\n",
              "      <td>0</td>\n",
              "      <td>0</td>\n",
              "      <td>0</td>\n",
              "      <td>0</td>\n",
              "      <td>0</td>\n",
              "      <td>1</td>\n",
              "      <td>0</td>\n",
              "      <td>0</td>\n",
              "      <td>0</td>\n",
              "      <td>0</td>\n",
              "      <td>0</td>\n",
              "      <td>0</td>\n",
              "      <td>0</td>\n",
              "      <td>...</td>\n",
              "      <td>0</td>\n",
              "      <td>0</td>\n",
              "      <td>0</td>\n",
              "      <td>0</td>\n",
              "      <td>0</td>\n",
              "      <td>0</td>\n",
              "      <td>0</td>\n",
              "      <td>0</td>\n",
              "      <td>0</td>\n",
              "      <td>0</td>\n",
              "      <td>0</td>\n",
              "      <td>0</td>\n",
              "      <td>0</td>\n",
              "      <td>0</td>\n",
              "      <td>0</td>\n",
              "      <td>0</td>\n",
              "      <td>0</td>\n",
              "      <td>0</td>\n",
              "      <td>0</td>\n",
              "      <td>0</td>\n",
              "      <td>0</td>\n",
              "      <td>0</td>\n",
              "      <td>0</td>\n",
              "      <td>0</td>\n",
              "      <td>0</td>\n",
              "      <td>0</td>\n",
              "      <td>0</td>\n",
              "      <td>0</td>\n",
              "      <td>0</td>\n",
              "      <td>0</td>\n",
              "      <td>0</td>\n",
              "      <td>0</td>\n",
              "      <td>1</td>\n",
              "      <td>0</td>\n",
              "      <td>0</td>\n",
              "      <td>0</td>\n",
              "      <td>0</td>\n",
              "      <td>0</td>\n",
              "      <td>1</td>\n",
              "      <td>0</td>\n",
              "    </tr>\n",
              "    <tr>\n",
              "      <th>6492</th>\n",
              "      <td>6492</td>\n",
              "      <td>6645.000000</td>\n",
              "      <td>27</td>\n",
              "      <td>3</td>\n",
              "      <td>2019</td>\n",
              "      <td>4</td>\n",
              "      <td>25</td>\n",
              "      <td>8</td>\n",
              "      <td>0</td>\n",
              "      <td>1</td>\n",
              "      <td>0</td>\n",
              "      <td>0</td>\n",
              "      <td>0</td>\n",
              "      <td>0</td>\n",
              "      <td>0</td>\n",
              "      <td>1</td>\n",
              "      <td>0</td>\n",
              "      <td>0</td>\n",
              "      <td>0</td>\n",
              "      <td>0</td>\n",
              "      <td>0</td>\n",
              "      <td>0</td>\n",
              "      <td>0</td>\n",
              "      <td>0</td>\n",
              "      <td>1</td>\n",
              "      <td>0</td>\n",
              "      <td>0</td>\n",
              "      <td>0</td>\n",
              "      <td>0</td>\n",
              "      <td>0</td>\n",
              "      <td>0</td>\n",
              "      <td>0</td>\n",
              "      <td>0</td>\n",
              "      <td>1</td>\n",
              "      <td>0</td>\n",
              "      <td>0</td>\n",
              "      <td>0</td>\n",
              "      <td>0</td>\n",
              "      <td>0</td>\n",
              "      <td>0</td>\n",
              "      <td>...</td>\n",
              "      <td>0</td>\n",
              "      <td>0</td>\n",
              "      <td>0</td>\n",
              "      <td>0</td>\n",
              "      <td>0</td>\n",
              "      <td>0</td>\n",
              "      <td>0</td>\n",
              "      <td>0</td>\n",
              "      <td>0</td>\n",
              "      <td>0</td>\n",
              "      <td>0</td>\n",
              "      <td>0</td>\n",
              "      <td>0</td>\n",
              "      <td>0</td>\n",
              "      <td>0</td>\n",
              "      <td>0</td>\n",
              "      <td>0</td>\n",
              "      <td>0</td>\n",
              "      <td>0</td>\n",
              "      <td>0</td>\n",
              "      <td>0</td>\n",
              "      <td>0</td>\n",
              "      <td>0</td>\n",
              "      <td>0</td>\n",
              "      <td>0</td>\n",
              "      <td>0</td>\n",
              "      <td>0</td>\n",
              "      <td>0</td>\n",
              "      <td>0</td>\n",
              "      <td>0</td>\n",
              "      <td>0</td>\n",
              "      <td>0</td>\n",
              "      <td>1</td>\n",
              "      <td>0</td>\n",
              "      <td>0</td>\n",
              "      <td>0</td>\n",
              "      <td>0</td>\n",
              "      <td>0</td>\n",
              "      <td>1</td>\n",
              "      <td>0</td>\n",
              "    </tr>\n",
              "    <tr>\n",
              "      <th>10682</th>\n",
              "      <td>10682</td>\n",
              "      <td>11753.000000</td>\n",
              "      <td>9</td>\n",
              "      <td>5</td>\n",
              "      <td>2019</td>\n",
              "      <td>19</td>\n",
              "      <td>15</td>\n",
              "      <td>10</td>\n",
              "      <td>55</td>\n",
              "      <td>2</td>\n",
              "      <td>0</td>\n",
              "      <td>0</td>\n",
              "      <td>0</td>\n",
              "      <td>0</td>\n",
              "      <td>0</td>\n",
              "      <td>0</td>\n",
              "      <td>0</td>\n",
              "      <td>0</td>\n",
              "      <td>1</td>\n",
              "      <td>0</td>\n",
              "      <td>0</td>\n",
              "      <td>1</td>\n",
              "      <td>0</td>\n",
              "      <td>0</td>\n",
              "      <td>0</td>\n",
              "      <td>0</td>\n",
              "      <td>0</td>\n",
              "      <td>0</td>\n",
              "      <td>0</td>\n",
              "      <td>0</td>\n",
              "      <td>0</td>\n",
              "      <td>0</td>\n",
              "      <td>0</td>\n",
              "      <td>1</td>\n",
              "      <td>0</td>\n",
              "      <td>0</td>\n",
              "      <td>0</td>\n",
              "      <td>0</td>\n",
              "      <td>0</td>\n",
              "      <td>0</td>\n",
              "      <td>...</td>\n",
              "      <td>0</td>\n",
              "      <td>0</td>\n",
              "      <td>0</td>\n",
              "      <td>0</td>\n",
              "      <td>0</td>\n",
              "      <td>0</td>\n",
              "      <td>0</td>\n",
              "      <td>0</td>\n",
              "      <td>0</td>\n",
              "      <td>0</td>\n",
              "      <td>0</td>\n",
              "      <td>0</td>\n",
              "      <td>0</td>\n",
              "      <td>0</td>\n",
              "      <td>0</td>\n",
              "      <td>0</td>\n",
              "      <td>0</td>\n",
              "      <td>0</td>\n",
              "      <td>0</td>\n",
              "      <td>0</td>\n",
              "      <td>0</td>\n",
              "      <td>0</td>\n",
              "      <td>0</td>\n",
              "      <td>0</td>\n",
              "      <td>0</td>\n",
              "      <td>1</td>\n",
              "      <td>0</td>\n",
              "      <td>0</td>\n",
              "      <td>0</td>\n",
              "      <td>0</td>\n",
              "      <td>0</td>\n",
              "      <td>0</td>\n",
              "      <td>0</td>\n",
              "      <td>0</td>\n",
              "      <td>0</td>\n",
              "      <td>0</td>\n",
              "      <td>0</td>\n",
              "      <td>0</td>\n",
              "      <td>1</td>\n",
              "      <td>0</td>\n",
              "    </tr>\n",
              "    <tr>\n",
              "      <th>11736</th>\n",
              "      <td>1053</td>\n",
              "      <td>9087.064121</td>\n",
              "      <td>1</td>\n",
              "      <td>4</td>\n",
              "      <td>2019</td>\n",
              "      <td>0</td>\n",
              "      <td>15</td>\n",
              "      <td>22</td>\n",
              "      <td>45</td>\n",
              "      <td>0</td>\n",
              "      <td>0</td>\n",
              "      <td>0</td>\n",
              "      <td>0</td>\n",
              "      <td>0</td>\n",
              "      <td>0</td>\n",
              "      <td>0</td>\n",
              "      <td>0</td>\n",
              "      <td>0</td>\n",
              "      <td>1</td>\n",
              "      <td>0</td>\n",
              "      <td>0</td>\n",
              "      <td>0</td>\n",
              "      <td>0</td>\n",
              "      <td>0</td>\n",
              "      <td>0</td>\n",
              "      <td>0</td>\n",
              "      <td>0</td>\n",
              "      <td>0</td>\n",
              "      <td>1</td>\n",
              "      <td>0</td>\n",
              "      <td>0</td>\n",
              "      <td>0</td>\n",
              "      <td>0</td>\n",
              "      <td>0</td>\n",
              "      <td>0</td>\n",
              "      <td>1</td>\n",
              "      <td>0</td>\n",
              "      <td>0</td>\n",
              "      <td>0</td>\n",
              "      <td>0</td>\n",
              "      <td>...</td>\n",
              "      <td>0</td>\n",
              "      <td>0</td>\n",
              "      <td>0</td>\n",
              "      <td>0</td>\n",
              "      <td>0</td>\n",
              "      <td>0</td>\n",
              "      <td>0</td>\n",
              "      <td>0</td>\n",
              "      <td>0</td>\n",
              "      <td>0</td>\n",
              "      <td>0</td>\n",
              "      <td>0</td>\n",
              "      <td>0</td>\n",
              "      <td>1</td>\n",
              "      <td>0</td>\n",
              "      <td>0</td>\n",
              "      <td>0</td>\n",
              "      <td>0</td>\n",
              "      <td>0</td>\n",
              "      <td>0</td>\n",
              "      <td>0</td>\n",
              "      <td>0</td>\n",
              "      <td>0</td>\n",
              "      <td>0</td>\n",
              "      <td>0</td>\n",
              "      <td>0</td>\n",
              "      <td>0</td>\n",
              "      <td>0</td>\n",
              "      <td>0</td>\n",
              "      <td>0</td>\n",
              "      <td>0</td>\n",
              "      <td>0</td>\n",
              "      <td>1</td>\n",
              "      <td>0</td>\n",
              "      <td>0</td>\n",
              "      <td>0</td>\n",
              "      <td>0</td>\n",
              "      <td>0</td>\n",
              "      <td>1</td>\n",
              "      <td>0</td>\n",
              "    </tr>\n",
              "  </tbody>\n",
              "</table>\n",
              "<p>5 rows × 146 columns</p>\n",
              "</div>"
            ],
            "text/plain": [
              "       index         Price  Date  ...  Route_5_3  Route_5_4  Route_5_5\n",
              "1281    1281   6795.000000    15  ...          0          1          0\n",
              "1195    1195  10844.000000     6  ...          0          1          0\n",
              "6492    6492   6645.000000    27  ...          0          1          0\n",
              "10682  10682  11753.000000     9  ...          0          1          0\n",
              "11736   1053   9087.064121     1  ...          0          1          0\n",
              "\n",
              "[5 rows x 146 columns]"
            ]
          },
          "metadata": {
            "tags": []
          },
          "execution_count": 46
        }
      ]
    },
    {
      "cell_type": "markdown",
      "metadata": {
        "id": "fOUmjQuJ27OQ"
      },
      "source": [
        "### Missing value validation"
      ]
    },
    {
      "cell_type": "code",
      "metadata": {
        "scrolled": true,
        "id": "lPoNchQF27OR",
        "outputId": "1ce99a5c-48d5-47aa-b1b5-401be540725d",
        "colab": {
          "base_uri": "https://localhost:8080/",
          "height": 0
        }
      },
      "source": [
        "combined_df.isna().sum()"
      ],
      "execution_count": 47,
      "outputs": [
        {
          "output_type": "execute_result",
          "data": {
            "text/plain": [
              "index        0\n",
              "Price        0\n",
              "Date         0\n",
              "Month        0\n",
              "Year         0\n",
              "            ..\n",
              "Route_5_1    0\n",
              "Route_5_2    0\n",
              "Route_5_3    0\n",
              "Route_5_4    0\n",
              "Route_5_5    0\n",
              "Length: 146, dtype: int64"
            ]
          },
          "metadata": {
            "tags": []
          },
          "execution_count": 47
        }
      ]
    },
    {
      "cell_type": "markdown",
      "metadata": {
        "id": "OdcYr6hd27OY"
      },
      "source": [
        "## TEST TRAIN SPLIT"
      ]
    },
    {
      "cell_type": "markdown",
      "metadata": {
        "id": "7szXS2UO27OZ"
      },
      "source": [
        "Let's separate out train set and test set from the combined dataset"
      ]
    },
    {
      "cell_type": "code",
      "metadata": {
        "id": "fjYELi_d27Oa"
      },
      "source": [
        "# Split it into test and train\n",
        "\n",
        "df_train = combined_df[0:10683]\n",
        "df_test = combined_df[10683:]\n",
        "df_test = df_test.drop(['Price'], axis =1)"
      ],
      "execution_count": 48,
      "outputs": []
    },
    {
      "cell_type": "code",
      "metadata": {
        "id": "yVjv-qRn27Og"
      },
      "source": [
        "X = df_train.drop(['Price'], axis=1)\n",
        "y = df_train.Price"
      ],
      "execution_count": 49,
      "outputs": []
    },
    {
      "cell_type": "code",
      "metadata": {
        "id": "xuK2etUj27Oi"
      },
      "source": [
        "from sklearn.model_selection import train_test_split\n",
        "X_train, X_test, y_train, y_test = train_test_split(X, y, test_size=0.2, random_state=123)"
      ],
      "execution_count": 50,
      "outputs": []
    },
    {
      "cell_type": "markdown",
      "metadata": {
        "id": "f661BZe427Oq"
      },
      "source": [
        "## MODEL BUILDING "
      ]
    },
    {
      "cell_type": "markdown",
      "metadata": {
        "id": "pV-LpL7X27Or"
      },
      "source": [
        "We will try different models and compare the \"RMSE\" score for each model.\n",
        "\n",
        "We are going to try below ML algorithms :\n",
        "- LinearRegression\n",
        "- Ridge Regression\n",
        "- Lasso Regression\n",
        "- Elastic Net Regularization\n",
        "- Extreme Gradient Boosting (XGBoost)\n",
        "- Light GBM\n"
      ]
    },
    {
      "cell_type": "code",
      "metadata": {
        "id": "TA4tG4ZD27Os"
      },
      "source": [
        "lin_reg = LinearRegression() #LinearRegression\n",
        "rig_cv = RidgeCV() #Ridge Regression\n",
        "lasso = LassoCV() #Lasso Regression\n",
        "elastic = ElasticNetCV() #Elastic Net Regularization\n",
        "xgb = XGBRegressor() #Extreme Gradient Boosting (XGBoost)\n",
        "lig_gbm = LGBMRegressor() #Light GBM\n",
        "\n",
        "models = [lin_reg, rig_cv, lasso, elastic, xgb, lig_gbm]"
      ],
      "execution_count": 51,
      "outputs": []
    },
    {
      "cell_type": "code",
      "metadata": {
        "id": "HLEGOqQc27Ox"
      },
      "source": [
        "#Build our cross validation method\n",
        "kfolds = KFold(n_splits=50,shuffle=True, random_state=0)"
      ],
      "execution_count": 52,
      "outputs": []
    },
    {
      "cell_type": "code",
      "metadata": {
        "id": "58lXI-pV27O2"
      },
      "source": [
        "def cv_rmse(model):\n",
        "    rmse = np.sqrt(-cross_val_score(model, X_train, y_train, \n",
        "                                   scoring=\"neg_mean_squared_error\", \n",
        "                                   cv = kfolds))\n",
        "    return(rmse)"
      ],
      "execution_count": 53,
      "outputs": []
    },
    {
      "cell_type": "code",
      "metadata": {
        "id": "ZTNrQB_727O8",
        "outputId": "b40f828c-c556-4a68-b9b2-bbcaf64d182b",
        "colab": {
          "base_uri": "https://localhost:8080/",
          "height": 1000
        }
      },
      "source": [
        "from sklearn.metrics import mean_squared_error\n",
        "\n",
        "acc = []\n",
        "for model in models:\n",
        "    print ('Cross-validation of : {0}'.format(model.__class__))\n",
        "    score = cv_rmse(model).mean()\n",
        "    acc.append(score)\n",
        "    print ('CV score = {0}'.format(score))\n",
        "    print ('****')"
      ],
      "execution_count": 66,
      "outputs": [
        {
          "output_type": "stream",
          "text": [
            "Cross-validation of : <class 'sklearn.linear_model._base.LinearRegression'>\n",
            "CV score = 2326.90161121122\n",
            "****\n",
            "Cross-validation of : <class 'sklearn.linear_model._ridge.RidgeCV'>\n",
            "CV score = 2324.675984112096\n",
            "****\n",
            "Cross-validation of : <class 'sklearn.linear_model._coordinate_descent.LassoCV'>\n",
            "CV score = 2881.378872895002\n",
            "****\n",
            "Cross-validation of : <class 'sklearn.linear_model._coordinate_descent.ElasticNetCV'>\n",
            "CV score = 4520.902410663658\n",
            "****\n",
            "Cross-validation of : <class 'xgboost.sklearn.XGBRegressor'>\n",
            "[11:43:55] WARNING: /workspace/src/objective/regression_obj.cu:152: reg:linear is now deprecated in favor of reg:squarederror.\n",
            "[11:43:57] WARNING: /workspace/src/objective/regression_obj.cu:152: reg:linear is now deprecated in favor of reg:squarederror.\n",
            "[11:44:00] WARNING: /workspace/src/objective/regression_obj.cu:152: reg:linear is now deprecated in favor of reg:squarederror.\n",
            "[11:44:02] WARNING: /workspace/src/objective/regression_obj.cu:152: reg:linear is now deprecated in favor of reg:squarederror.\n",
            "[11:44:05] WARNING: /workspace/src/objective/regression_obj.cu:152: reg:linear is now deprecated in favor of reg:squarederror.\n",
            "[11:44:07] WARNING: /workspace/src/objective/regression_obj.cu:152: reg:linear is now deprecated in favor of reg:squarederror.\n",
            "[11:44:10] WARNING: /workspace/src/objective/regression_obj.cu:152: reg:linear is now deprecated in favor of reg:squarederror.\n",
            "[11:44:12] WARNING: /workspace/src/objective/regression_obj.cu:152: reg:linear is now deprecated in favor of reg:squarederror.\n",
            "[11:44:15] WARNING: /workspace/src/objective/regression_obj.cu:152: reg:linear is now deprecated in favor of reg:squarederror.\n",
            "[11:44:17] WARNING: /workspace/src/objective/regression_obj.cu:152: reg:linear is now deprecated in favor of reg:squarederror.\n",
            "[11:44:20] WARNING: /workspace/src/objective/regression_obj.cu:152: reg:linear is now deprecated in favor of reg:squarederror.\n",
            "[11:44:22] WARNING: /workspace/src/objective/regression_obj.cu:152: reg:linear is now deprecated in favor of reg:squarederror.\n",
            "[11:44:25] WARNING: /workspace/src/objective/regression_obj.cu:152: reg:linear is now deprecated in favor of reg:squarederror.\n",
            "[11:44:27] WARNING: /workspace/src/objective/regression_obj.cu:152: reg:linear is now deprecated in favor of reg:squarederror.\n",
            "[11:44:30] WARNING: /workspace/src/objective/regression_obj.cu:152: reg:linear is now deprecated in favor of reg:squarederror.\n",
            "[11:44:33] WARNING: /workspace/src/objective/regression_obj.cu:152: reg:linear is now deprecated in favor of reg:squarederror.\n",
            "[11:44:35] WARNING: /workspace/src/objective/regression_obj.cu:152: reg:linear is now deprecated in favor of reg:squarederror.\n",
            "[11:44:38] WARNING: /workspace/src/objective/regression_obj.cu:152: reg:linear is now deprecated in favor of reg:squarederror.\n",
            "[11:44:40] WARNING: /workspace/src/objective/regression_obj.cu:152: reg:linear is now deprecated in favor of reg:squarederror.\n",
            "[11:44:43] WARNING: /workspace/src/objective/regression_obj.cu:152: reg:linear is now deprecated in favor of reg:squarederror.\n",
            "[11:44:45] WARNING: /workspace/src/objective/regression_obj.cu:152: reg:linear is now deprecated in favor of reg:squarederror.\n",
            "[11:44:48] WARNING: /workspace/src/objective/regression_obj.cu:152: reg:linear is now deprecated in favor of reg:squarederror.\n",
            "[11:44:50] WARNING: /workspace/src/objective/regression_obj.cu:152: reg:linear is now deprecated in favor of reg:squarederror.\n",
            "[11:44:53] WARNING: /workspace/src/objective/regression_obj.cu:152: reg:linear is now deprecated in favor of reg:squarederror.\n",
            "[11:44:55] WARNING: /workspace/src/objective/regression_obj.cu:152: reg:linear is now deprecated in favor of reg:squarederror.\n",
            "[11:44:58] WARNING: /workspace/src/objective/regression_obj.cu:152: reg:linear is now deprecated in favor of reg:squarederror.\n",
            "[11:45:00] WARNING: /workspace/src/objective/regression_obj.cu:152: reg:linear is now deprecated in favor of reg:squarederror.\n",
            "[11:45:03] WARNING: /workspace/src/objective/regression_obj.cu:152: reg:linear is now deprecated in favor of reg:squarederror.\n",
            "[11:45:05] WARNING: /workspace/src/objective/regression_obj.cu:152: reg:linear is now deprecated in favor of reg:squarederror.\n",
            "[11:45:08] WARNING: /workspace/src/objective/regression_obj.cu:152: reg:linear is now deprecated in favor of reg:squarederror.\n",
            "[11:45:10] WARNING: /workspace/src/objective/regression_obj.cu:152: reg:linear is now deprecated in favor of reg:squarederror.\n",
            "[11:45:13] WARNING: /workspace/src/objective/regression_obj.cu:152: reg:linear is now deprecated in favor of reg:squarederror.\n",
            "[11:45:15] WARNING: /workspace/src/objective/regression_obj.cu:152: reg:linear is now deprecated in favor of reg:squarederror.\n",
            "[11:45:18] WARNING: /workspace/src/objective/regression_obj.cu:152: reg:linear is now deprecated in favor of reg:squarederror.\n",
            "[11:45:21] WARNING: /workspace/src/objective/regression_obj.cu:152: reg:linear is now deprecated in favor of reg:squarederror.\n",
            "[11:45:23] WARNING: /workspace/src/objective/regression_obj.cu:152: reg:linear is now deprecated in favor of reg:squarederror.\n",
            "[11:45:26] WARNING: /workspace/src/objective/regression_obj.cu:152: reg:linear is now deprecated in favor of reg:squarederror.\n",
            "[11:45:28] WARNING: /workspace/src/objective/regression_obj.cu:152: reg:linear is now deprecated in favor of reg:squarederror.\n",
            "[11:45:31] WARNING: /workspace/src/objective/regression_obj.cu:152: reg:linear is now deprecated in favor of reg:squarederror.\n",
            "[11:45:33] WARNING: /workspace/src/objective/regression_obj.cu:152: reg:linear is now deprecated in favor of reg:squarederror.\n",
            "[11:45:36] WARNING: /workspace/src/objective/regression_obj.cu:152: reg:linear is now deprecated in favor of reg:squarederror.\n",
            "[11:45:38] WARNING: /workspace/src/objective/regression_obj.cu:152: reg:linear is now deprecated in favor of reg:squarederror.\n",
            "[11:45:41] WARNING: /workspace/src/objective/regression_obj.cu:152: reg:linear is now deprecated in favor of reg:squarederror.\n",
            "[11:45:43] WARNING: /workspace/src/objective/regression_obj.cu:152: reg:linear is now deprecated in favor of reg:squarederror.\n",
            "[11:45:46] WARNING: /workspace/src/objective/regression_obj.cu:152: reg:linear is now deprecated in favor of reg:squarederror.\n",
            "[11:45:48] WARNING: /workspace/src/objective/regression_obj.cu:152: reg:linear is now deprecated in favor of reg:squarederror.\n",
            "[11:45:51] WARNING: /workspace/src/objective/regression_obj.cu:152: reg:linear is now deprecated in favor of reg:squarederror.\n",
            "[11:45:53] WARNING: /workspace/src/objective/regression_obj.cu:152: reg:linear is now deprecated in favor of reg:squarederror.\n",
            "[11:45:56] WARNING: /workspace/src/objective/regression_obj.cu:152: reg:linear is now deprecated in favor of reg:squarederror.\n",
            "[11:45:58] WARNING: /workspace/src/objective/regression_obj.cu:152: reg:linear is now deprecated in favor of reg:squarederror.\n",
            "CV score = 1841.4188248535572\n",
            "****\n",
            "Cross-validation of : <class 'lightgbm.sklearn.LGBMRegressor'>\n",
            "CV score = 1545.4492869861592\n",
            "****\n"
          ],
          "name": "stdout"
        }
      ]
    },
    {
      "cell_type": "code",
      "metadata": {
        "id": "4YBhTJVA5DIR",
        "outputId": "69b95ec0-3be3-46c1-8aec-5918c7ddd1f5",
        "colab": {
          "base_uri": "https://localhost:8080/",
          "height": 350
        }
      },
      "source": [
        "model_name = ['Linear Regression', 'Ridge Regression', 'Lasso Regression', 'ElasticNetCV', 'XGBRegressor', 'LGBMRegressor']\n",
        "accuracy = dict(zip(model_name, acc))\n",
        "\n",
        "plt.figure(figsize=(15,5))\n",
        "ax = sns.barplot(x = list(accuracy.keys()), y = list(accuracy.values()))\n",
        "for p, value in zip(ax.patches, list(accuracy.values())):\n",
        "    _x = p.get_x() + p.get_width() /2\n",
        "    _y = p.get_y() + p.get_height() + 0.008\n",
        "    ax.text(_x, _y, round(value, 3), ha=\"center\") \n",
        "plt.xlabel(\"Models\")\n",
        "plt.ylabel(\"RMSE Score\")\n",
        "plt.title(\"Model vs. RMSE Score\")\n",
        "plt.show()"
      ],
      "execution_count": 67,
      "outputs": [
        {
          "output_type": "display_data",
          "data": {
            "image/png": "[encoded data removed]",
            "text/plain": [
              "<Figure size 1080x360 with 1 Axes>"
            ]
          },
          "metadata": {
            "tags": [],
            "needs_background": "light"
          }
        }
      ]
    },
    {
      "cell_type": "markdown",
      "metadata": {
        "id": "GScZ6SuN27O_"
      },
      "source": [
        "From the above, after applying different Regression models we can see Lightgbm is performing really good as compared to others.\n",
        "\n",
        "So we will use __'Lightgbm'__ to predict our test data"
      ]
    },
    {
      "cell_type": "markdown",
      "metadata": {
        "id": "SXu_3S6c_rRo"
      },
      "source": [
        "**RMSE Score for Test set with LGBM Regressor before hyperparameter tuning**"
      ]
    },
    {
      "cell_type": "code",
      "metadata": {
        "id": "VWkam3jX27O_",
        "outputId": "3c1bf72b-f949-4b30-eb2e-a5da9096c093",
        "colab": {
          "base_uri": "https://localhost:8080/",
          "height": 35
        }
      },
      "source": [
        "lig_gbm.fit(X_train,y_train)\n",
        "y_pred_xgb = lig_gbm.predict(X_test)\n",
        "score = np.sqrt(-cross_val_score(lig_gbm, X_test, y_test, \n",
        "                                   scoring=\"neg_mean_squared_error\", \n",
        "                                   cv = kfolds)).mean()\n",
        "                        \n",
        "print(score)"
      ],
      "execution_count": 69,
      "outputs": [
        {
          "output_type": "stream",
          "text": [
            "1787.3549084402466\n"
          ],
          "name": "stdout"
        }
      ]
    },
    {
      "cell_type": "markdown",
      "metadata": {
        "id": "t23tY3Rd_oTx"
      },
      "source": [
        "**Hyperparameter tuning for LGBM Regressor**\n"
      ]
    },
    {
      "cell_type": "code",
      "metadata": {
        "id": "N2OsY6Ay_kqF",
        "outputId": "96e89627-59f6-4fbd-bdc8-fc598f822264",
        "colab": {
          "base_uri": "https://localhost:8080/",
          "height": 627
        }
      },
      "source": [
        "def bayesion_opt_lgbm(X, y, init_iter=3, n_iters=7, random_state=11, seed = 101, num_iterations = 100):\n",
        "  dtrain = lgb.Dataset(data=X_test, label=y_test)\n",
        "  def lgb_r2_score(preds, dtrain):\n",
        "      labels = dtrain.get_label()\n",
        "      return 'r2', r2_score(labels, preds), True\n",
        "  # Objective Function\n",
        "  def hyp_lgbm(num_leaves, feature_fraction, bagging_fraction, max_depth, min_split_gain, min_child_weight):\n",
        "        \n",
        "          params = {'application':'regression','num_iterations': num_iterations,\n",
        "                    'learning_rate':0.05, 'early_stopping_round':50,\n",
        "                    'metric':'lgb_r2_score'} # Default parameters\n",
        "          params[\"num_leaves\"] = int(round(num_leaves))\n",
        "          params['feature_fraction'] = max(min(feature_fraction, 1), 0)\n",
        "          params['bagging_fraction'] = max(min(bagging_fraction, 1), 0)\n",
        "          params['max_depth'] = int(round(max_depth))\n",
        "          params['min_split_gain'] = min_split_gain\n",
        "          params['min_child_weight'] = min_child_weight\n",
        "          cv_results = lgb.cv(params, dtrain, nfold=5, seed=seed,categorical_feature=[], stratified=False,\n",
        "                              verbose_eval =None, feval=lgb_r2_score)\n",
        "           #print(cv_results)\n",
        "          return np.max(cv_results['r2-mean'])\n",
        "  # Domain space-- Range of hyperparameters \n",
        "  pds = {'num_leaves': (80, 100),\n",
        "            'feature_fraction': (0.1, 0.9),\n",
        "            'bagging_fraction': (0.8, 1),\n",
        "            'max_depth': (17, 25),\n",
        "            'min_split_gain': (0.001, 0.1),\n",
        "            'min_child_weight': (10, 25)\n",
        "            }\n",
        "\n",
        "  # Surrogate model\n",
        "  optimizer = BayesianOptimization(hyp_lgbm, pds, random_state=random_state)\n",
        "                                    \n",
        "  # Optimize\n",
        "  optimizer.maximize(init_points=init_iter, n_iter=n_iters)\n",
        "  optimizer.max['params']\n",
        "\n",
        "bayesion_opt_lgbm(X, y, init_iter=5, n_iters=10, random_state=77, seed = 101, num_iterations = 200)"
      ],
      "execution_count": 84,
      "outputs": [
        {
          "output_type": "stream",
          "text": [
            "|   iter    |  target   | baggin... | featur... | max_depth | min_ch... | min_sp... | num_le... |\n",
            "-------------------------------------------------------------------------------------------------\n",
            "{'r2-mean': [0.05601941387294753, 0.1162249725078085, 0.16924507500288058, 0.21733977357091394, 0.26177885206683293, 0.3044701304424301, 0.3435234822379548, 0.3807550871309798, 0.4112868104217058, 0.44176511852927386, 0.46844959298507155, 0.4928384689584937, 0.5154912571232281, 0.5358122767363913, 0.553368927550233, 0.5684385223113757, 0.5818075984972894, 0.5951320093936895, 0.6115567800887751, 0.6223744775122653, 0.6319378009922506, 0.6395941223661092, 0.6484586365946352, 0.6589542673194198, 0.6661221185546033, 0.6727202449781329, 0.681238248007946, 0.689587835534803, 0.6973794210635703, 0.7054482142641135, 0.7116604094594872, 0.7163414786122927, 0.721794627712379, 0.7265232098027875, 0.7300493818416569, 0.7327345548700535, 0.7374488214718598, 0.7398800129035599, 0.7424956448678677, 0.74580651098307, 0.7477575537680853, 0.7495820596287921, 0.7515603446102557, 0.7538952320177345, 0.7562486703954169, 0.7577867108229219, 0.7598420557975314, 0.7626129182468585, 0.76318646377355, 0.7643866433744863, 0.7652785166722813, 0.766406082485983, 0.7673590129576182, 0.768975945252252, 0.7702625404819281, 0.77107728353694, 0.7727851769306564, 0.7733805324653924, 0.7743171220175975, 0.7754221668919576, 0.7767497060871424, 0.7779114819423926, 0.7787571474649251, 0.7794282340700411, 0.7805164866473093, 0.7806239298473076, 0.7817269510502509, 0.7828469217093168, 0.7838918949986063, 0.7844516983394174, 0.7847187215572309, 0.7858274195308712, 0.7867243607983279, 0.7872070710884151, 0.7874347873953372, 0.7882258247025977, 0.7888991115294379, 0.7891803100834504, 0.7902430512607437, 0.7904553124181928, 0.7907416696497135, 0.7916077877989962, 0.7926081653253696, 0.7929475026085244, 0.7932844817053615, 0.7935228332658687, 0.7936328420989888, 0.7936799433699544, 0.7938202379845615, 0.7940686176926949, 0.7947363720114934, 0.7948626458370376, 0.7952050971580146, 0.7960469674641575, 0.7962368144214791, 0.7965545598552153, 0.7966664324142119, 0.796861927540548, 0.7971458236495121, 0.7970895432326331, 0.7977918043492536, 0.797845967768821, 0.7978438845945265, 0.7981122378335777, 0.7981899373358419, 0.798305180846216, 0.7983551962462017, 0.798452108927244, 0.7986955717875727, 0.7987842358561551, 0.7991154598352456, 0.7993374978830616, 0.7993232765209664, 0.7994507014640378, 0.7993768622685398, 0.7994656198433642, 0.7994413880716491, 0.799465375323604, 0.7998008356593453, 0.7998199837996666, 0.8002273028579758, 0.8004898300356629, 0.8005128675958726, 0.8006056525998944, 0.8007401702351611, 0.8006797227545885, 0.8008443772861937, 0.8007858265352145, 0.8011374787897936, 0.8012967856228144, 0.8014030824641554, 0.801686124969096, 0.8017411636224946, 0.8018384457161659, 0.8016285575067761, 0.80171020336944, 0.8018445067589219, 0.8018854948785359, 0.8017130628586283, 0.8017463597114185, 0.8018643338287805, 0.801865753570618, 0.8017777581520651, 0.8018394577557645, 0.8016946454700851, 0.8016882248405869, 0.8015480689029395, 0.8016307831957187, 0.8015776227035968, 0.8015733069211814, 0.8015258351651667, 0.801544112674892, 0.8014925672679099, 0.8013673310370484, 0.8014194635352421, 0.8015903852204467, 0.8015730037233764, 0.8016291849823969, 0.801454680162828, 0.801572300026794, 0.8014738381763422, 0.8015601608553997, 0.8015359349516717, 0.8014586560460263, 0.8016542548485297, 0.801778019785119, 0.8017813539265409, 0.8017644679310635, 0.8016327860597432, 0.8017870496858721, 0.8018274670141929, 0.8017575839470851, 0.8015961756668183, 0.8016031009006117, 0.8016279423027081, 0.8016590437829052, 0.8018106680342623, 0.8020269790736693, 0.8021252469122124, 0.802261221685184, 0.8022565603012197, 0.8021841717098903, 0.8022178562252534, 0.8022759476393903, 0.8023447321272078, 0.802394019783416, 0.802341426404055, 0.8024105439420008, 0.8023491661458466, 0.8023102374127353, 0.802348056809428, 0.8023240607866484, 0.8023441552309862, 0.8023045946439142, 0.8023460842786729, 0.802302750009894, 0.8021711508620288, 0.8022430412402086, 0.8025067149004783, 0.8026345371321219], 'r2-stdv': [0.010924399943806624, 0.018123479436805097, 0.025641864942977374, 0.032580087299924024, 0.03882925268381431, 0.04272861104548982, 0.04771389379128069, 0.05251743181017613, 0.05656900117069346, 0.060807674716791944, 0.06260311693564127, 0.06418104138374467, 0.06710020441555535, 0.06948191176382112, 0.07129454600512766, 0.07221659137764685, 0.07340948847186901, 0.07467240348484883, 0.07444267280794675, 0.07521614520484564, 0.07587040581580873, 0.07620550890455217, 0.07668654925945842, 0.07791371933226791, 0.07842980922054468, 0.07881832302150349, 0.07975660029491204, 0.08020138286543049, 0.08091283630908108, 0.08044130513417029, 0.08093069938668837, 0.08047681017280145, 0.08053254995241066, 0.08003543593443259, 0.07974891748830577, 0.07943494496688139, 0.07863944599105532, 0.07872560492907968, 0.07883760073526154, 0.07832689426791903, 0.07843037359935241, 0.07825630707706972, 0.0782959920742527, 0.0780618387973835, 0.07773286728875545, 0.0776937553240065, 0.07715409680212243, 0.07613566782881787, 0.07644638581133066, 0.07627473171335807, 0.0762608310284125, 0.07613844007718953, 0.07614564627501352, 0.07562761628783649, 0.07510850960540516, 0.07499485351704573, 0.07416318783773458, 0.07425259055276444, 0.07428476567060405, 0.07365231787531788, 0.07319300301853053, 0.072898700682691, 0.07251655617661622, 0.0725046753033815, 0.0715083872424694, 0.0714816097659963, 0.07063322309667354, 0.06990692296512233, 0.06923790244770026, 0.06929827277386498, 0.06930729662111831, 0.06841756535134524, 0.06781290191590067, 0.06787792274015997, 0.06764605742798314, 0.06740829965135155, 0.06678496260487625, 0.06651922498119253, 0.06591117169056084, 0.06578073607008048, 0.06554009914750918, 0.0650923451877643, 0.06469359884790693, 0.06450144801513344, 0.06456534675545053, 0.06440312805005267, 0.06454176328281327, 0.0642902083799106, 0.06423969249706231, 0.06438020082777007, 0.06396890424519566, 0.06394400548693237, 0.06347978839003096, 0.06297849321882872, 0.06308790908867812, 0.062430673940736744, 0.062198373765594894, 0.06203929372126893, 0.06200758707281697, 0.06192122858434688, 0.06152288771320279, 0.06157784324705352, 0.06167637316234267, 0.06172273154859294, 0.06184216751597597, 0.06207201090090687, 0.0619304855010882, 0.06184952439543587, 0.062114165004812046, 0.06214420362788036, 0.061769967702355176, 0.06178690527781685, 0.06180251398617283, 0.06163054840267592, 0.061482150614263466, 0.061391696108096215, 0.061287261744084914, 0.06120067943770205, 0.06107492661766766, 0.06114510095256448, 0.06106950215868719, 0.06066917769327388, 0.06052842780986824, 0.060366238658390275, 0.06050983995707325, 0.0605731809372517, 0.06071556435653748, 0.060648436195720634, 0.06030371129938648, 0.060364222399451696, 0.06006644083107846, 0.05975883427133797, 0.05972560995476265, 0.05969521617127534, 0.059588417275238295, 0.05959299068246411, 0.05959034943994367, 0.0595082337331007, 0.059681890031331536, 0.05966084962382165, 0.05976280612979672, 0.05978271527443781, 0.05973149507419445, 0.05971783774921617, 0.05981725233400081, 0.05973464434654319, 0.05966250692295734, 0.05974636667335963, 0.059793222796944615, 0.05986873199447101, 0.059819448055081645, 0.059712270220259246, 0.059724277885099576, 0.05975716155652919, 0.05972234793767531, 0.059604749097331954, 0.05960970322349686, 0.059614985700672495, 0.05966884896940225, 0.05977592938177477, 0.05967399373467226, 0.05984857171098466, 0.059910446606013655, 0.059841947901254425, 0.059604231659571676, 0.059592836798071036, 0.05967793167967749, 0.059825803348106076, 0.059752466785951544, 0.059682523369388146, 0.05963783187505793, 0.05959326578304046, 0.05955810742119428, 0.05945579105146269, 0.05959791914720219, 0.05961519668263382, 0.059481804503510934, 0.059218863707234476, 0.059316373620468016, 0.059358609079790584, 0.05939986391421438, 0.05933130795245628, 0.059328720668721156, 0.05932225363952268, 0.05923526948917989, 0.05916223561486338, 0.05900067710682564, 0.05896091439807132, 0.0588485038964019, 0.05879957378750243, 0.05884057757954232, 0.058863482458147674, 0.058963461809325934, 0.05897779948517071, 0.05874274284563728, 0.05881170966538532, 0.05869243891774688, 0.05870207149689935, 0.05854094074596853, 0.05859924809426473]}\n",
            "| \u001b[0m 1       \u001b[0m | \u001b[0m 0.8026  \u001b[0m | \u001b[0m 0.9838  \u001b[0m | \u001b[0m 0.6138  \u001b[0m | \u001b[0m 23.03   \u001b[0m | \u001b[0m 12.09   \u001b[0m | \u001b[0m 0.009645\u001b[0m | \u001b[0m 95.76   \u001b[0m |\n",
            "{'r2-mean': [0.05451479284583276, 0.11437810631821428, 0.1656582707964328, 0.21319441363309172, 0.25769860294034475, 0.2989033845570111, 0.3379326045205027, 0.37279626976974756, 0.40123516090125044, 0.4331409015130207, 0.4596700527211535, 0.48360377190842013, 0.5063193253003367, 0.5272209939304429, 0.5447109868922254, 0.5584779627860216, 0.5722993459037806, 0.5862760589466885, 0.6018188134010503, 0.6146932571755943, 0.6242918371659, 0.6322509150989897, 0.6415194139079833, 0.6527728681501784, 0.6603048588480092, 0.667128052003825, 0.6761896161942416, 0.6847119110366371, 0.692705611244788, 0.7011720945255485, 0.7076426430850054, 0.7118252564630041, 0.7179412887924437, 0.7213228033477744, 0.7247312479689806, 0.7275363187886665, 0.7325713470807498, 0.7354837464172554, 0.7381262029181686, 0.7402531642803594, 0.7424601580977584, 0.744293207067503, 0.7462228620612885, 0.7486932482117374, 0.750882482940764, 0.7523530215772457, 0.7551195618144663, 0.7585287617904808, 0.7591961990653776, 0.7603506614591996, 0.7612002827256592, 0.7623433302397689, 0.7632026203258061, 0.7652733045013804, 0.7677556314977287, 0.7685566709175953, 0.770036410256516, 0.7707177619912884, 0.7714568364685048, 0.7732844440472724, 0.7752445090536554, 0.7773822397196966, 0.7777089167432896, 0.7783102347031098, 0.7796222926180936, 0.7799977301214471, 0.7804195561276783, 0.7815478817031412, 0.7827548301114216, 0.7831321849781894, 0.7835514228711075, 0.7838354380752375, 0.7843870347017031, 0.7850256710109209, 0.7853705406808993, 0.78673983822928, 0.7875981789660542, 0.7882014658446558, 0.7889766635127027, 0.7891210280113385, 0.7893383190187764, 0.7903341782562212, 0.7913400082713886, 0.7915370957187772, 0.79199577274152, 0.7921674091964295, 0.7920153559470673, 0.7923716028269148, 0.7924143995374445, 0.7924411309094728, 0.7930278275241773, 0.7930763630762869, 0.793376383967374, 0.793724335537427, 0.7937482774003787, 0.7939312780605998, 0.7944769614477305, 0.7945546563052429, 0.794750258317473, 0.7945954267823429, 0.7952786695683021, 0.7953527574668197, 0.7958392295430646, 0.7959760970890832, 0.7962895559229934, 0.7964505547949621, 0.796547104683069, 0.7966825302470076, 0.7972510191689595, 0.7972784316802403, 0.7975415143706391, 0.7975217032324554, 0.7972897409896941, 0.7978423053802551, 0.7976966478146291, 0.7978873554937305, 0.7979835447911533, 0.7981934778501746, 0.7983461139773691, 0.7983285728100972, 0.7983903068387098, 0.7986534998265326, 0.7985753973572928, 0.7985112294431731, 0.7987310951948551, 0.7988292348506303, 0.7989459886320182, 0.798907448340207, 0.7987951044562157, 0.7988812846454565, 0.7989172445101603, 0.7991074451556062, 0.7991862847369047, 0.7993704760415115, 0.7993856376633375, 0.7997018827622673, 0.7997376854419487, 0.7998686635434387, 0.8000956975917457, 0.8003081389507821, 0.8003317342122397, 0.8004712170986206, 0.800506822163958, 0.8005348603731516, 0.8003731465877401, 0.8004014933025723, 0.8004710471327356, 0.8005452850247081, 0.8005879136297649, 0.8004996801070128, 0.8004871081745595, 0.8005449197561478, 0.800408005320264, 0.8004474709980365, 0.8004558488596029, 0.8007263599786218, 0.800774533937646, 0.8007431043456894, 0.8011633944593699, 0.801240630047564, 0.8013650103096734, 0.801360938648552, 0.8013641985115452, 0.8011589098441518, 0.8013021808742365, 0.8013094704439954, 0.8014043715448544, 0.8014018622421698, 0.8015011574031357, 0.801567312657275, 0.8015137712649747, 0.8015285419075233, 0.8015259424190532, 0.8014757810680513, 0.8014275083223339, 0.8014144637208848, 0.8014612250368709, 0.8014020177521546, 0.8014630439844961, 0.8015113639621056, 0.8016276724564888, 0.8016168666138725, 0.8016586087274522, 0.8017862306348121], 'r2-stdv': [0.010356883105122207, 0.01701886735981944, 0.025138800738887156, 0.032291087418332316, 0.03785110031653111, 0.04184096341645991, 0.04703636548328714, 0.05217345809839936, 0.05550256163262436, 0.059899044831356496, 0.06261917995475039, 0.06354519840701328, 0.06674362451427329, 0.06920429216567259, 0.07117633591316445, 0.07209358463457356, 0.07338590233819502, 0.07433363739091012, 0.07281239312924165, 0.07241956532897091, 0.07313308977896522, 0.07332562529200215, 0.07418754709768752, 0.07541322004615297, 0.07613544872162462, 0.07642366685066225, 0.07780572020669474, 0.07875478476736775, 0.07926532371413393, 0.07892017734313107, 0.07918364924759602, 0.07904669693833372, 0.07851268486380797, 0.07773832229449255, 0.07761724656691334, 0.0775482656913291, 0.0769794168915982, 0.07671080111413088, 0.07711909198702994, 0.07714881116381646, 0.07713934370628853, 0.07694847849156367, 0.0769039091039997, 0.07627093571211346, 0.07619318668668251, 0.07611309535467338, 0.07618997708342204, 0.07548526507098045, 0.07540870273491629, 0.07535514012956226, 0.07563485141678558, 0.07551708805197895, 0.07547887954411796, 0.07525159421376722, 0.07498499169266695, 0.07513655217371866, 0.07445214350109738, 0.07440975355039042, 0.07446679887793922, 0.07384690962217764, 0.07323844428006561, 0.07274653314923994, 0.07260465392379484, 0.07274994067898397, 0.07189441614223947, 0.07176732362982992, 0.07153567964021801, 0.07066700756415907, 0.06992783893495305, 0.06988175787842822, 0.0696005896591008, 0.06981200644563214, 0.06960967129058175, 0.06982326319878789, 0.06982773389514835, 0.06934295491386011, 0.06890342749309528, 0.06807168045115108, 0.06741742852978151, 0.06724180229060402, 0.06718690989926644, 0.06677332508637115, 0.06627497855607856, 0.0661270624726797, 0.06600893971453625, 0.06581480725659261, 0.06572836733133662, 0.06566339632924864, 0.0655061295709952, 0.06553087897909375, 0.06502324095416581, 0.06511374771627174, 0.0646262521980349, 0.0648066862571852, 0.06484953366132211, 0.06497218045758685, 0.06453652981154918, 0.06420885090999666, 0.06413049218399224, 0.06394912976155762, 0.06361951413295985, 0.06364544916053255, 0.06312651158849178, 0.06329327077012707, 0.06286363178362261, 0.06298273100721151, 0.06308654705047877, 0.06306207145992322, 0.06283588843480177, 0.06282875671134489, 0.06246855180352841, 0.06237568665395294, 0.0623833172955105, 0.06202515668479843, 0.061913628781870914, 0.061772754423644584, 0.06173546517850883, 0.06139062316149294, 0.06117006354486139, 0.061118516252209584, 0.06118406039313842, 0.060785329223632716, 0.06073430062149184, 0.06079352535147414, 0.060801297867050595, 0.060995241780715206, 0.061053366533371276, 0.06109041528806015, 0.061010712630021766, 0.06113528817166733, 0.0609937188339684, 0.06086801503496011, 0.060814299032545316, 0.060539279700972615, 0.06040229589661616, 0.06031453104102959, 0.060367813498915575, 0.0601636804310402, 0.06015575203357648, 0.06004351609682019, 0.06009195203197494, 0.060139129590180584, 0.060108536297988804, 0.06004839094673538, 0.0600573716957818, 0.05992086304300604, 0.05995301706109588, 0.0600144624894313, 0.06006506653737197, 0.05994656802983066, 0.060033479282659216, 0.06010731341231688, 0.060056287831606034, 0.06021427062777415, 0.060286277575677984, 0.06005597445308667, 0.06002682241231182, 0.06009523830637474, 0.05988440421421235, 0.059875010262822874, 0.0599488001171991, 0.05991098819830696, 0.0599179623401323, 0.059967280464024324, 0.059811482823957554, 0.059722816834601504, 0.059721472101895184, 0.05988948712249536, 0.05991584447227534, 0.05989484891526608, 0.059975801145908954, 0.06001208663088877, 0.05997010740837737, 0.059888566561753, 0.0598817911600682, 0.059782513155188705, 0.05968362755150289, 0.059742142348417765, 0.05977547350474481, 0.05982942744158839, 0.059764801599798516, 0.059705250295562944, 0.059733327870578494, 0.05966775023414379]}\n",
            "| \u001b[0m 2       \u001b[0m | \u001b[0m 0.8018  \u001b[0m | \u001b[0m 0.8652  \u001b[0m | \u001b[0m 0.5329  \u001b[0m | \u001b[0m 18.92   \u001b[0m | \u001b[0m 18.18   \u001b[0m | \u001b[0m 0.04065 \u001b[0m | \u001b[0m 94.3    \u001b[0m |\n",
            "{'r2-mean': [0.05531721981547453, 0.11534982135950103, 0.16677060433891583, 0.21458304782448118, 0.25941644051420515, 0.30112596109090684, 0.3401639142395075, 0.377570424256787, 0.40950238889809454, 0.44105198856141914, 0.46705980526620533, 0.49106227071694963, 0.5139182691263235, 0.5342792397186222, 0.5515338810693805, 0.5655033235087821, 0.5791909456222643, 0.5925801365470843, 0.6090275213107577, 0.621474306086629, 0.6310392498551061, 0.6389639709241777, 0.6478261375340008, 0.6581820754703172, 0.665518818813933, 0.6725273347796449, 0.6810880583252075, 0.6895050334826116, 0.6971536522212783, 0.7052696322204431, 0.7107525785686063, 0.7152528018603521, 0.7208271199489655, 0.7257834040822704, 0.7289773207578565, 0.7316182851206365, 0.7362245229869823, 0.7390169982354584, 0.7415291844721843, 0.744749383807115, 0.7467016518095406, 0.7485428183303358, 0.7506092102934454, 0.7532404869166428, 0.7560542247103123, 0.7573672896589176, 0.7597081011658974, 0.7626398458612005, 0.7633353854583373, 0.7642285300269165, 0.7650290080954264, 0.7659979504742501, 0.7667702995441988, 0.7691617946451206, 0.7710168959187633, 0.7719262308141378, 0.7732457233826986, 0.7740039955656377, 0.7750107117120413, 0.7763869465429725, 0.7782067675309374, 0.7794630904841187, 0.7799473018364578, 0.7805946269426274, 0.7816690856801884, 0.7817666681801246, 0.7822619611166906, 0.783443294693128, 0.7846205238170827, 0.7850333893753448, 0.7854852664464345, 0.785862289647915, 0.786577319603865, 0.7870836638280683, 0.7871937923292078, 0.7884779640376467, 0.7891053825408302, 0.7897497152362496, 0.7904370745656225, 0.7910960715841915, 0.7916785333203811, 0.792244512522878, 0.7930131305244394, 0.7929434952209611, 0.793368535432304, 0.793536024792483, 0.7935720867802247, 0.7938404639531956, 0.7939502536502451, 0.7940710263346068, 0.7946476354338767, 0.7947491500992122, 0.7947903850695519, 0.7950317351843585, 0.7952687531717944, 0.7952059258357039, 0.7957998467083801, 0.7959923141003935, 0.796176464120919, 0.7961910232118571, 0.7968429068557856, 0.7969771260376405, 0.7972662705621766, 0.7972932503733661, 0.7975439149123841, 0.7976239945692212, 0.7976806413536983, 0.7978412628921856, 0.7982527375061409, 0.7982234611626213, 0.7984038219197277, 0.7985014587959007, 0.7984486447583505, 0.7989653239618107, 0.7989758094864131, 0.7991732822394523, 0.7991315274961106, 0.799195917412613, 0.7995953996595413, 0.7996287953979244, 0.7999071707497847, 0.7999218526059699, 0.799895218363105, 0.7999243244257028, 0.800235353314178, 0.80012700806333, 0.8002105720196268, 0.8001061462307775, 0.8001690278383329, 0.8002918810289616, 0.8002491085323975, 0.8004083483901965, 0.8006938569841326, 0.8009367078180121, 0.8009479890871651, 0.8011988799858949, 0.8012351354310324, 0.8013701816881046, 0.8014773786870771, 0.8016176129271632, 0.8015306493773501, 0.8017452838814185], 'r2-stdv': [0.010728976745949532, 0.01764171627557365, 0.025691538229972492, 0.03279188263987802, 0.038389455163133336, 0.042273463417524026, 0.047077200874571457, 0.051954734176362496, 0.05494886619743686, 0.05930724498736705, 0.06146963543833006, 0.06322631585567154, 0.06621423927850954, 0.06879707888698994, 0.07065124426311246, 0.07196182468336035, 0.07332789786595478, 0.07459555990976414, 0.07439300689867008, 0.0739029819954817, 0.0745725497503672, 0.07497179094552016, 0.07587789395420665, 0.07684064557595886, 0.07773505106075172, 0.07820034756198822, 0.07934338229160157, 0.0797988726997974, 0.080187008517372, 0.07953466941557671, 0.08018078931614113, 0.0798325147400886, 0.07999176786310828, 0.07950711895411308, 0.07956099601938922, 0.07954588252046765, 0.07872352196236607, 0.07851042493458436, 0.07865282730049183, 0.07851113916676183, 0.07869979445979235, 0.07840247015925707, 0.07840491348274878, 0.07831727916846008, 0.07797189000495518, 0.07785806893981745, 0.07754660892517888, 0.07672385187204997, 0.0766891848995871, 0.07653296040863207, 0.07672882069749316, 0.07644518883995206, 0.07664841773827484, 0.07572528765913177, 0.07526911732542788, 0.07514057569242484, 0.07435340153366073, 0.07414180828637254, 0.07405671214684682, 0.07355163575528785, 0.07283619471968615, 0.07235236758540986, 0.07234722533520023, 0.0726073642290301, 0.07161414834574527, 0.07165893947786943, 0.0715409687943908, 0.07072907157923948, 0.06977764693404043, 0.06983837607971076, 0.06940421449500069, 0.0695254821026419, 0.06929852071517802, 0.06943023741009695, 0.0693282042148778, 0.06850447149172592, 0.06782061879741319, 0.06704077613849219, 0.06628867808508171, 0.06563308503740174, 0.06497744399121741, 0.06468930852444754, 0.06421014536122815, 0.06411736681880774, 0.0638687263008378, 0.06378759554709826, 0.06359549068292619, 0.06337294159027494, 0.06349867282565198, 0.06350922836237288, 0.06293535128346575, 0.06294486122474925, 0.06281123657731072, 0.06284167041190745, 0.06291888760731641, 0.06298482226186759, 0.0625049671431347, 0.062470829221986685, 0.06245381301630856, 0.06260035004130374, 0.062185352400849596, 0.06212273489802724, 0.06167463507762558, 0.061800013183388465, 0.06133312733797073, 0.061459674442834955, 0.06141670896642036, 0.061358495978710494, 0.06108882671257724, 0.06113161564637285, 0.06071181885623037, 0.06071181587597379, 0.060713935385862006, 0.060763163709237886, 0.060415324173642614, 0.06031263183417534, 0.06024486129467485, 0.06011280701466719, 0.05977971483756894, 0.05974042561469381, 0.05970971519829216, 0.05952838467470628, 0.059511033181768855, 0.05941436406226289, 0.05925374158792602, 0.05956017729758292, 0.05955630114726778, 0.05952579968200647, 0.059345350643704116, 0.059358994824204245, 0.05934510113951065, 0.05949153876598348, 0.05931720073877036, 0.059073360166014555, 0.059216624639236264, 0.0588072576319836, 0.05887754021820452, 0.058855254786329685, 0.058897521253185474, 0.058935327987314295, 0.058944775826100616, 0.05902438530203677]}\n",
            "| \u001b[0m 3       \u001b[0m | \u001b[0m 0.8017  \u001b[0m | \u001b[0m 0.9673  \u001b[0m | \u001b[0m 0.5708  \u001b[0m | \u001b[0m 19.37   \u001b[0m | \u001b[0m 14.22   \u001b[0m | \u001b[0m 0.07085 \u001b[0m | \u001b[0m 88.45   \u001b[0m |\n",
            "{'r2-mean': [0.055830689774977425, 0.12024980646855095, 0.17289401612771588, 0.2209176258644554, 0.265302335910754, 0.30867012781947073, 0.34707631629114954, 0.3836642551250601, 0.4145971735353265, 0.44517904711870154, 0.4721392836762738, 0.4965087527456998, 0.5186638072399554, 0.5393059312734374, 0.5590971499957244, 0.5741287744096135, 0.5882735268474221, 0.6012317176725606, 0.6165586510337547, 0.6274613105437391, 0.6418827304401221, 0.649074993673677, 0.6577174056109751, 0.6673977750071367, 0.6763354203819849, 0.6826734201078212, 0.6914339914252547, 0.6993420070401088, 0.706200212732967, 0.7125147393866509, 0.717456315430357, 0.7218749938623329, 0.7267277311048315, 0.7314708540245354, 0.7367605056959655, 0.7397596981068872, 0.7434148510145991, 0.7453817179856496, 0.7475784404346972, 0.7508369554151585, 0.7547763549774448, 0.7562867703492318, 0.7590540607286572, 0.7610905882614708, 0.7636467488051312, 0.7645472142510183, 0.7663440463559985, 0.7686229560358354, 0.7696297544486701, 0.7701207548032685, 0.7714712587756091, 0.7727478997082315, 0.7735000740166995, 0.7748744192349033, 0.7760444071998763, 0.7768517954538805, 0.7783162481605945, 0.779527062809451, 0.7808950884393784, 0.7821273250874294, 0.7830182751004624, 0.7837156729637725, 0.7843093853185821, 0.7849298447630779, 0.7859561710716588, 0.7862994241511146, 0.7871054256410063, 0.7881108276701244, 0.7888709860886728, 0.7892318988335872, 0.7894351170368905, 0.7905412620725264, 0.7913749110140241, 0.7917861353868219, 0.7919961907846689, 0.7925651822522475, 0.7928424996365429, 0.7931388294944659, 0.7940830959720394, 0.794139974150515, 0.7946838558479346, 0.79543069408207, 0.7958863847566178, 0.79612132970203, 0.796624770836497, 0.7968885203803568, 0.79706457228546, 0.7972147426231306, 0.7973939149938104, 0.7974455980773689, 0.7977136101880421, 0.7980590197300771, 0.7981578139090002, 0.798562740026688, 0.7987203961513549, 0.7989433181087006, 0.7990120385689841, 0.7991391430701128, 0.7996135819148041, 0.7995397265073748, 0.7999485776525115, 0.7999474411602914, 0.8000796356486888, 0.8000420949118215, 0.8001917778052661, 0.8002758861891011, 0.8001184842206138, 0.8003419824505423, 0.8005442000678837, 0.8004327381901083, 0.8005452364544479, 0.8006741416054759, 0.8006323828979504, 0.8007901789182457, 0.8010168063420853, 0.8010698832148784, 0.8014359897495194, 0.8016167484493331, 0.8016881539317374, 0.8018127279446879, 0.8018858886134648, 0.8019470432798137, 0.8018462627317998, 0.80177045177259, 0.8018616908672925, 0.8019082678296746, 0.8019277738872246, 0.8019044562262598, 0.8019923572007427, 0.8021429377583275, 0.8020115521261773, 0.8019386063607847, 0.8019697021086956, 0.8018745618034033, 0.8019096629414166, 0.802170451959031, 0.8023071300234488, 0.8023079231956913, 0.8024352731170972, 0.8024049430199434, 0.8024027430446002, 0.8022131301331255, 0.8020824240306379, 0.802200057837345, 0.802280981103807, 0.8022604955112979, 0.8022590146823074, 0.8021394913888372, 0.8022130560323528, 0.8022526864038895, 0.802302216829476, 0.8023539243643846, 0.8022291851022469, 0.8021966881653986, 0.8022915012495838, 0.8023188025808199, 0.802549585845243, 0.8025708620965952, 0.8026884859448133, 0.8026537712329537, 0.8026734174022646, 0.8028624812057329, 0.8029466140170658, 0.8030108678233265, 0.8030730884172603, 0.8031295124861085, 0.803256459687168, 0.8032745154128907, 0.803243544876817, 0.803368460580711, 0.8033412376873359, 0.8033491847113018, 0.8033309148083629, 0.8033444760384508, 0.8033142868668726, 0.8033604114468135, 0.8032626607964577, 0.803201715338427, 0.8032632321927651, 0.8032583076106846, 0.8031638502444522, 0.8032200580905651, 0.8031466702777305, 0.8032687373080909, 0.8032646819429645, 0.8032128165892919, 0.8031632223618212, 0.8032824691678526, 0.803376708450158, 0.8033848090223803, 0.8035293290163533, 0.8034840366047845, 0.8035953004547924, 0.8036037369278537, 0.8035838932993539, 0.8035674744859126, 0.8035841430330212, 0.8036206904388795, 0.803656941845845], 'r2-stdv': [0.010608785423359702, 0.017238002843056703, 0.024639982597645316, 0.03179187738235608, 0.03797751999097532, 0.04208297722531304, 0.047058417782964324, 0.051454486098446946, 0.055367180562877365, 0.059771835619478075, 0.06284133810534573, 0.06448779606034007, 0.06741323307483772, 0.0697410532501487, 0.071947780425817, 0.07318946404201021, 0.07472225547861386, 0.07596812725983511, 0.07588923165346671, 0.07664082910926559, 0.07706484667842162, 0.07746449948596788, 0.07777849514621028, 0.07896590117245163, 0.07980949880811114, 0.08000407698899252, 0.07890304278650173, 0.07941930123203658, 0.07968991438764329, 0.07955888709183626, 0.0798762062464687, 0.07945552167518277, 0.07967360117383823, 0.07943210803835561, 0.0787327843707157, 0.07840256576590586, 0.07873837478256274, 0.0791519165701877, 0.07949885819650102, 0.07908878417496036, 0.07806471719193521, 0.07791649747839575, 0.07765697829179594, 0.07751930227331134, 0.07650184919965299, 0.0766644484692479, 0.0760172983909205, 0.07505882739507566, 0.0751408558960561, 0.07515814030883518, 0.07479167966389216, 0.07423756331963637, 0.07432904296509339, 0.07369087609304596, 0.07303416328743059, 0.07248015664655874, 0.07177692564825355, 0.07115887129123631, 0.0702797668017303, 0.06944388294127651, 0.06884932046133223, 0.06851670242251788, 0.06802672890347461, 0.06748511101697349, 0.06687486793812362, 0.06657288115594748, 0.0657772689947959, 0.06521312077871572, 0.06455987358860014, 0.06441853864096807, 0.06435698891460771, 0.06359020856525298, 0.06301195505402783, 0.0631000078834407, 0.06308286690837377, 0.062285050468032295, 0.06226358596831034, 0.06218270943624932, 0.06152601981729426, 0.06183073900692196, 0.06166824928482999, 0.06103324722708959, 0.060808846263514356, 0.060827512243067795, 0.06025897534096089, 0.05980473649934924, 0.05966504905564004, 0.059565698751518285, 0.0595941458521335, 0.059551437269004324, 0.05940641274880833, 0.0595189692155369, 0.05955261802559375, 0.05945435375787155, 0.05956099339047551, 0.059309084544150244, 0.059228106194622356, 0.059307536160063394, 0.05937415883772223, 0.059491538503246545, 0.05920508380183837, 0.059247585248733456, 0.05932305565671159, 0.059470754422227545, 0.05941765588702554, 0.059306982786704, 0.059202792059406456, 0.058797946459749964, 0.05876718601630496, 0.05885217926581483, 0.05871231241893455, 0.05860612678429784, 0.058630673390377565, 0.058669843402979656, 0.05841565899043209, 0.05850201196930782, 0.05823490906211085, 0.05810468494677015, 0.05784192716502283, 0.05797295995302541, 0.05808438049114183, 0.058013840874220776, 0.05783443437954986, 0.05783123864803571, 0.05769131744635934, 0.05770780067320789, 0.05790438461745897, 0.05779273107557513, 0.05775224420125098, 0.05771346475458813, 0.05768839632062589, 0.05765798589831189, 0.05765034842418081, 0.057679936877977525, 0.05775746124635251, 0.05747703497181452, 0.05755344850143472, 0.05741398503965055, 0.05739706692905301, 0.05733417836511581, 0.057402407655680165, 0.05741997134950934, 0.05746403950231606, 0.05747185236469387, 0.05749036347330609, 0.05753234930479487, 0.05744997077160965, 0.057450904517831046, 0.057188544474981125, 0.057103083998833966, 0.057074125824410224, 0.05699938253581809, 0.056729690830181215, 0.05658665618246763, 0.05654779117100826, 0.05662890179836206, 0.05667133455891191, 0.0567051035099589, 0.05657650978128392, 0.05659175707603785, 0.05667239670571795, 0.05665973172990865, 0.05680313579194185, 0.056759666370108354, 0.056858809629583076, 0.056674197576096194, 0.056725859318831375, 0.05685958959785148, 0.056878465315061265, 0.05686057076727317, 0.0568684327292385, 0.056909694940792246, 0.05688440779936499, 0.056887117628534496, 0.05690940630833218, 0.05682649394035155, 0.05675077099492427, 0.056538326076441346, 0.056649757708546356, 0.056707444345686496, 0.05674542437429367, 0.05672789231798257, 0.056790393541776445, 0.05681699265062789, 0.05679666728935434, 0.05652797432017706, 0.0564760176314052, 0.05650027044825226, 0.056223469044638874, 0.056272923322513685, 0.05622063918823068, 0.0561525674046257, 0.05616831393088765, 0.0561840294872492, 0.05605465038814806, 0.056070136224086686, 0.0561923789549182, 0.05614813429214852, 0.05625602722002904]}\n",
            "| \u001b[95m 4       \u001b[0m | \u001b[95m 0.8037  \u001b[0m | \u001b[95m 0.8115  \u001b[0m | \u001b[95m 0.6976  \u001b[0m | \u001b[95m 20.62   \u001b[0m | \u001b[95m 12.64   \u001b[0m | \u001b[95m 0.005888\u001b[0m | \u001b[95m 85.85   \u001b[0m |\n",
            "{'r2-mean': [0.055830689774977425, 0.12024980646855095, 0.17289401612771588, 0.2209176258644554, 0.265302335910754, 0.30867012781947073, 0.34707631629114954, 0.3836642551250601, 0.4145971735353265, 0.44517904711870154, 0.4721392836762738, 0.4965087527456998, 0.5186638072399554, 0.5393059312734374, 0.5590971499957244, 0.5741287744096135, 0.5882735268474221, 0.6012317176725606, 0.6165586510337547, 0.6274613105437391, 0.6418827304401221, 0.649074993673677, 0.6577174056109751, 0.6673977750071367, 0.6763354203819849, 0.6826734201078212, 0.6914339914252547, 0.6993420070401088, 0.706200212732967, 0.7125147393866509, 0.717456315430357, 0.7218749938623329, 0.7267277311048315, 0.7314708540245354, 0.7367605056959655, 0.7397596981068872, 0.7434148510145991, 0.7453817179856496, 0.7475784404346972, 0.7508369554151585, 0.7547763549774448, 0.7562867703492318, 0.7590540607286572, 0.7610905882614708, 0.7636467488051312, 0.7645472142510183, 0.7663440463559985, 0.7686229560358354, 0.7696297544486701, 0.7701207548032685, 0.7714712587756091, 0.7727478997082315, 0.7735000740166995, 0.7748744192349033, 0.7760444071998763, 0.7768517954538805, 0.7783162481605945, 0.779527062809451, 0.7808950884393784, 0.7821273250874294, 0.7830182751004624, 0.7837156729637725, 0.7843093853185821, 0.7849298447630779, 0.7859561710716588, 0.7862897830197879, 0.7870959265019362, 0.7881013091534722, 0.7888637719893563, 0.7892202009200038, 0.789422795677645, 0.7905292789870024, 0.7913703067336589, 0.7917752192150088, 0.7919725296257882, 0.7925225395953184, 0.7927718796827408, 0.7930690886271746, 0.7940132959768078, 0.7940765083523214, 0.7946246590466021, 0.7953441030774013, 0.7957805970573288, 0.7961218864207387, 0.7967461938791057, 0.7970853619925102, 0.797447259321368, 0.7974455218807467, 0.7974796730778456, 0.7976216879275246, 0.7976973850923155, 0.7981310162888109, 0.7980893774045685, 0.7985142980144342, 0.7986025999956081, 0.7990402854941634, 0.7993707153548071, 0.799436412058149, 0.7998566787206876, 0.7997802817548595, 0.8001428003999049, 0.8000385910624102, 0.8000624486392611, 0.8002285711205607, 0.8002488472780673, 0.8003619759985566, 0.8003500911461281, 0.8005052053828786, 0.8005922689735956, 0.8006951421509694, 0.8008614702991295, 0.8011689954029215, 0.8012385119676093, 0.801319361724568, 0.8014183981133851, 0.8015195150885462, 0.8016166100081603, 0.8020438496310703, 0.8022333366178266, 0.8022638008132063, 0.8024687234466079, 0.802528119557375, 0.8026917128703118, 0.8026996954979193, 0.8028986568449656, 0.8029080256673508, 0.8030461902113679, 0.8031247660914097, 0.803164416260282, 0.8032834470328762, 0.803248531773354, 0.8032490499640617, 0.8033785218833043, 0.8034971945430289, 0.8034117614724195, 0.8036278985125798, 0.803733064467156, 0.803795443474925, 0.8036695325140041, 0.8036835018183799, 0.8037163993631035, 0.8037619708887492, 0.8039337875210231, 0.8039279713881726, 0.803840292972717, 0.8038305132751195, 0.8038714699713996, 0.8039707334295698, 0.8039060869690344, 0.8039810174352103, 0.804025698626495, 0.8040093427053987, 0.8038334189357486, 0.8040333804029363, 0.8040349390918067, 0.8039828330241889, 0.8039466331282155, 0.8039121421635145, 0.8038627795860078, 0.8038151722458334, 0.8037239533251899, 0.8038062813873884, 0.8038791019373506, 0.8038675991347951, 0.8039184933988179, 0.8039956455679113, 0.8038903687474066, 0.8039118315664873, 0.8037578865572332, 0.8037249634766358, 0.8037746118333976, 0.8037015583207477, 0.8035864844998418, 0.8036714371765227, 0.8036579883318676, 0.8037176424072954, 0.8036935024934018, 0.8037145794029069, 0.803841037061783, 0.8039306285131683, 0.803940124377349, 0.8041062622139309, 0.8041446805925343, 0.8041939872991136, 0.8041766125791936, 0.8042031429515953, 0.8043641673620392, 0.8043463627244037, 0.8042995973999696, 0.8043346581539914, 0.8043554639743509, 0.804366399638931, 0.8044143733614684, 0.8044966174148678, 0.8045634271947446, 0.8046237063185606], 'r2-stdv': [0.010608785423359702, 0.017238002843056703, 0.024639982597645316, 0.03179187738235608, 0.03797751999097532, 0.04208297722531304, 0.047058417782964324, 0.051454486098446946, 0.055367180562877365, 0.059771835619478075, 0.06284133810534573, 0.06448779606034007, 0.06741323307483772, 0.0697410532501487, 0.071947780425817, 0.07318946404201021, 0.07472225547861386, 0.07596812725983511, 0.07588923165346671, 0.07664082910926559, 0.07706484667842162, 0.07746449948596788, 0.07777849514621028, 0.07896590117245163, 0.07980949880811114, 0.08000407698899252, 0.07890304278650173, 0.07941930123203658, 0.07968991438764329, 0.07955888709183626, 0.0798762062464687, 0.07945552167518277, 0.07967360117383823, 0.07943210803835561, 0.0787327843707157, 0.07840256576590586, 0.07873837478256274, 0.0791519165701877, 0.07949885819650102, 0.07908878417496036, 0.07806471719193521, 0.07791649747839575, 0.07765697829179594, 0.07751930227331134, 0.07650184919965299, 0.0766644484692479, 0.0760172983909205, 0.07505882739507566, 0.0751408558960561, 0.07515814030883518, 0.07479167966389216, 0.07423756331963637, 0.07432904296509339, 0.07369087609304596, 0.07303416328743059, 0.07248015664655874, 0.07177692564825355, 0.07115887129123631, 0.0702797668017303, 0.06944388294127651, 0.06884932046133223, 0.06851670242251788, 0.06802672890347461, 0.06748511101697349, 0.06687486793812362, 0.06656488302546158, 0.06576941556736929, 0.06520532413396118, 0.06455471807516665, 0.06441217583496785, 0.06435043376241799, 0.06358379392970036, 0.0630120186266145, 0.06310713993581946, 0.06307728502901071, 0.06226293766357803, 0.062216848159657695, 0.062135721130857975, 0.061478672936476374, 0.06178735470975122, 0.06162574911216566, 0.060985988703348495, 0.060809389150145096, 0.06082369356096089, 0.060139899241958776, 0.059744746058520565, 0.05960151884720629, 0.059447410115443744, 0.05942772117734232, 0.05949551777571844, 0.059350500378387225, 0.05951524880215194, 0.059513439171524844, 0.05939641333404578, 0.05944471477085583, 0.05929052428258383, 0.059480124835991424, 0.0595418453219738, 0.059486747979910465, 0.05958548152552094, 0.05936289804034382, 0.059361406467366894, 0.05929968226584749, 0.05954430787712856, 0.05942684602961616, 0.05947645281029762, 0.05944201847564593, 0.05905883358059549, 0.058885440122299966, 0.058653188457839525, 0.058682850098699814, 0.05868038299131264, 0.058842348769666555, 0.05879427218403252, 0.058506578281024395, 0.058473660660199364, 0.05846641537284457, 0.0581937389034385, 0.05812991660479701, 0.05818916261239472, 0.05825461599862445, 0.05831469289411947, 0.0582780620253964, 0.05810773883940107, 0.05801929200813847, 0.0579107962417235, 0.057931738523316734, 0.05790519154233921, 0.05800667494657716, 0.057830182158812304, 0.05778316035575324, 0.057414634656200766, 0.05745887909099996, 0.05763072208106512, 0.057820337785586776, 0.057469241677498804, 0.0576218359101215, 0.0576127934054898, 0.057623915724757065, 0.05747864082371527, 0.057644068832985465, 0.05753258297673068, 0.057316596291633506, 0.05740717843621298, 0.05742536184050492, 0.05753093791380424, 0.05760837904307334, 0.057325139165774544, 0.057175226477506634, 0.05716497256831099, 0.05717532759860815, 0.05711794969064943, 0.05702473545937546, 0.05680689146503518, 0.05687195661031639, 0.05707837650691735, 0.05708256478732227, 0.05710044594670186, 0.057100512427872785, 0.05723086485372566, 0.05729655408629243, 0.05730379716160528, 0.057357534065008355, 0.05740665303302351, 0.057281769419462135, 0.057227948082158, 0.057259055027980295, 0.057350116604416065, 0.05737231076517031, 0.05713840170486124, 0.05704675094951766, 0.057098440106813766, 0.057085274511624255, 0.05721965812617828, 0.05713224184621381, 0.057067776038462414, 0.057011721161427255, 0.056970060935945886, 0.05697648250683733, 0.057036492774657416, 0.05705953412755365, 0.05679910431810509, 0.05676100808061202, 0.056801640366804275, 0.056875876228053755, 0.056791722986973305, 0.05666892545954921, 0.05669650787433388, 0.05664283945575267, 0.05666324946698329, 0.0567191653045824, 0.056733819672827375, 0.05669323439196056, 0.05676258348132356, 0.056528851236085004, 0.05644372229847279]}\n",
            "| \u001b[95m 5       \u001b[0m | \u001b[95m 0.8046  \u001b[0m | \u001b[95m 0.8134  \u001b[0m | \u001b[95m 0.7009  \u001b[0m | \u001b[95m 17.51   \u001b[0m | \u001b[95m 16.48   \u001b[0m | \u001b[95m 0.03705 \u001b[0m | \u001b[95m 83.04   \u001b[0m |\n",
            "{'r2-mean': [0.03693199166175511, 0.08929880896578668, 0.12994195353958676, 0.17327826616804481, 0.2197158987001228, 0.25548509596654484, 0.2966299343887727, 0.3329144664960798, 0.35863952659948223, 0.3855462709436489, 0.40407457732840957, 0.42939127938856236, 0.45144811378224003, 0.46870378025295584, 0.48920043288563153, 0.5025789107103764, 0.5175723290874131, 0.5299463785989434, 0.5422951296951134, 0.5550007261645122, 0.5634999659360955, 0.5726762051537072, 0.5841521693590932, 0.5934618806645591, 0.6045164403879209, 0.6137180798041182, 0.6209986707548214, 0.6327448205147436, 0.6437461622573739, 0.6502773723760962, 0.6564367697836724, 0.6598946853997709, 0.6650052351648117, 0.669541249796578, 0.672198891156787, 0.6759918563447805, 0.6796674744446675, 0.6828256975544955, 0.6856173303243488, 0.6879598908813047, 0.6905838218606057, 0.6924057516328388, 0.6937745784338099, 0.6987191599248564, 0.7010512146762894, 0.7033416950640341, 0.7055314516003237, 0.7084757395123711, 0.7098611870120484, 0.7108372740536768, 0.7119894102437139, 0.7136832270518191, 0.7144123227549437, 0.7172244793795413, 0.7193942834407221, 0.720965609618984, 0.7216633688435422, 0.7223363197419358, 0.7231841368524441, 0.7236233251155975, 0.7286571183830584, 0.7296879704661775, 0.7300523269518951, 0.7320359003170179, 0.734606796618848, 0.7349917078637735, 0.7360210500872921, 0.7398502848111772, 0.7399473693129537, 0.7407985265501636, 0.7426383039613224, 0.7436319806623224, 0.7445757929355002, 0.7460806118576393, 0.7468071094061413, 0.7475544068473742, 0.7511278855991337, 0.7519657478490177, 0.7531243809320612, 0.7535779626392142, 0.7537674628896625, 0.7568280097410444, 0.7597100183032823, 0.7603417814925167, 0.7609916439005348, 0.7610923285935356, 0.7614968888634593, 0.7621115158845126, 0.7626306146583224, 0.7629867254426804, 0.7635511396348099, 0.7638052659083655, 0.7640978324909236, 0.764249699420967, 0.7646024769377278, 0.764736355759968, 0.7653492088655792, 0.7655442304055498, 0.7656705197811904, 0.7657253478768616, 0.7661552204874543, 0.7666673371129253, 0.7667004742675533, 0.7670304501461196, 0.7681917856133043, 0.7683879815078425, 0.7685850923144603, 0.7694719093210254, 0.7705481704007543, 0.7707302441196527, 0.7708385863899891, 0.7713131909385165, 0.7715639389654808, 0.771918128556485, 0.772397230343728, 0.7723759472624936, 0.7725596481549412, 0.772926417610998, 0.7748612262250735, 0.7751337473214852, 0.7753763512641696, 0.7766094577408678, 0.7764748837581994, 0.7766244465182979, 0.7768519647654858, 0.7769879730482998, 0.7772197295776709, 0.7770798483783453, 0.7770505497141362, 0.777087815369702, 0.777720430589029, 0.7791756620676032, 0.7793636518525784, 0.7797271023541701, 0.7800120948286369, 0.7801694504188585, 0.7802081712782265, 0.7800656492867818, 0.7804648376171425, 0.7808260206013424, 0.7811222910729771, 0.7812445265809745, 0.7811260777694213, 0.7812261799885731, 0.7812622914420796, 0.7822654003285985, 0.7824772365186934, 0.7828694823937482, 0.7838331541671965, 0.7838902729210798, 0.7839221654974041, 0.7838633490557767, 0.7839307999890348, 0.7841091260060059, 0.7839035043823668, 0.7848711757792352, 0.7848962694283983, 0.7849454203838884, 0.7850451757628998, 0.7851399058463775, 0.7851709743285948, 0.7854573224469293, 0.7856450525218702, 0.7857322022575316, 0.7857762721590416, 0.7856963594419248, 0.7857710525573739, 0.7859045696569102, 0.7868457287713329, 0.786937425125356, 0.7869163408409255, 0.7870842343540395, 0.7871045035495866, 0.7874947129005194, 0.7875668006916566, 0.7875420097475063, 0.7875678619367088, 0.7884587500161857, 0.788459930509144, 0.7885195610657345, 0.7886513094064466, 0.7884373594660514, 0.7885442147365819, 0.7886928043045915, 0.7887476225272845, 0.7885678286501279, 0.7885872214739706, 0.7885392629524619, 0.7887563668498382, 0.7893393201667626, 0.789539034339282, 0.789625483213594, 0.7901586907863469, 0.7902254096662837, 0.7901983274736829, 0.7903687500397067, 0.7904425443191068, 0.7905517922849336, 0.7906148410697675, 0.7906911866237147], 'r2-stdv': [0.008142777263763959, 0.016254060408351156, 0.023942002338012032, 0.030425357434181757, 0.03696523417075378, 0.04035068323513096, 0.04653545344660833, 0.05140521637700587, 0.05476993975584688, 0.05768758971088265, 0.0599073869318791, 0.06274005120799296, 0.06599543780405388, 0.06815533121418017, 0.07118695457427274, 0.0718362494793978, 0.07374913970705665, 0.07544934620918614, 0.07541085009793962, 0.07677673210085145, 0.07817541440817667, 0.07876542933111318, 0.08012867052865995, 0.08090846764470529, 0.08194539705718808, 0.08264844244035852, 0.08295795705216301, 0.08231301453804415, 0.08162329601380122, 0.08182746233151329, 0.0817909002162854, 0.08173229290904627, 0.08187322684801751, 0.08158286925402218, 0.08174681661925945, 0.08156458190253597, 0.08066523643170871, 0.08058356078438039, 0.08041823973548554, 0.08020622579108803, 0.08024643392580716, 0.08021984366962347, 0.08032034956530548, 0.08000125774223744, 0.07978223981218134, 0.07952448306716257, 0.07992433857189954, 0.07968574388768983, 0.07952568652612517, 0.07939287320742039, 0.07965304666959935, 0.07958071996474192, 0.07942716443299246, 0.07967497778464776, 0.07985092906208459, 0.07985049447539727, 0.08006490710755872, 0.08002545494159063, 0.07997090475718142, 0.07987239618397875, 0.07940786223448625, 0.07958062772211794, 0.07953354524997815, 0.0796118726343532, 0.07917293183394686, 0.0793986614288291, 0.07943404904681782, 0.07873529177994566, 0.07876135110792726, 0.07900252579139497, 0.07844359349290914, 0.07831097773359302, 0.07798659459073354, 0.07814556279773968, 0.07817181073091935, 0.07817214682768883, 0.07757059215184453, 0.07745758059354299, 0.07732013580664526, 0.07720672383656114, 0.07717802743601641, 0.0765496143104814, 0.07596467228712862, 0.0759212119994736, 0.07611401545201413, 0.07616102915895674, 0.07629600971740108, 0.07633091039521864, 0.07602329964610215, 0.07600104163640554, 0.07576254223535389, 0.07580264430246779, 0.07572360682869551, 0.0757496380109588, 0.07589218339233701, 0.07588424422386467, 0.07582482466467574, 0.07569613041911415, 0.07575633219652046, 0.07568320576746078, 0.07567647619361319, 0.07559932282263025, 0.07550437483256088, 0.07557260662934841, 0.07514660359797479, 0.07526396469517607, 0.07504437240070122, 0.07463565569805129, 0.07420088575278055, 0.07439532373228902, 0.07432632087720682, 0.07429862726619729, 0.07418335530363135, 0.0736579965754692, 0.07316792707173439, 0.07294537844606132, 0.07285155375534877, 0.07288359269911067, 0.0725472704606204, 0.07243264829387759, 0.07239265131545176, 0.07186831241760572, 0.07189970167721903, 0.07188143041017916, 0.07189907270306038, 0.07194741386367486, 0.07193866444208877, 0.07182721239214476, 0.0719371345225596, 0.07198725670106888, 0.071667826568028, 0.07119693382886277, 0.07124304505895565, 0.07097463063574275, 0.07101133811240745, 0.07075569380934497, 0.07076929404087454, 0.07079309827118374, 0.07046631394270664, 0.07036034593266484, 0.07000677051907794, 0.07017237184675579, 0.07011859856990858, 0.07012168473845407, 0.07007343412223845, 0.06968904917747151, 0.06974528680934677, 0.06947985770494296, 0.06904476999900709, 0.06907633058955993, 0.0688735816982147, 0.06890974664257944, 0.069063283449397, 0.06898869481025516, 0.0690508824916405, 0.06867721066470774, 0.06873506872331504, 0.06867675880788013, 0.06857516026214452, 0.06855127825607271, 0.06851052423529819, 0.06840995021111633, 0.06844706132806416, 0.06842054257982269, 0.06822593525870069, 0.06821014140699853, 0.06806626773226648, 0.0679576196271856, 0.06759302739984714, 0.06749122260361329, 0.06758453656282201, 0.06750402462007414, 0.0674949580440825, 0.06752974991734552, 0.06757945951107165, 0.06764629704215408, 0.0676821256114438, 0.06744002139940349, 0.06736519668721351, 0.06746969225297739, 0.067472475919971, 0.06739410079152389, 0.06742577851611763, 0.067432144950277, 0.06738698736850636, 0.06728531014817077, 0.0672457672630811, 0.06723576446619953, 0.06700259275208505, 0.06669142844212882, 0.06645683875860521, 0.06644536474646973, 0.0661110029988355, 0.06591583194612305, 0.06576068636153329, 0.06548609320405417, 0.0655098533245685, 0.06557396327660567, 0.06555478854841747, 0.06555573059559162]}\n",
            "| \u001b[0m 6       \u001b[0m | \u001b[0m 0.7907  \u001b[0m | \u001b[0m 0.8983  \u001b[0m | \u001b[0m 0.3464  \u001b[0m | \u001b[0m 24.09   \u001b[0m | \u001b[0m 24.98   \u001b[0m | \u001b[0m 0.0118  \u001b[0m | \u001b[0m 80.1    \u001b[0m |\n",
            "{'r2-mean': [0.03673504832735967, 0.08459965964284896, 0.11764831185554887, 0.14301864956961868, 0.16459411190477216, 0.19484335537185732, 0.20438499011441494, 0.22725411609000412, 0.2551595588470964, 0.27667588072494154, 0.29161277756432835, 0.3037158955659133, 0.3184872670105512, 0.3308202789074775, 0.3376041142798097, 0.34882117305666654, 0.35267249229497394, 0.3644134863506521, 0.3761612282172758, 0.39775757470912587, 0.40876795645142516, 0.41731708604887946, 0.42292399987737744, 0.4321765968688635, 0.4445641003414581, 0.4489236540624578, 0.4565378171429003, 0.45993270153460414, 0.4732214494020345, 0.48497856164722053, 0.49209635574390853, 0.501237410729664, 0.5067740493094371, 0.5098651466158964, 0.5154011029887695, 0.5191172419376411, 0.5244926876374878, 0.5259175932435152, 0.5341650085011977, 0.5407220960290446, 0.5449478292412875, 0.5573046178222929, 0.5588751006019822, 0.5640328087020519, 0.5707798852138428, 0.5722701587167581, 0.5748744439779752, 0.5756009163328223, 0.5796851698960429, 0.5822835900018998, 0.5834578419085135, 0.5865032886687646, 0.5886422629941921, 0.5902569679456461, 0.5941774150330499, 0.5978330703081675, 0.5996937588085236, 0.6014673658709909, 0.6040666757418978, 0.6056006210081589, 0.6104822642773636, 0.613567825957982, 0.6143263677215751, 0.6207792432725052, 0.6226158858734162, 0.622232879855036, 0.6248698654977554, 0.6256515938215673, 0.6265618358167876, 0.6281074187637874, 0.6334147203677203, 0.6358412264194386, 0.637355123586904, 0.638864578668082, 0.6396679951911353, 0.64007675388145, 0.6406641960215571, 0.6412241341029222, 0.6429979580060061, 0.6450543530452826, 0.6452874592973199, 0.6481731427594617, 0.6492651303568955, 0.6506667869801295, 0.65202230263596, 0.6531055333629151, 0.6538217693317325, 0.6550621400892784, 0.6555868206939602, 0.6559370534658682, 0.6568667685590451, 0.6577834149097425, 0.6579401791691041, 0.6583529187730118, 0.6589288665049169, 0.6601708563769465, 0.6611953124741423, 0.662565439508054, 0.6641458127121215, 0.6648705905177211, 0.6670611541202933, 0.6687833438596262, 0.6691087879225848, 0.669495783634386, 0.6703939016728601, 0.6711894530333417, 0.6726805250337102, 0.6740734113375657, 0.6752880258867521, 0.6756301895372104, 0.6815092316917136, 0.6817800661634064, 0.6835537705703405, 0.6843502151400453, 0.6845544827854784, 0.6848245808797601, 0.6858447290802432, 0.686034012626757, 0.6869224318108469, 0.6870289158848828, 0.6924407411553186, 0.6925149337449881, 0.6929121694342465, 0.693210920946837, 0.6939120474480623, 0.6950432685030037, 0.69661830535794, 0.696699378721424, 0.6963389785539094, 0.6967817790182861, 0.6968862531809602, 0.6973020100010283, 0.6974778086559745, 0.697553578557843, 0.6985903142209413, 0.6990789357089872, 0.6993104404050723, 0.7005909907311709, 0.7014013054966359, 0.7054026348247395, 0.705698055854578, 0.705848599100323, 0.7063189005606627, 0.7065979732668989, 0.7068688319981741, 0.7076987195187195, 0.7078180386358539, 0.7077872159574907, 0.7075039401021186, 0.7078411402074148, 0.7081542463945364, 0.7090182185734484, 0.7101999962270545, 0.7103246173744102, 0.7124440001203686, 0.7123270221964497, 0.7129610970691674, 0.7130055672269419, 0.7131874270755774, 0.7133531061441094, 0.7136343753981482, 0.7136995007521131, 0.7137508310240758, 0.7140704924904469, 0.714161787588275, 0.7145369283377894, 0.714719919559252, 0.7151323657831812, 0.7154732257537113, 0.715476569147654, 0.7157845462090021, 0.7158153340852833, 0.7158511537603555, 0.7164510294385702, 0.7166658656589912, 0.716914914870166, 0.7169899033035497, 0.7171563132717758, 0.7172173485836755, 0.7180010772906877, 0.7182544326049823, 0.7182009502278447, 0.7199766916448697, 0.7201387547571443, 0.7201906648882075, 0.720569243182277, 0.7207126348899207, 0.7208436884501361, 0.7209639843527575, 0.7209934354369703, 0.7211404749648987, 0.7212216601922039, 0.7212847119932715, 0.7218303370113988, 0.722046624358903, 0.7219961754140705, 0.7220956915706506, 0.7221238847945208, 0.7222505943244106, 0.7223900681481081], 'r2-stdv': [0.009137130936710232, 0.01446630498233755, 0.019699469597708515, 0.022784240779057562, 0.025484898647045957, 0.03054202819875735, 0.032924799183497014, 0.037200370518671526, 0.04095115467242332, 0.04445255362597623, 0.04820949595470287, 0.0488804004005777, 0.05218502579772376, 0.054584489759024954, 0.05621033178388398, 0.05805233829041343, 0.05934577350401729, 0.06152476139046642, 0.06335964901315401, 0.06411064070335637, 0.06575924957452893, 0.06696070387444354, 0.0678522964674093, 0.06844785110476356, 0.0697760390673164, 0.07048248117097486, 0.0716504647101105, 0.07214167864085058, 0.07352343831234295, 0.07428718459593511, 0.07509286813379198, 0.07565314430887266, 0.07512714122105432, 0.07475011119116091, 0.07494378152755775, 0.07501766975377132, 0.07594362319629853, 0.0761943077282527, 0.07502033465106206, 0.07526442882549715, 0.07536338338610689, 0.07304765599795121, 0.07332433050948886, 0.07333673768528919, 0.07239506239523838, 0.07274930235190777, 0.07280321669733728, 0.07286709476423671, 0.07305476493346436, 0.07313178547463951, 0.07349108841150337, 0.07365824690300683, 0.07385643296924557, 0.07306222842364656, 0.07319346254798377, 0.07317795554982158, 0.07274345026364935, 0.07293356478123905, 0.07317570393406383, 0.07299639711738747, 0.07293777256147552, 0.07249967185333137, 0.07229337194869026, 0.07273440557468021, 0.07283021928366223, 0.07230757052121377, 0.07231896005225283, 0.07196474404337148, 0.07183392687832152, 0.07191303846921134, 0.07222053474601194, 0.0718973479767732, 0.07191513400816772, 0.07207816189769978, 0.0721136701731583, 0.07206040474569672, 0.07198636964999455, 0.07196781535527119, 0.07171275598438602, 0.07189552353344296, 0.07180591235702115, 0.07131716338696727, 0.0712245117547417, 0.07125100553834422, 0.0713024750227804, 0.07156544548149507, 0.07169471424751422, 0.07188641090498137, 0.07177833527988275, 0.07166820142650449, 0.07151953227948912, 0.07143332602285093, 0.07134884398050974, 0.07140161650490207, 0.07182239638385202, 0.07166098078123288, 0.07137892385827782, 0.07144788838883968, 0.07166745685021149, 0.07166919224400078, 0.07185065776185524, 0.07162904682662136, 0.0715546560253733, 0.07182538549127643, 0.07186092135571172, 0.07187687679862653, 0.0720058434775242, 0.07234383995653164, 0.07245488546996262, 0.07237082772167312, 0.07208050930803624, 0.07197376080198468, 0.07179406868068636, 0.07183478284456773, 0.07167871212259218, 0.07174786622402186, 0.07201594232584675, 0.07189671788920533, 0.07185600581094034, 0.07175753214039272, 0.0716303695803091, 0.0711511308672213, 0.07079145859368483, 0.07075242771469972, 0.07036063088948802, 0.07015032852543078, 0.0700830511978978, 0.0699954681650303, 0.0699088909669708, 0.07002287965259874, 0.06997311113374177, 0.06989299495004783, 0.07006089131399691, 0.0700092842739547, 0.07000929536282932, 0.06998512447973428, 0.06973793464704585, 0.0698723647798131, 0.06989069634108559, 0.06946735217400209, 0.0694108025219117, 0.06929361717129258, 0.06937954197114189, 0.0693338584404818, 0.06919076213222766, 0.06914746258898168, 0.06906440403303613, 0.06877645878083709, 0.0688171697046358, 0.06855026992933717, 0.06861816129682553, 0.06862881010962003, 0.06905016589312858, 0.06900291015725638, 0.06864881192655359, 0.06837935390889185, 0.06846823849752767, 0.06855949052278484, 0.06848225698980721, 0.06857468810875937, 0.06863911117722095, 0.06856610133713151, 0.06859688084770643, 0.06858299587423497, 0.06856083961720108, 0.06853710131609818, 0.06852236067632866, 0.06838396560521481, 0.0682601348015654, 0.06824251527937496, 0.06819529077777034, 0.0681870971234212, 0.06816191962006579, 0.06821295354604351, 0.06826996122308099, 0.06832796090460935, 0.06835366313127857, 0.0682943146890781, 0.06781559714853895, 0.06761278051442421, 0.06771977187691325, 0.06734854798575221, 0.06662388655885187, 0.06664914245737176, 0.06670703545085002, 0.06651245527085585, 0.06650322116089717, 0.06652431270787577, 0.0664557705113466, 0.06651130779085448, 0.06647776551987962, 0.06645840642321081, 0.06641212849185374, 0.06655475591600939, 0.06650048649881495, 0.06656796960450594, 0.06655955621776569, 0.06674735190899563, 0.06671530495232555, 0.0667224217282457]}\n",
            "| \u001b[0m 7       \u001b[0m | \u001b[0m 0.7224  \u001b[0m | \u001b[0m 0.907   \u001b[0m | \u001b[0m 0.1325  \u001b[0m | \u001b[0m 17.13   \u001b[0m | \u001b[0m 10.36   \u001b[0m | \u001b[0m 0.04673 \u001b[0m | \u001b[0m 98.85   \u001b[0m |\n",
            "{'r2-mean': [0.0041406268430605134, 0.047403609519940604, 0.08529694630217277, 0.10866124891955738, 0.131494517003717, 0.15035216265213308, 0.16672832551354008, 0.19548133393726058, 0.2043848682156902, 0.2088041644115791, 0.2272327468347907, 0.2378667114665781, 0.2592822464629892, 0.26514251124241117, 0.2744004126138577, 0.2850437724278227, 0.2889317517270202, 0.3000168475136642, 0.308761438404337, 0.31849115776799375, 0.32447458622889724, 0.32852654822268756, 0.3355101416851709, 0.33646529765746724, 0.34232687744711415, 0.35344532135951345, 0.3572642825904094, 0.37031085848687323, 0.38528469916402996, 0.3902397500729452, 0.4076780832473615, 0.4111819237272815, 0.4144289615358332, 0.42153181240550663, 0.4286472086488158, 0.43979528368816734, 0.44121488214481036, 0.4457292756529327, 0.450733400902529, 0.45195287545327795, 0.4538278415617133, 0.4654769127527187, 0.4718121701500119, 0.4729285203768482, 0.4799315862346741, 0.489193164319407, 0.49356605845169554, 0.4956147719004627, 0.49684410595136425, 0.5019864861614292, 0.5057121950173411, 0.5073043014895303, 0.5120394700015126, 0.5137018263843182, 0.5140922927596343, 0.5222434675788955, 0.5264164753346561, 0.5323069245098427, 0.5358527352726972, 0.5377541843390816, 0.5470371980106348, 0.5483703366579378, 0.5495123296568561, 0.5538421622891416, 0.5545577498965922, 0.5551766153321144, 0.5571935221839873, 0.5579513854638795, 0.5591184151778836, 0.5610585256066947, 0.5634276812995808, 0.5641231472744554, 0.5662045792066268, 0.5672953791158706, 0.5700759022523338, 0.5718734607094691, 0.5730855102940378, 0.574683597380932, 0.5757455065534718, 0.5789174783718289, 0.5816178731764962, 0.5823902723855948, 0.5846873696437795, 0.5857219464891165, 0.5859319161430694, 0.5877749951739858, 0.5887960705952546, 0.5890254905232044, 0.5917031428170453, 0.5927978551618065, 0.5930083831035782, 0.5994450822295947, 0.6012936902678228, 0.6014080069150136, 0.6013003677971769, 0.6023093264038761, 0.6033923890298517, 0.6042440767898336, 0.6045071674533868, 0.6050081933142935, 0.6064215984097399, 0.6082998092398236, 0.6131927626951297, 0.6140511920084093, 0.6153650734493474, 0.6165531190930761, 0.6166935130512425, 0.6169003314451967, 0.6175281508382956, 0.617691203196674, 0.6179698795213587, 0.6183447213931997, 0.6191014192091784, 0.6200984518196222, 0.6219629539180256, 0.6222798298424103, 0.6229693822510924, 0.6231553770014748, 0.6237729960293775, 0.624219430174282, 0.624969723532349, 0.626151922643095, 0.6263500468801867, 0.6273769960822598, 0.6275928438255249, 0.6284099744116904, 0.628663163682684, 0.6290220340366429, 0.6292318422267034, 0.6293031932216565, 0.6306268255793084, 0.630928963654094, 0.6314046349711798, 0.631436821265631, 0.6316398976218711, 0.6317714592805315, 0.632466008972499, 0.6341131735316274, 0.6345636384766331, 0.6348901853146753, 0.635766108692039, 0.6361935670431819, 0.6376349773029434, 0.6382238456138193, 0.639303142271233, 0.640753160772174, 0.6408589904461961, 0.6411035756715109, 0.6414126745843953, 0.6417260107241678, 0.6418809544200584, 0.6422661963897616, 0.6425347565006876, 0.6434725669476664, 0.6438952469101356, 0.645285274898493, 0.6454861016752218, 0.6461124653126706, 0.6471035526173406, 0.6471252540992852, 0.6500136785414312, 0.6504484366760509, 0.6509685546322352, 0.6513106721881317, 0.6513600750197023, 0.6514264397713081, 0.6527467883328909, 0.6522772731119703, 0.6524203502740964, 0.6525806798020124, 0.6532665454225743, 0.653887291010637, 0.6567568307770928, 0.6570918778396792, 0.6571578275499222, 0.657203355061736, 0.657476810405424, 0.6575846957162593, 0.659396553487751, 0.6602124270816649, 0.6620077715331557, 0.6620867045521914, 0.661976165281055, 0.6620178218611755, 0.6625308526793386, 0.6625812320521167, 0.6626723264261988, 0.6630295465495922, 0.6630360435950808, 0.6631606837374584, 0.663225251837307, 0.6643516627806582, 0.6648851024043128, 0.6653071532942059, 0.6651185522917452, 0.6651425636255791, 0.6674249436975841, 0.6677111770512628, 0.6733383531234225, 0.673633361565976], 'r2-stdv': [0.0047867020976437545, 0.010300729542331476, 0.016071793305897534, 0.019734629982416364, 0.022965309360848868, 0.02561659578718519, 0.028595540184023823, 0.033271962456496974, 0.0356027968809433, 0.03720542350967929, 0.04062376220728976, 0.04163717964597148, 0.045056464322860645, 0.046167542206365424, 0.04823918187895047, 0.04909388854068154, 0.05021468029300088, 0.05158944636429663, 0.053781484283634, 0.055196111908415106, 0.0564072223057521, 0.05727199521426112, 0.05787550690628269, 0.05832010282757592, 0.05968349514063319, 0.0617681432898127, 0.0627221824969197, 0.06416869640718262, 0.06564554830882531, 0.06633090301999943, 0.0675726882863551, 0.06801635737450899, 0.06867846041780572, 0.06927851666925754, 0.06944353349231511, 0.07056192638907761, 0.07109483755101062, 0.07166989681494873, 0.07150781087065972, 0.07187040906276104, 0.07190811348776126, 0.0726890024881189, 0.07274639829516658, 0.07294287786647537, 0.07354176844466932, 0.0739040876800756, 0.07368935547524492, 0.0735343898569968, 0.07338737730990787, 0.07361934354234373, 0.07371924909404817, 0.07389008642960286, 0.07454159894810382, 0.07501837757184346, 0.07521035135301493, 0.07533374022850645, 0.07516253933106874, 0.07469493053127467, 0.07481232676772567, 0.07509877136772385, 0.07360068652506267, 0.07374038012084125, 0.07376704393547165, 0.07338535860598362, 0.0733066432911505, 0.07339044732412019, 0.07348841570783972, 0.0735423905337362, 0.07369133740824471, 0.07360977456805702, 0.07399097268592726, 0.07404702078576676, 0.07386381996740815, 0.07389911116019117, 0.07396395575900935, 0.07428056689833128, 0.07417154849067929, 0.07355872094942864, 0.07357482610135144, 0.07372887276038965, 0.07397236971538712, 0.07402577373077977, 0.07391856811789697, 0.07415539625905808, 0.07411683806238506, 0.074332014386513, 0.07416990751623667, 0.07399656347673358, 0.0739831814771499, 0.07371268470290658, 0.07332554031888065, 0.07378463654030935, 0.07386786890982555, 0.07372583816188032, 0.07321810870965004, 0.07307931893325392, 0.07328716244093966, 0.0732708516000682, 0.07289875782272126, 0.0728383548198209, 0.07298223491591217, 0.07301033110404444, 0.07351911662365583, 0.07341802744799146, 0.07339540143666494, 0.07373398272017709, 0.07369639062941351, 0.07370908532457215, 0.0736805727578313, 0.07370036822903764, 0.07366389818560377, 0.07363421407688277, 0.07349621715687113, 0.07327893983866497, 0.07350147566077035, 0.07345073122714732, 0.07334707812318685, 0.07319547716550959, 0.07307954371498462, 0.07301250895676122, 0.0731278106542061, 0.0733223887226906, 0.07325741026192277, 0.0735707656032831, 0.07380531763352566, 0.07398757098343468, 0.07400804574435332, 0.0738734344241951, 0.07378293533785663, 0.07329026184283957, 0.07320308248526256, 0.07309407116212248, 0.07306971504629174, 0.07304276460203654, 0.07302535689093453, 0.07302359043745756, 0.07352713088803788, 0.07346647836243478, 0.07336994996226921, 0.07315085470278943, 0.07318596251427613, 0.07330394468453366, 0.07325652425966778, 0.07330758869653785, 0.07331142218412674, 0.0733226799234429, 0.07324453871479275, 0.07323427991456452, 0.07329545842613175, 0.07348938616352209, 0.07360989010956487, 0.07343610497743112, 0.0733992366373912, 0.07352872757584708, 0.07358333225776505, 0.07366382705106635, 0.07366194367890437, 0.07353619359263694, 0.0732765911888581, 0.07324698064872419, 0.07293677670936956, 0.07294607575013955, 0.07301736438752736, 0.07300439337685022, 0.07296950012606632, 0.07295420654483102, 0.07302569965460035, 0.0728618093828762, 0.0727621476686004, 0.07284384631555696, 0.07280741594016713, 0.07261957097922785, 0.07307944061329043, 0.07295991905886871, 0.07252350118745877, 0.07248837247507452, 0.07249252260920101, 0.0724943582038272, 0.07203471194705058, 0.07210886800725887, 0.07210873518152378, 0.07206259339793436, 0.07164594085647062, 0.07184049801454123, 0.07196065408759729, 0.07191983620911568, 0.07187937677035106, 0.07188701475138343, 0.07184761100782741, 0.07229814584914944, 0.07230982186929019, 0.07216702126896239, 0.07215348419729015, 0.07207409978935599, 0.07213833113618263, 0.07211248244454586, 0.07224153713268888, 0.07220789727987449, 0.07177723624806005, 0.07174940404732279]}\n",
            "| \u001b[0m 8       \u001b[0m | \u001b[0m 0.6736  \u001b[0m | \u001b[0m 1.0     \u001b[0m | \u001b[0m 0.1     \u001b[0m | \u001b[0m 25.0    \u001b[0m | \u001b[0m 25.0    \u001b[0m | \u001b[0m 0.001   \u001b[0m | \u001b[0m 100.0   \u001b[0m |\n",
            "{'r2-mean': [0.0591884477395062, 0.12301065586758278, 0.17713463075217345, 0.22649460836785268, 0.27369647487902277, 0.31503401531186437, 0.35258582885648426, 0.3868527161394697, 0.41844730866301666, 0.4462911644669517, 0.472492043729726, 0.49693864481816685, 0.5186481900209896, 0.5374877679780493, 0.5552492448386664, 0.5723118659459456, 0.5882044821320432, 0.6011631454935809, 0.6131628572155043, 0.6253777547546747, 0.6381494586805346, 0.6458597142290534, 0.6541986022129492, 0.6627204334730693, 0.6705751052560561, 0.6775097929724496, 0.6848634923856455, 0.6913334167766534, 0.697717715811914, 0.7039261750304886, 0.7087901960089609, 0.7138027535862113, 0.7184373255246113, 0.7228493931315724, 0.7271135831914944, 0.7300019286978828, 0.732931024071334, 0.7345987047110102, 0.7368997759975102, 0.739691803514205, 0.7420454147417932, 0.7449303979428535, 0.7472998810143603, 0.7490361628480275, 0.7515916357649128, 0.7536367676209177, 0.7555480181172236, 0.757393196884578, 0.7590594224878124, 0.7602138128826257, 0.7611020642629691, 0.7626884802416694, 0.7634871455163548, 0.764828562554405, 0.7659931011972589, 0.766887069765614, 0.7677216534538982, 0.7686598041412237, 0.7694790646349017, 0.7703387892821667, 0.7712892337222834, 0.7718706347169897, 0.7731983366892111, 0.7740180546130949, 0.7753667857341104, 0.7755775298571527, 0.7765482079244681, 0.7777761039980302, 0.7786223102766241, 0.7787388873880005, 0.7793614850937901, 0.7800498976166674, 0.7807674350971292, 0.7812080429682892, 0.7818181932248847, 0.7819886697298977, 0.7827026837561817, 0.7828757207324653, 0.7837563421699002, 0.7837071433520032, 0.7844326251369592, 0.785218256826733, 0.78617503996602, 0.7864363127141966, 0.7865632238947597, 0.7867966177781243, 0.7869171951134311, 0.7868704590376877, 0.7871734030856654, 0.7871855779870337, 0.7876830491433662, 0.7880627954637642, 0.7880044917078226, 0.7886193776513314, 0.7889836142133164, 0.7893201236396025, 0.7898123939338347, 0.7900928097187683, 0.7904440884635873, 0.7905370660195046, 0.7908505857881287, 0.7908618844727042, 0.7910849719843214, 0.7912358502904763, 0.7914666224224561, 0.7917938274236312, 0.7920314325623676, 0.792164757133556, 0.7922426318632502, 0.7924440640435779, 0.7927718695518304, 0.7928174342459595, 0.7929936909344477, 0.7931214646873855, 0.793006062179096, 0.793215293655972, 0.7933644228300178, 0.7934146378421355, 0.793673518087345, 0.7937954509463647, 0.7938533901658079, 0.7941490638848311, 0.7943539901486083, 0.7945734915872315, 0.7945812496354463, 0.7945804723236897, 0.7947084265941923, 0.7948745156346139, 0.7950942154381357, 0.7951566513406362, 0.7951752529983852, 0.7951246380146093, 0.7951452330529968, 0.7951728904043506, 0.7951135170836143, 0.7950757533521997, 0.7951691759722144, 0.795253080758853, 0.795253146369585, 0.7951993387214114, 0.7952604917468815, 0.7953619184639343, 0.7954619439112656, 0.7953284074125829, 0.795513046561734, 0.7954783510541874, 0.7956566709096691, 0.7956919920602158, 0.7958541822914322, 0.7958577501792535, 0.7959817267229463, 0.7960969950585091, 0.7961163894524765, 0.7960966411049866, 0.7962123626200162, 0.7962983823176245, 0.7961902833230898, 0.7960538085397191, 0.7960567218228443, 0.7962710963096462, 0.7963281433776939, 0.7964769448575001, 0.7964871335997586, 0.796456914938374, 0.7965192467059291, 0.7966537200110393, 0.796632902370298, 0.7967350814660683, 0.7968702507013106, 0.7969415037213398, 0.796790957615858, 0.7967553525597357, 0.7966374185910331, 0.7968358249410701, 0.7968475022138032, 0.7968336409223324, 0.7966645071197015, 0.79665609629575, 0.796585199326962, 0.7966423641266793, 0.7966651743021748, 0.7966633632883895, 0.7966856871528982, 0.796612923964731, 0.7966174222320717, 0.7967368270186789, 0.7967163670524381, 0.7965087502466253, 0.7966607450873125, 0.796584657671566, 0.7966059932016764, 0.7966437786340459, 0.7967314722226199, 0.7968424323046572, 0.7968615835931825, 0.7969517889340703, 0.7970923649421444, 0.7971787290538092, 0.7973793249810373], 'r2-stdv': [0.010836906141723978, 0.020266295229796963, 0.028029226755162746, 0.035102045477444756, 0.042276491386927455, 0.04637012539860304, 0.05121933216311665, 0.05650062938767465, 0.060907889205750534, 0.06464776308421254, 0.06795172438655728, 0.06974663625944728, 0.07225016697189578, 0.07382536008432408, 0.07523762190572411, 0.07711219069979953, 0.07899755027550315, 0.08023177111352926, 0.08103204009837574, 0.08240547458365721, 0.08244703051169867, 0.08282299671311864, 0.08292136804612942, 0.08316678638955599, 0.08366403432900703, 0.08362086827634822, 0.08290467945471, 0.08288656337860748, 0.0829041618262705, 0.0822201619925457, 0.08235695741254631, 0.08133884227580296, 0.08158411787327281, 0.08151809102763141, 0.08068760985096768, 0.07980140071588587, 0.07965519658318926, 0.07985776350101409, 0.07983731220728037, 0.079573809844177, 0.078743737840371, 0.0784285184900644, 0.07804678996339887, 0.07713849959902877, 0.0765788667805632, 0.07560682844986827, 0.0756753233661348, 0.07467122105739689, 0.0744274362492902, 0.07447287910874498, 0.07449604351258754, 0.07380573638194339, 0.07381259763761983, 0.07343322233161591, 0.07308028645994212, 0.07326356880305405, 0.07298957506298491, 0.07255965081413612, 0.07268666389933494, 0.07245439540976363, 0.07228693742548248, 0.07250642035937618, 0.07154193489031797, 0.07195432094564778, 0.07089023314272531, 0.07083927057337819, 0.07007608326519753, 0.06930671023613903, 0.0684397057647293, 0.0682715516597979, 0.06757900098587565, 0.06743337450108482, 0.06717048247099457, 0.06735339250752695, 0.06688069324100462, 0.06674253926925293, 0.06612516942628124, 0.0662447644281128, 0.06574994112021693, 0.06574924461177653, 0.06529463264314966, 0.06466803973039077, 0.06409786224914345, 0.06387036186782456, 0.06365367455099047, 0.06350725119134733, 0.06339308666936937, 0.06340337819755838, 0.06328640716114192, 0.06320570875708918, 0.06270487682332772, 0.06246308084012364, 0.06247466474575494, 0.06215574543810569, 0.06223514350790432, 0.06215869238036194, 0.06187258401599753, 0.06133367552308115, 0.06131364257040065, 0.061399608381023006, 0.06117912122205668, 0.06132582199492073, 0.06121288604823129, 0.06128207989005174, 0.06103976210270623, 0.06075623369005379, 0.060701354503476794, 0.0606214712724168, 0.06049537052127632, 0.06042036344287884, 0.06012143763460712, 0.060298533862454005, 0.06023158193477529, 0.060109925609008845, 0.05990158353820582, 0.05954761166510309, 0.05963349364321934, 0.05972765760914324, 0.059794044495754005, 0.059887554611309214, 0.05979964692820502, 0.05943974306147945, 0.05914979981913416, 0.05925751457190631, 0.05898422889033615, 0.05915675445549117, 0.059186325608815156, 0.059111403783730344, 0.05887141578361524, 0.0586762632724067, 0.058605566360893556, 0.058477284621787015, 0.05848947990542637, 0.058524622491052496, 0.058408493121769565, 0.05832984298353134, 0.05828769550149149, 0.058114831243696305, 0.058056676408160646, 0.0581526450652163, 0.05816503252689523, 0.05817388738173832, 0.05821712588409792, 0.05825433417219456, 0.05823188064706522, 0.05824687366909938, 0.05828040520536384, 0.05817175451842692, 0.058033053067382066, 0.05794445383214822, 0.057792361015485884, 0.057744648199012996, 0.05769947562780302, 0.057724180583736295, 0.057632055868064226, 0.05747867873777363, 0.05742699303466612, 0.05741837494609579, 0.057298174199403334, 0.05724133430343425, 0.05712230761707716, 0.05724577567945508, 0.057289594353808385, 0.0572638060058491, 0.057230236630824424, 0.05717323833984921, 0.057226584676846416, 0.057277364868177943, 0.057101360552612834, 0.05706790192819027, 0.05699095783868612, 0.05693182756818685, 0.05692486874893953, 0.05679389284723513, 0.05670500067557342, 0.056769023233304856, 0.056713551273118876, 0.05661316617796034, 0.05658146485821132, 0.05660214486456423, 0.05652044490697971, 0.056542995988250785, 0.056429503372497296, 0.05647109803410223, 0.05654865841166255, 0.056364773704018066, 0.05637627532200056, 0.05623249374091506, 0.05624114238329448, 0.05627033414883488, 0.05627247379636854, 0.05614058979239587, 0.056051604166332196, 0.05609232740984921, 0.05611790973501554, 0.05612233575962366, 0.056155628898876334, 0.05608320558440741, 0.05598677225142676]}\n",
            "| \u001b[0m 9       \u001b[0m | \u001b[0m 0.7974  \u001b[0m | \u001b[0m 0.8346  \u001b[0m | \u001b[0m 0.8496  \u001b[0m | \u001b[0m 17.33   \u001b[0m | \u001b[0m 24.99   \u001b[0m | \u001b[0m 0.05343 \u001b[0m | \u001b[0m 85.16   \u001b[0m |\n",
            "{'r2-mean': [0.06225595814569931, 0.125962445237871, 0.18026283465534942, 0.22899999828947246, 0.2765915589048413, 0.32020512445971255, 0.35806566493671194, 0.39308367588279625, 0.4251359517031516, 0.45288438718000706, 0.4792036729909334, 0.501583046901968, 0.522865766283876, 0.54238917017933, 0.5595240195522388, 0.5759681099974354, 0.590801011730546, 0.6052961559510782, 0.6169034481924465, 0.6290145033106981, 0.6423016173689315, 0.6510762381892239, 0.6592592004169194, 0.6673869007699242, 0.6755482409988088, 0.6834287673511368, 0.690262357557328, 0.6968786072786549, 0.7032473657352731, 0.7088633697501618, 0.7138684708255206, 0.7199834094058689, 0.7250231449169681, 0.7297054665300218, 0.7342217944738686, 0.7376596835325546, 0.7408463696996684, 0.7427523478746343, 0.7454384709870745, 0.7482462639515592, 0.7511790892211272, 0.7535473117708393, 0.756258932483177, 0.7581935839338915, 0.7609069058215592, 0.7632375143995228, 0.7652142483091561, 0.7670816220144777, 0.7688316181752315, 0.7701707038526454, 0.7709232921909746, 0.7721214975614459, 0.7730203762634005, 0.7740582050363756, 0.7753105832291404, 0.7761380005196294, 0.7771987734838595, 0.7781146079623782, 0.7791502211147721, 0.7798389623968648, 0.7807674081097499, 0.7812388794740291, 0.7822710326931419, 0.7830914380553491, 0.7844115824928537, 0.7848127438832815, 0.7857077428762747, 0.7868942817405891, 0.7872623195227698, 0.787682448691706, 0.788429328359088, 0.7891338619204656, 0.7896383575572763, 0.790068659730354, 0.7907018313415785, 0.7909736959089118, 0.791349354820576, 0.7918018760278696, 0.7921576702935271, 0.792367379145514, 0.7928265090176346, 0.7931800241661564, 0.7934794586839148, 0.7935622169996591, 0.7936873319239099, 0.7937771208843152, 0.79370197179686, 0.7940718987329375, 0.7943036010011861, 0.7944505929611154, 0.7944638332344034, 0.7945472253207514, 0.7945323567100617, 0.7945654577330764, 0.7949763936811594, 0.7947991060959829, 0.795024191928206, 0.7950525027504298, 0.7952029443413113, 0.7953643715883982, 0.7955394230195312, 0.7957425999659211, 0.7959683324881842, 0.7960918076889802, 0.7963968355029798, 0.7967589997692474, 0.7968355840934587, 0.7970411379242328, 0.7971662716084076, 0.7970171644042136, 0.797223619976681, 0.7974319736828184, 0.7975368437388324, 0.7975936111872391, 0.7974743160765457, 0.79776948746058, 0.797831612766441, 0.7978764523177462, 0.7978582598943691, 0.7980646158644665, 0.7982379325221896, 0.7984292543796252, 0.798613530684109, 0.7985447373404776, 0.7985242373538085, 0.7987711503411584, 0.7987472004199796, 0.7987237007538576, 0.7988318720103907, 0.7989085246051542, 0.7988118157712829, 0.7988600716534917, 0.798781983242342, 0.7990309007362633, 0.7990860231682736, 0.7991606515018578, 0.799042301566071, 0.7991968344931472, 0.7990905274604367, 0.7991726080704172, 0.7991011347559496, 0.7992078460570735, 0.7991201833740031, 0.7992186816726357, 0.7993122266883137, 0.7993147707870435, 0.799229631116213, 0.7994857787430819, 0.7995059908327812, 0.7995400724012561, 0.799625751553965, 0.7995398954992814, 0.7996867946452835, 0.7997133460692224], 'r2-stdv': [0.011249634640585215, 0.021130536481013585, 0.02878166743998476, 0.03594611421221887, 0.042565398022546615, 0.049448193725648945, 0.054502603450267466, 0.05873696875421475, 0.062492825496216896, 0.06606963959878066, 0.06905213410875945, 0.07147429576288208, 0.0736747662194938, 0.07583763150106508, 0.07765902477186495, 0.07912037760666796, 0.0803647760506851, 0.08154145354652834, 0.08260334074503185, 0.08399112309014473, 0.083942560405117, 0.0845902386647903, 0.08470752212777348, 0.08547911476796492, 0.08595383958725497, 0.08611442648450389, 0.08591597455066102, 0.08560165748037178, 0.08483226065445232, 0.08439094812220735, 0.08416620210257764, 0.08326480006745267, 0.08377743666718451, 0.08395589097340128, 0.08320300206528827, 0.08242913402324477, 0.08268361193239748, 0.08313920041517132, 0.08272452649154918, 0.08256406108709788, 0.08238358119343589, 0.08192000734950042, 0.0818839530595313, 0.0819432079441898, 0.08087099643226599, 0.07994923238306959, 0.07969842775209576, 0.07899911413307449, 0.07786395850022275, 0.07715392056462586, 0.07715978721174231, 0.07652997811302632, 0.07660934321020552, 0.07594839485016455, 0.07534904807535966, 0.07488213325444518, 0.07417640469478186, 0.0732283284139922, 0.07268515701715739, 0.07229107152686362, 0.07165670198445902, 0.07110361366361545, 0.07073166969962905, 0.07033697716322086, 0.06947315538687372, 0.069330666740818, 0.06853957417568839, 0.06773107565908877, 0.06699874267855549, 0.06692320901681822, 0.06622219586481656, 0.06552529485637308, 0.06487673808641696, 0.06506489510115465, 0.06454132112290464, 0.06455986310229693, 0.06391232233718333, 0.0637626742338594, 0.06354759821604235, 0.06341182100275623, 0.06280949844775657, 0.06263507276500677, 0.06266115205881345, 0.06247923193758607, 0.06244677787215809, 0.0625394243678551, 0.06239528180638208, 0.061925526429358155, 0.061927865653235735, 0.06197354852110373, 0.06197526768632887, 0.06208730123405971, 0.061979511956134985, 0.06166245928890193, 0.061205328726401984, 0.06119375827158765, 0.06089347821742709, 0.060659774579876695, 0.06062039358117639, 0.06050530837795891, 0.060269257875924, 0.06007579362896915, 0.0600114300377341, 0.05998948678439661, 0.06000468729926367, 0.05973791470728783, 0.059654496485103264, 0.05966565310790254, 0.05979877608765954, 0.05973134363407552, 0.05972573186626652, 0.059582463498287275, 0.059582698746150596, 0.05974802011769257, 0.05981305766220521, 0.05957301861469469, 0.05954601910696025, 0.05947408484643199, 0.05939418006286847, 0.059266610062759684, 0.05925941398240161, 0.05933993078854724, 0.0590548002346702, 0.05912891137513133, 0.05903978812344371, 0.05874180679101486, 0.05862550206039185, 0.0586553840031602, 0.05847944352928753, 0.0585015585559641, 0.05848795720181151, 0.05840712355277122, 0.058471189692096415, 0.058497053546862444, 0.05846217086391892, 0.058368248151454714, 0.05826294826019989, 0.05838357860869322, 0.05845077956109286, 0.058305057287874516, 0.05841128209834411, 0.05849333556977448, 0.05847554874508726, 0.05837682237528453, 0.058276898868716356, 0.05821170690939747, 0.05815244940183052, 0.05796786735303394, 0.057899601120856334, 0.05798061615474454, 0.057919997072202835, 0.057680653502420874, 0.05761777555694077, 0.05769207046797429]}\n",
            "| \u001b[0m 10      \u001b[0m | \u001b[0m 0.7997  \u001b[0m | \u001b[0m 1.0     \u001b[0m | \u001b[0m 0.9     \u001b[0m | \u001b[0m 25.0    \u001b[0m | \u001b[0m 10.0    \u001b[0m | \u001b[0m 0.1     \u001b[0m | \u001b[0m 80.0    \u001b[0m |\n",
            "{'r2-mean': [0.059564391069255, 0.12361618559335319, 0.17678214340678766, 0.22541524789224682, 0.2737592417997897, 0.3173875999353101, 0.3551269664800326, 0.39089420050260726, 0.4235584549469017, 0.4524400417090221, 0.4786995235594683, 0.5044506784590841, 0.5273779543738873, 0.547314583788956, 0.565888455046524, 0.5814170157070826, 0.5951469856895073, 0.607428460406139, 0.6200387807543857, 0.6322573739438649, 0.6454953838465636, 0.6533253420437619, 0.6617511516527024, 0.6712904773834234, 0.6792901114440887, 0.6856577033510532, 0.693706631941074, 0.7008154046850759, 0.7067313800491423, 0.7130538899916505, 0.7182459511947558, 0.7238189420536858, 0.7286123862819134, 0.733169195479494, 0.7378993171069563, 0.7411425708737527, 0.7441759655626051, 0.7460094338087526, 0.7480129531484795, 0.7509994850504413, 0.7539478054289048, 0.7553086211294412, 0.7578116603605867, 0.7603528218407415, 0.7630287822029445, 0.7655026373627163, 0.7673778352109869, 0.7695804153886339, 0.7709690113250358, 0.7717617591894799, 0.7726191671442172, 0.7742913772771335, 0.774984038793199, 0.7762822996699763, 0.7773378289161245, 0.7784854241975815, 0.7796109470169987, 0.7805299055385505, 0.7816398453933708, 0.782674585742149, 0.783516608956338, 0.7839058142132083, 0.784818366515607, 0.7851271351205652, 0.7859843346504082, 0.7865269191432012, 0.7873405133234241, 0.7880659721562433, 0.7887784240588527, 0.7891700232669233, 0.7901473628287267, 0.7910589624458518, 0.7913853902214576, 0.7916997245070003, 0.79180135389973, 0.7925868139789017, 0.7930203683513619, 0.7932869471458279, 0.7937337693147514, 0.7938849801449877, 0.7947522354293209, 0.7951177120361516, 0.7954378749624701, 0.7957516494488013, 0.7959273364697598, 0.7961003011246495, 0.7962907676645541, 0.7966198949718789, 0.7968827981475177, 0.7971021520091263, 0.7976176919678324, 0.7978890731677541, 0.7979441634278194, 0.798329786399176, 0.7984740504718296, 0.7986191163765218, 0.7986795356567284, 0.7987614279490978, 0.7991289837572216, 0.7991635209697844, 0.7996026475265424, 0.7999707044220562, 0.8000041241917177, 0.8001791420200016, 0.8003228823299295, 0.8004354520526414, 0.8005091392286937, 0.8006177350913471, 0.8007699762756889, 0.8007547084725422, 0.8007259284656822, 0.8009033768841636, 0.800789828819498, 0.8009514709434182, 0.8009008229329797, 0.8009560250970384, 0.8012620407846212, 0.8012708889176713, 0.8015174901954673, 0.8017237160477929, 0.8019573050613756, 0.8019132589826221, 0.8019199938605842, 0.8020740262811061, 0.8018804057062656, 0.8018863453778788, 0.8020284783496789, 0.8019313093618987, 0.8019637611684516, 0.8020900041089796, 0.8021391636202454, 0.8023359564308471, 0.8023307094146552, 0.8024843000270045, 0.8024240862026157, 0.8023244326090356, 0.8026535878630471, 0.8027186355239511], 'r2-stdv': [0.010687679111911812, 0.020429287458629212, 0.02810910501099028, 0.035011476543268256, 0.04168919545067683, 0.046983690893798516, 0.05194723613891031, 0.05656338077127315, 0.060756753008336765, 0.06464552197918515, 0.06776962915331125, 0.06898675631108757, 0.07192882717665186, 0.073938558254128, 0.07580861296609527, 0.07688266504463398, 0.07820538445807908, 0.07915717860428687, 0.0807407374133835, 0.08235742019277306, 0.08256787069427161, 0.08311722783588801, 0.0834102575480995, 0.08350821632775238, 0.08399365457428801, 0.0841548122036789, 0.08308954090479431, 0.08355303159020715, 0.08319463714035179, 0.08242005000897538, 0.08213151294051686, 0.08063186383692174, 0.08098473913946468, 0.0809342455000164, 0.08030120318547493, 0.07973522546842464, 0.07924967639988652, 0.0795487474783709, 0.07994799115991846, 0.08009471772741797, 0.08034235694943961, 0.08026832679934925, 0.08040630450207381, 0.07945339788348828, 0.07874618574783959, 0.07796214043928248, 0.07773641962089696, 0.076933256223243, 0.07702296505182261, 0.0772370682813266, 0.07718841668515937, 0.0763203318797061, 0.07636365068132062, 0.07561601399898879, 0.07500264767238303, 0.07439961806923641, 0.07373942670272443, 0.07311902710331218, 0.07254356773098915, 0.07230725656157852, 0.07183921746849999, 0.07198971847864652, 0.07137436702609347, 0.07141407298242473, 0.07113551854809323, 0.07112725502893934, 0.07036508250099349, 0.06960877298104177, 0.0689940191621472, 0.06877486107197926, 0.06819752798371777, 0.06745476953384227, 0.06721104772771856, 0.06739725590411373, 0.06736261628942207, 0.06683078283493446, 0.0665461332370052, 0.06644430137619736, 0.06647044219494569, 0.06643979187117083, 0.06585987281708147, 0.0656848693495645, 0.06557554463478642, 0.0655122601713285, 0.06567789037699542, 0.06571651061865379, 0.06559043531749234, 0.06500793487931132, 0.0644835235266753, 0.06455336982368808, 0.06412475444764161, 0.06411747406221388, 0.06417008934802228, 0.06399780665342764, 0.06385217015628025, 0.06367954450060616, 0.06354486203579757, 0.06343377225427684, 0.06326942885617992, 0.06311725871996847, 0.06261154971999315, 0.06252719828894147, 0.06258262664590318, 0.06267584639692317, 0.06252960141185981, 0.06250046012392865, 0.06255416232224129, 0.06236983080118718, 0.062314630070176576, 0.062187282323939726, 0.06220339131784257, 0.06215478311678896, 0.06213447915846551, 0.06191219432893965, 0.06189507706784995, 0.06201944864181123, 0.0620342547963742, 0.0620653131705583, 0.06209667923898948, 0.06209432996049376, 0.061691686881017324, 0.06170534926214145, 0.06178698481446036, 0.06154369120668345, 0.06141658456453292, 0.06158270768829512, 0.06129695221811112, 0.06119075215656266, 0.06099386520544632, 0.06096086784436787, 0.06093196622648054, 0.06072914445003878, 0.060591046932517614, 0.06064311532529597, 0.060498431225970734, 0.060408308517565915, 0.0602001136009055, 0.06011913979298169]}\n",
            "| \u001b[0m 11      \u001b[0m | \u001b[0m 0.8027  \u001b[0m | \u001b[0m 0.8852  \u001b[0m | \u001b[0m 0.8     \u001b[0m | \u001b[0m 24.87   \u001b[0m | \u001b[0m 18.07   \u001b[0m | \u001b[0m 0.0768  \u001b[0m | \u001b[0m 87.01   \u001b[0m |\n",
            "{'r2-mean': [0.05483927810029081, 0.11308497064581517, 0.16354966551428526, 0.21066135372087044, 0.255229258879399, 0.2945028113210015, 0.33350152582144643, 0.36819557226750144, 0.3958502716673706, 0.4277368063796982, 0.4537279757245759, 0.47664457172029245, 0.49940785473665555, 0.5195504142319344, 0.5372501219980123, 0.5506691088935287, 0.5644360189128006, 0.5774935782076165, 0.5922910343449928, 0.6045096260503223, 0.6137420186186502, 0.6214337957231127, 0.6309598628097801, 0.64118910612265, 0.6493345385207896, 0.6562382057749618, 0.6648188020015595, 0.673483829596236, 0.6811958627200438, 0.6901183001343023, 0.696152102252797, 0.7001045123955636, 0.7062675273963455, 0.7097991459691476, 0.7132601250743318, 0.7160395329699528, 0.72057376245938, 0.723386052640636, 0.7261933277281672, 0.72846292659214, 0.7309670666872471, 0.7330245881296864, 0.7351641702808626, 0.7379584223639515, 0.7401518388351173, 0.7417647076243732, 0.7445086944399117, 0.7474070875253525, 0.7480830151389302, 0.7491083452990905, 0.7498837408097954, 0.7509364974309757, 0.7516690959303981, 0.7544058576122021, 0.7572141832870836, 0.7581878765578113, 0.759438241465551, 0.7600319899526233, 0.7610827906874619, 0.7636062640768273, 0.7662720523807561, 0.7690041470501734, 0.7693515432217689, 0.7702602835750094, 0.7715381045233125, 0.7718918315409888, 0.7725654244873408, 0.7743146764233042, 0.7759325398873305, 0.7764820000077025, 0.7770711516255995, 0.7777582131401323, 0.7783143094825801, 0.7789561210166299, 0.7793897375020589, 0.7809214350510422, 0.7821674018402762, 0.782868604081466, 0.7835439552620536, 0.7836325424346018, 0.7839622152178484, 0.7852505695624942, 0.786447643370879, 0.7866868476891484, 0.787170580982995, 0.7872099206201382, 0.7873667397418392, 0.7879048964650908, 0.7879363061170257, 0.7880529494553979, 0.7888727691304167, 0.7890775277721062, 0.7893843173483456, 0.7898134131007246, 0.7900559929505964, 0.7900163862292472, 0.7906724915380066, 0.7906561484301522, 0.7908102314904148, 0.7908419781966246, 0.7915828944110906, 0.7917189553373095, 0.7921772893354515, 0.7923698846208397, 0.7926879772360476, 0.7929178900286556, 0.7928171564374261, 0.7930380167370459, 0.7938315590253809, 0.7938123108071642, 0.7938142658606433, 0.794054288178855, 0.7939943543115484, 0.7941384825830562, 0.7942288653566913, 0.7942980072950531, 0.7944802004499161, 0.7945460633337402, 0.7947123669788575, 0.7948285066522046, 0.7950880839476788, 0.7956040269156672, 0.7955453854223673, 0.7957211922391916, 0.7958250418744932, 0.7958764033947954, 0.7959126722504423, 0.7959389571521535, 0.7962262710848315, 0.7962898963074906, 0.7965252386219019, 0.7967431634411433, 0.7968413581456009, 0.7971228459074018, 0.7973375411732461, 0.7976766980262364, 0.7978076660916897, 0.7980558787287453, 0.798162858751182, 0.7981644226590687, 0.7981931600026926, 0.7984150089814092, 0.7983497109360178, 0.798502905934078, 0.7984167871216952, 0.7984524100131785, 0.7986395976697602, 0.7989248972257611, 0.7990850901317739, 0.7988924041494274, 0.79886539103587, 0.7989267090902175, 0.7988413140464861, 0.7989703904656189, 0.799039858049049, 0.7993147832212717, 0.799251596179299, 0.7992806399493811, 0.7994705374650368, 0.799576606449317, 0.799709553382536, 0.7998112765288893, 0.7998160214175745, 0.7999010019113462, 0.8001398808865325, 0.8000541821156869, 0.8002515759912677, 0.800370832417825, 0.8004440650850192, 0.8003662096981247, 0.800263529000276, 0.8003661228171133, 0.8003584701687231, 0.8004864430421883, 0.8005383590014581, 0.8004198751870979, 0.8005699327876477, 0.8005593763401595, 0.8006054727824286, 0.8006992923393319, 0.8006569407726702, 0.8007343606745673, 0.8006619886978544, 0.8008490967246841, 0.8008769465476565, 0.8008678976483431, 0.8009596276483848, 0.8008176420420791, 0.8008308478819226, 0.8008575960132154, 0.8009831900501038, 0.8009396994243968, 0.8011226819473223, 0.8012236622003005, 0.80123909816027, 0.8012547783422945], 'r2-stdv': [0.010627351853640233, 0.01907961980666503, 0.026821364858691694, 0.033901900646706465, 0.03963404234006299, 0.04451094618195176, 0.049803062802872354, 0.05482189584467544, 0.05701705860883263, 0.06124739387469938, 0.0632687911435137, 0.06494374690410515, 0.06820626247302042, 0.07010326415794597, 0.07223974885824697, 0.07317799153945659, 0.07457336110838696, 0.07553783099577506, 0.07496544513454098, 0.075478313694797, 0.07630175438318429, 0.07656032774244702, 0.07740936327144159, 0.07798361889548484, 0.07840156377778933, 0.07894575408766448, 0.07983735292923011, 0.08061088668371424, 0.08117328576106998, 0.08083848498726498, 0.0814443839286008, 0.08151977927479986, 0.08110323191109417, 0.08087502596865753, 0.08065441113144907, 0.0803512562245224, 0.07921139225996297, 0.07898760402832285, 0.07927921341234026, 0.07937574002964604, 0.0795803264763965, 0.07926614902955309, 0.07919998065355449, 0.07875438107427063, 0.07857689112057469, 0.07830869698244372, 0.07780453014516918, 0.07752955247851172, 0.07752354379074826, 0.07728833458426687, 0.07725973740130986, 0.0770047207558129, 0.0770008920545096, 0.07700727999372849, 0.0770177550187043, 0.07707341557465569, 0.0770603042380502, 0.07693869504112372, 0.07708134349195855, 0.07629896739396652, 0.07543520083957304, 0.07498921386702599, 0.07511730397464841, 0.07522055280081512, 0.07481557131939072, 0.07461051534726906, 0.07418623702112502, 0.07338123306673491, 0.0725247279697695, 0.07252348809551944, 0.07241175231688364, 0.07238583864804489, 0.07237862826643537, 0.0725887229456734, 0.0725333481071301, 0.07193401303346783, 0.07122866304454578, 0.070769858754826, 0.07032420520115318, 0.07022178377354545, 0.07016197138021815, 0.06965835244579184, 0.06906961145780288, 0.06934301622232701, 0.06907795150720818, 0.06917070177800173, 0.06918294772237059, 0.06905192091324129, 0.06903992703083622, 0.06910553507061067, 0.06860489373049465, 0.06878170803226893, 0.06842591511695059, 0.06841924639545174, 0.06846877727542523, 0.06851419451228512, 0.06801908243721674, 0.06807656297616835, 0.06806046151210608, 0.06805552100873248, 0.06753006022053726, 0.06746101413181035, 0.06693369523014481, 0.06704636381520374, 0.0666946761309931, 0.06665028129005775, 0.0667086844590685, 0.0666208195461187, 0.06622299551106121, 0.0662080336178816, 0.06592785531270282, 0.06572029382014134, 0.06547670406663611, 0.06549215195207966, 0.0653919472595632, 0.06530738122193849, 0.06529356724437399, 0.06518619088656154, 0.06489833515201199, 0.06496659608991617, 0.06506612644766745, 0.06477290630660039, 0.06467727279435982, 0.06466912957032041, 0.06460241057022909, 0.06484590622333626, 0.0649162521010557, 0.06469775044220959, 0.06437888850108467, 0.06430150227857401, 0.06412738269954205, 0.06396093938610323, 0.0636857523089321, 0.06332964764503914, 0.06335393635545256, 0.06309822599482168, 0.06314613798519583, 0.06323767814359026, 0.06317843701133365, 0.06310144130819502, 0.06313861938378351, 0.0632089284571226, 0.0630602810031928, 0.06295892017709427, 0.06280817848667611, 0.06267775649853084, 0.0628335370368355, 0.06266671899053583, 0.062445028115185555, 0.062424819239811476, 0.06242253258685777, 0.062211877035222116, 0.062236382661612306, 0.06199965644187811, 0.061940689872693966, 0.06180568403523865, 0.0617626632437479, 0.061861219207896966, 0.06159070072167839, 0.061628823680230864, 0.06175821455279473, 0.061838233528977646, 0.061772295883282355, 0.06181363539514101, 0.06159235210780107, 0.06141077837894713, 0.061379509393564846, 0.061433217967017346, 0.061229662541740455, 0.06118768514398687, 0.061217100653987756, 0.06120644957745823, 0.06111543615908005, 0.06130409878923569, 0.06114978898734625, 0.06116635534523845, 0.06111983839273483, 0.061001712700094655, 0.061058718177408544, 0.06108480804966602, 0.061092555461669334, 0.060837511384849545, 0.06092213480470013, 0.060932300032194, 0.06086582064060107, 0.06071314336298193, 0.060785317403594774, 0.060752460727533, 0.06054715380560661, 0.06053241237531507, 0.060283839907290186, 0.0602530917110147, 0.06029108827168025, 0.060136075352854305, 0.06013585435030039, 0.06025136954752338]}\n",
            "| \u001b[0m 12      \u001b[0m | \u001b[0m 0.8013  \u001b[0m | \u001b[0m 0.8011  \u001b[0m | \u001b[0m 0.5369  \u001b[0m | \u001b[0m 17.09   \u001b[0m | \u001b[0m 24.66   \u001b[0m | \u001b[0m 0.0379  \u001b[0m | \u001b[0m 80.13   \u001b[0m |\n",
            "{'r2-mean': [0.03673504832735967, 0.08459965964284896, 0.11764831185554887, 0.14301864956961868, 0.16459411190477216, 0.19484335537185732, 0.20438499011441494, 0.22725411609000412, 0.2551595588470964, 0.27667588072494154, 0.29161277756432835, 0.3037158955659133, 0.3184872670105512, 0.3308202789074775, 0.3376041142798097, 0.34882117305666654, 0.35267249229497394, 0.3644134863506521, 0.3761612282172758, 0.39775757470912587, 0.40876795645142516, 0.41731708604887946, 0.42292399987737744, 0.4321765968688635, 0.4445641003414581, 0.4489236540624578, 0.4565378171429003, 0.45993270153460414, 0.4732214494020345, 0.48497856164722053, 0.49209635574390853, 0.501237410729664, 0.5067789305887656, 0.5098699720713137, 0.5154058861766855, 0.5191219403287278, 0.5244973169530862, 0.5259222600504205, 0.5341697463911064, 0.5407268091176931, 0.5449525073647083, 0.5573092196529648, 0.5588796662271174, 0.5640372911449342, 0.57078443039256, 0.5722746034511832, 0.5748789453783645, 0.57560538944103, 0.5796896034200574, 0.5822880374377193, 0.5835196577638802, 0.5865641874056177, 0.5887028156019779, 0.5903159851479016, 0.5942464636808695, 0.597901677323455, 0.5995959802041846, 0.601367015834216, 0.603965487901221, 0.6054970047484657, 0.6103619413279869, 0.6134441531148072, 0.6141791157320777, 0.6206284139505981, 0.6224620651994568, 0.6220294465139272, 0.6246780082583835, 0.6254022881804897, 0.6263128465916387, 0.6278579140155711, 0.6331628801882692, 0.6355890260161088, 0.6371008185244124, 0.6386082895238259, 0.639412284432788, 0.6398207799675705, 0.6404077302825824, 0.6409679158930615, 0.6427487634182808, 0.6448030401012539, 0.6450436328051414, 0.6479402825729045, 0.6490306584295492, 0.6504327528593425, 0.6517877493284605, 0.6528696206395515, 0.6535843134552678, 0.6548572627015556, 0.6553821186579986, 0.655731797971489, 0.6566699194664152, 0.6575848776716772, 0.6577410387005542, 0.6581524266195602, 0.658726518820234, 0.6599669124811206, 0.6609925299825049, 0.6623591097016388, 0.6639695189929744, 0.6646931574865802, 0.6668849662962573, 0.6686072107543113, 0.6689319974851671, 0.6693145182637446, 0.6701870358271539, 0.6709822284777749, 0.6724739904803295, 0.6738603195452614, 0.675084878851447, 0.6754401300017735, 0.681316161710637, 0.6815873152840641, 0.6833589791276079, 0.6841533290319946, 0.6843561202803844, 0.6846238440110437, 0.6856348295117972, 0.6858247133131388, 0.6867126053834337, 0.6868175304065763, 0.6922218121242502, 0.6921357645485615, 0.6925384611661224, 0.6928367306580153, 0.6934878416266522, 0.6946225234890061, 0.6962007582981466, 0.6962811563289782, 0.6959665337268112, 0.6964093750895437, 0.6965142160632165, 0.6970169488500494, 0.6972110694695381, 0.6972854204826873, 0.6983148760250032, 0.6987793946263366, 0.6990443558224391, 0.7003145445482174, 0.7011239348086475, 0.7051262588386816, 0.7054310056979578, 0.7055811248053127, 0.7060485319669552, 0.7063276917433458, 0.7065993484295235, 0.7074277059772619, 0.7075468777958285, 0.7074843267448652, 0.7072592133018457, 0.7074971148010161, 0.7078074734847455, 0.7086699368303013, 0.7098538847263246, 0.7099789969481286, 0.7121001505485961, 0.7119783306276106, 0.7126077553935743, 0.7126793877558038, 0.7128595073961467, 0.7130258407812669, 0.7133037716844988, 0.7133683725305209, 0.7134147951810765, 0.7137268686296361, 0.71381432551472, 0.7141878506246433, 0.7143658277247985, 0.7147776977515055, 0.7151202644148558, 0.715124185178944, 0.7154304979588926, 0.7154595098307753, 0.7154933730949455, 0.7160954463600138, 0.7163070342078633, 0.7165554308047195, 0.716596115332139, 0.7167681546556803, 0.7167931639787201, 0.7175909785149286, 0.7177607310241301, 0.7176866326873558, 0.7194664033372838, 0.7196273321693226, 0.7196827559615038, 0.720056441653511, 0.7201982998057173, 0.72032863962072, 0.7204499586511719, 0.7204708588450675, 0.7206180874476441, 0.7206970487976576, 0.7207599153854993, 0.7213111192173599, 0.7215523009015194, 0.721506392649345, 0.721616550349361, 0.7216249420853457, 0.7217506143624213, 0.7218900912889632], 'r2-stdv': [0.009137130936710232, 0.01446630498233755, 0.019699469597708515, 0.022784240779057562, 0.025484898647045957, 0.03054202819875735, 0.032924799183497014, 0.037200370518671526, 0.04095115467242332, 0.04445255362597623, 0.04820949595470287, 0.0488804004005777, 0.05218502579772376, 0.054584489759024954, 0.05621033178388398, 0.05805233829041343, 0.05934577350401729, 0.06152476139046642, 0.06335964901315401, 0.06411064070335637, 0.06575924957452893, 0.06696070387444354, 0.0678522964674093, 0.06844785110476356, 0.0697760390673164, 0.07048248117097486, 0.0716504647101105, 0.07214167864085058, 0.07352343831234295, 0.07428718459593511, 0.07509286813379198, 0.07565314430887266, 0.07511980638375189, 0.07474289700071966, 0.07493666584424613, 0.07501068965017801, 0.07593671091262037, 0.07618733423929223, 0.07501337025806386, 0.07525752655444339, 0.07535656363697749, 0.0730410445867244, 0.07331776811026094, 0.07333033624600968, 0.072388674390852, 0.07274304269133877, 0.07279688392324074, 0.07286080580539603, 0.07304849407559347, 0.07312551478273975, 0.0734644034412369, 0.07363216481779461, 0.07382979433994619, 0.07303400368022896, 0.07318022163953963, 0.07316401988286274, 0.07293308381660021, 0.07312074703063777, 0.07336084841955672, 0.07317891056810763, 0.07311206567259478, 0.07267074712677309, 0.07246392388410694, 0.07290424127058126, 0.07300068085933063, 0.07245133528131197, 0.0724684516325776, 0.0720505385068914, 0.07191992687585069, 0.07200026278913085, 0.07230604012660871, 0.07198120031163935, 0.0719986075836439, 0.07216042301644957, 0.07219661112568752, 0.07214294830608207, 0.07206709110716611, 0.07204976572350277, 0.07180602246665896, 0.0719848689652025, 0.0719061199498751, 0.07142349081288236, 0.0713291348001702, 0.07135542422085092, 0.07140580884249202, 0.07167087580066082, 0.07179613573895202, 0.07201105573468647, 0.07190235374130549, 0.07179155486862003, 0.07164214942404727, 0.0715543867782757, 0.07146960437019921, 0.0715203219838608, 0.07194128730494487, 0.07177905716833331, 0.07149595560156276, 0.0715723591442759, 0.07183344979630776, 0.071832217733593, 0.07201475033169623, 0.07179411384150206, 0.07171889307148031, 0.0720052672796659, 0.0720624369808469, 0.07208054035853295, 0.07220926975065879, 0.07255223797705806, 0.07266088364663476, 0.07254929293372428, 0.07226149607908516, 0.07215537576244312, 0.07197662146102039, 0.07201592140512675, 0.07186132866471052, 0.07192911523369933, 0.07220006606376478, 0.07208093795011496, 0.07203734620898339, 0.07193966106806507, 0.0718095018698658, 0.07149642412018446, 0.07112801649755415, 0.07108943102452939, 0.07063435676020056, 0.0704263478827688, 0.07036144462780683, 0.07027400617629985, 0.07019681424710592, 0.07030935452206724, 0.07025869552985012, 0.07019712237301128, 0.07040077563963452, 0.0703485486248486, 0.0703486270132034, 0.07037564815239708, 0.07020018966655324, 0.07033577301061336, 0.07035369881691521, 0.06993830613758764, 0.06988390030030427, 0.06976614717055685, 0.06984936481779665, 0.06980419056144235, 0.06965606321020246, 0.06961544497133107, 0.06953210636748167, 0.06919895536037296, 0.06916544903875947, 0.0689995464649321, 0.06906728531057302, 0.06907707814841452, 0.06949763170934005, 0.06944754438600158, 0.06909716580874639, 0.06891452094114911, 0.06900843669928584, 0.06907659310993997, 0.06899878442767787, 0.06909266932261349, 0.06915695747180872, 0.069081742553105, 0.06910978254580039, 0.0691050225418546, 0.06909366513543949, 0.06907154360586845, 0.06905847294713068, 0.06892141541992716, 0.06879405417783806, 0.06877659051656072, 0.06873316860943036, 0.06872394385847551, 0.0686999497052918, 0.06876058083494734, 0.06881178071384532, 0.06886878570946574, 0.06895465703523931, 0.06889648009104389, 0.06837802561827358, 0.06821491244072701, 0.0682987225776157, 0.0679101225884301, 0.06718763203109233, 0.06721124883138753, 0.06727476890953607, 0.06707932654516992, 0.06706861209022787, 0.06708667925208377, 0.06701682189257582, 0.06707955251008538, 0.06704402223996668, 0.06702433491840575, 0.06697719898960632, 0.06711321532025824, 0.06706718851213987, 0.06712443166649597, 0.06711178820201188, 0.06728112174500415, 0.06725274192699605, 0.06725921056912901]}\n",
            "| \u001b[0m 13      \u001b[0m | \u001b[0m 0.7219  \u001b[0m | \u001b[0m 0.9448  \u001b[0m | \u001b[0m 0.1255  \u001b[0m | \u001b[0m 24.71   \u001b[0m | \u001b[0m 10.01   \u001b[0m | \u001b[0m 0.04486 \u001b[0m | \u001b[0m 87.34   \u001b[0m |\n",
            "{'r2-mean': [0.05451479284583276, 0.11140927667642395, 0.16244895562309533, 0.21018936798566928, 0.2544554684232111, 0.295728317252453, 0.3349419974326531, 0.37007916646441885, 0.3983764172139227, 0.43103016682310447, 0.4578112046210193, 0.4826084087078046, 0.5054677753473772, 0.5266680071569743, 0.5444570908257524, 0.5586492353704211, 0.5725591649970049, 0.5862803693034896, 0.6020693968208459, 0.613401203514232, 0.6227657061385098, 0.6306490191737708, 0.6399274809107849, 0.6514142196616723, 0.6591369340483467, 0.6660726383113168, 0.6748698103723682, 0.6836185144407946, 0.6916489058748961, 0.7003279223561976, 0.7063596913067778, 0.7103839723332154, 0.7166400425708872, 0.7203242707269, 0.7238509575692887, 0.7266802887172503, 0.7317727947428188, 0.7344322659900115, 0.7372289082703618, 0.7391829576945742, 0.7410408406760979, 0.7429654522080311, 0.7449309230437808, 0.747555774554745, 0.7496087393111104, 0.7511359116972877, 0.7537647374196659, 0.7571238158098839, 0.7579047541444938, 0.7590116451512225, 0.759766445526328, 0.760727211386002, 0.7616132212932822, 0.7640931229570077, 0.7666168947339962, 0.7674274709108693, 0.768764703406511, 0.7691980204645189, 0.7699828321888808, 0.7718061359076243, 0.7738684968157294, 0.7761017013807612, 0.7766364071829173, 0.7773998310511672, 0.7787169842051596, 0.7791586658306014, 0.779526601548321, 0.7809444245852531, 0.7823373564200449, 0.7826481712388895, 0.7830876681304539, 0.7834578688836256, 0.7841192720844639, 0.7847314092551987, 0.785151327872096, 0.786505173604519, 0.7875756975079379, 0.7882498486307934, 0.7889953833163018, 0.7890980412806428, 0.7893343801664449, 0.7902639185445338, 0.7910916979661939, 0.7915110671975693, 0.791830764363822, 0.7920085556438412, 0.7921422163786918, 0.7925736676625473, 0.7928002465400071, 0.7927910493456304, 0.7934701139611878, 0.7935774133898187, 0.7939630749359876, 0.794113480862179, 0.7942548898738642, 0.7944259612180644, 0.7949969586129051, 0.79531754314134, 0.7954660229079755, 0.7953647910569605, 0.7961981718810296, 0.7963633204769549, 0.7967762042667973, 0.7968829937109695, 0.7971789453512149, 0.7974150502658752, 0.7976637193279822, 0.7978126326791839, 0.7982870534566636, 0.7983264741496798, 0.7985797139946351, 0.7986619735092884, 0.7985441737430989, 0.798898988292623, 0.7989380562146552, 0.7991227949121132, 0.7991816416017508, 0.7990742572682936, 0.7994825451655, 0.799459815212552, 0.7996154612519082, 0.7997168560297558, 0.7996290264504962, 0.7997583763483768, 0.7999655120099478, 0.8000852041354122, 0.8001516926592573, 0.8000629053875496, 0.8002296695224487, 0.800368016334686, 0.800446156607248, 0.8006228749543656, 0.8003835065253304, 0.8006256549370688, 0.8006458764584146, 0.8007638480780654, 0.8009156893910353, 0.8009348064465396, 0.8010253387872434, 0.8012189060373863, 0.8012073662027648, 0.8014019249483605, 0.8014017509640464, 0.8014777145522279, 0.8013607534754389, 0.8014955869539264, 0.8015853149944592, 0.8016774882632316, 0.8018432209704599, 0.801920315995169, 0.8019528839665548, 0.8019422976818966, 0.8018347508232958, 0.8019681128748681, 0.801927117837456, 0.802059105735254, 0.8021302005667319, 0.8022073557027664, 0.8021794040971066, 0.8022608960300011, 0.8023100535708482, 0.8024218870887637, 0.8023071089515291, 0.8023625793558157, 0.8025071044120278, 0.8025945221326651, 0.8025684504620706, 0.8026043891241118, 0.802621943410295, 0.8027195496074887, 0.8027095028066686, 0.802951539944527, 0.8029503933048042, 0.8029305363725839, 0.8030154995440458, 0.8030669081400212, 0.8029638198014041, 0.8031477385364407, 0.8032253338069889, 0.8033468263532907, 0.8033901756924939, 0.803357848741544, 0.8033776921067318, 0.8035277901940878], 'r2-stdv': [0.010356883105122207, 0.018535064117174586, 0.025912329627807262, 0.03341199753481095, 0.03935765881388058, 0.04329429835817384, 0.0485397670048712, 0.053779193986681344, 0.0569488704726621, 0.06160102381245984, 0.0642887669332492, 0.06616695639061183, 0.06917708128105532, 0.07179093746122267, 0.0738193916266434, 0.0749124704802303, 0.07615372888993116, 0.07693287092640735, 0.07543168408615047, 0.07528077579491765, 0.07614754622571525, 0.07645673346831111, 0.0774450385096855, 0.07872637819318747, 0.07947842826657871, 0.07980413024786442, 0.08096553066673451, 0.08187282105802847, 0.08232076500403197, 0.08186398652842476, 0.08254167376290651, 0.0825891426341623, 0.08203438654991498, 0.08146038096932846, 0.08098978268343786, 0.08106523375162247, 0.08033666488361202, 0.08015690119017134, 0.08049463627333922, 0.08065369262700503, 0.08080175953171531, 0.08049305095477802, 0.08029322322329109, 0.07962836881226276, 0.07934643226280344, 0.07916112255786864, 0.0793259612203727, 0.07850208206086082, 0.07867103946893284, 0.07863761057161255, 0.07886280561607505, 0.07885668476048668, 0.07876770715695679, 0.0782516834304477, 0.07799102290805139, 0.07801899766223194, 0.07727900387679222, 0.07729648933608871, 0.07742493530696636, 0.07686576449087083, 0.07616716982206256, 0.0756529691114164, 0.0756014736121303, 0.0757378880031337, 0.07491656875976656, 0.07481562791705734, 0.07467796167664295, 0.07380901643585716, 0.07306845215799891, 0.0729563235244295, 0.0727082227099359, 0.07268208231138581, 0.0725953520256791, 0.07274333637093351, 0.07274608183193045, 0.07208450727174194, 0.07156477497703544, 0.07076635580299868, 0.07004839364271688, 0.069927060865782, 0.07003512386190475, 0.06949660355459443, 0.0689345654316881, 0.06908290593738962, 0.06903647073749002, 0.06889344763824014, 0.06899369281956594, 0.06888244196554762, 0.06880126198915747, 0.06860131757506313, 0.06803097116114354, 0.0678266607796575, 0.06720740934790347, 0.06734386013148219, 0.06748462397841808, 0.06731427518835915, 0.06677772673037584, 0.06673107205198014, 0.06665966611203887, 0.06659320994278116, 0.06626859022778404, 0.06625083821408803, 0.06569574640596959, 0.06580732754828769, 0.06537754642142082, 0.06528401836766402, 0.06521948447097754, 0.0651452508983403, 0.06481184717818679, 0.06467514721570228, 0.06430198766908954, 0.06434136419719932, 0.06431656544440309, 0.06405502945130533, 0.06376348411962685, 0.06359367308482484, 0.063587695892249, 0.06345071868990068, 0.0630300836521921, 0.0629748726020246, 0.06299485439307197, 0.06280045335508594, 0.062758910911405, 0.06254178986497723, 0.06268310451556217, 0.0628672329748112, 0.06300900959370805, 0.06281347827672476, 0.06255008356277492, 0.06261865413156638, 0.06248896578050568, 0.0624949691013451, 0.06242952473460832, 0.0621696368478624, 0.06212641543068602, 0.06184039112027219, 0.06174837299072154, 0.061611130796350236, 0.06165669544768376, 0.061370062128508054, 0.061423518308835315, 0.061591851026980754, 0.06147255028375442, 0.06138984771014528, 0.061324097883498074, 0.06139137746092805, 0.06149106884461911, 0.06147183124503579, 0.06148447116212171, 0.06149761142464647, 0.06153768360369912, 0.06164027174698711, 0.061712631823754555, 0.06178248467971488, 0.06161875488965499, 0.061506575763192115, 0.06134575499334095, 0.06140606559811681, 0.06131538987965486, 0.06139737716241212, 0.06143397076519419, 0.06142530361251315, 0.06141675274934721, 0.06142419621552669, 0.06127748914352169, 0.061282320624323434, 0.06132967420211643, 0.06143793023013254, 0.06133362014313465, 0.061475538585719296, 0.06147171903018182, 0.06141546657722601, 0.06142000838898937, 0.06127847181020026, 0.06120400043810378, 0.061116694136223775, 0.06108624993668132, 0.06078298185368977, 0.06074163378323451, 0.06069924472421695, 0.06079615034566035, 0.06074993767782774, 0.06069036385458104, 0.06072753007960122]}\n",
            "| \u001b[0m 14      \u001b[0m | \u001b[0m 0.8035  \u001b[0m | \u001b[0m 0.9918  \u001b[0m | \u001b[0m 0.5119  \u001b[0m | \u001b[0m 17.23   \u001b[0m | \u001b[0m 10.67   \u001b[0m | \u001b[0m 0.01513 \u001b[0m | \u001b[0m 80.15   \u001b[0m |\n",
            "{'r2-mean': [0.059564391069255, 0.12355474879561971, 0.17756938701278563, 0.22671032929074805, 0.274877758456568, 0.31777355675348967, 0.355451472242409, 0.3908740738448281, 0.4235511740971254, 0.4527118422031364, 0.4791471800889271, 0.504761289280451, 0.5267114044222966, 0.5466240126377747, 0.5644454249402936, 0.5805888725028364, 0.5951417334401251, 0.6092825145906863, 0.6214970931477117, 0.6333237742095081, 0.6463987288508521, 0.6544376773248379, 0.6625600155886306, 0.6710084801691847, 0.6789960147369172, 0.685907804282453, 0.6937988698809601, 0.7000991447308297, 0.7056499679859372, 0.7120683439081352, 0.7162867401621765, 0.7220427742291565, 0.7268466115535742, 0.7310168356985999, 0.7354434897155879, 0.7387615649886201, 0.7418207530101485, 0.7441868681643188, 0.7461630461601297, 0.749187506004126, 0.7523347802644376, 0.7549761495201883, 0.7574362409683483, 0.7598061553365969, 0.7625676365418006, 0.7650078749492732, 0.7666577004862547, 0.7689944228186667, 0.7706655297604357, 0.771986054291213, 0.7728473306980415, 0.7744093627537051, 0.7749062531470337, 0.7758302529746071, 0.7770121431570529, 0.7776850170013325, 0.7781370884114152, 0.7789063647308361, 0.7802304383379639, 0.7811024742473738, 0.7816539642905872, 0.7825660973868958, 0.7830873733380127, 0.7837717138258922, 0.7850469331786059, 0.7855956025097527, 0.7866671318242341, 0.7875411955315897, 0.7881602193572255, 0.7884026263124947, 0.7891544029720968, 0.7898519694725609, 0.7904341599395761, 0.7906616821844376, 0.7908663703270082, 0.7915136921065489, 0.7916899350309728, 0.7919488332410851, 0.7925752829916177, 0.792655639427048, 0.7935695540979439, 0.7942568128506059, 0.7946002544175051, 0.794836667586884, 0.7953243954293547, 0.795783688950052, 0.7958094510306302, 0.7959516254789388, 0.7960916983530106, 0.796416058053739, 0.7964879362486161, 0.7966183858216327, 0.7968618228913285, 0.7971399666040849, 0.7972635150328289, 0.7973149078061531, 0.7972785982658787, 0.7976113436562807, 0.797811252140586, 0.797989102056011, 0.7981477248866178, 0.7981296143909358, 0.798313782402942, 0.7984818870176082, 0.7987422245890253, 0.7990015405037114, 0.7989693655973278, 0.7991296815325202, 0.7990241509332761, 0.7992146982336378, 0.799507113840782, 0.7996589048057758, 0.7998552147826073, 0.8001905083657075, 0.8000751074527688, 0.8001691691229379, 0.8001993532159861, 0.8004003915862887, 0.8004471436419809, 0.8004999962185462, 0.8004517396142464, 0.8006067272154714, 0.8005522907813084, 0.8006339847709893, 0.8007681011432405, 0.8007195868255217, 0.8008033308896397, 0.8006144700254989, 0.8009124061267354, 0.8009035818716491, 0.8009824514845436, 0.801150528947708, 0.8010684091095577, 0.8013251911682954, 0.8012465831474241, 0.8013855928085537, 0.8015438717249517, 0.8015168777063835, 0.8015517536275396, 0.8016233769095713, 0.8016823781657425, 0.801722318669199, 0.8018401398490796, 0.8017485935881001, 0.8016998031400357, 0.801594083497686, 0.8016838573842298, 0.801755835095674, 0.801768072009007, 0.8018046448440892, 0.8020595821616929, 0.8020304655467067, 0.8019421949657495, 0.8020302878338936, 0.8021004228788275, 0.8022267381506876, 0.8022421648614545, 0.8020679121191037, 0.8020772367501887, 0.8021389872513229, 0.802116103567944, 0.802197667954174, 0.8021987286056385, 0.8022252088702416, 0.8022140499434023, 0.8022569844797713, 0.8021288248252528, 0.8022358911516674, 0.8021402468337495, 0.8020969021338601, 0.802133539451992, 0.8020221227794483, 0.8021515411760068, 0.8021897455594452, 0.8020661984106331, 0.8021687089286711, 0.8022214298855668, 0.8022791226316656, 0.8023748560263199, 0.8022791829553636, 0.8023107561686469, 0.8023814711609758, 0.8023603957690859, 0.8023245347060541, 0.8023406167099957, 0.8024126256860187], 'r2-stdv': [0.010687679111911812, 0.02046521683872551, 0.028076111327357114, 0.035283512166127434, 0.04205248525232834, 0.04647756769214865, 0.0516783305646793, 0.05633650711429385, 0.060458416069089756, 0.06407611091958078, 0.06714564796187143, 0.0682192522182575, 0.07115888803058044, 0.07280856192018612, 0.07478510732582548, 0.07631507288430277, 0.07782694170089258, 0.07948739972869055, 0.0804734936842756, 0.08156864344363571, 0.08181980812207894, 0.0822631702808211, 0.08252503683238205, 0.08316582735501878, 0.08394281839790202, 0.08404203135132099, 0.0824208382532627, 0.08291772835806203, 0.0833368027535827, 0.08246840684377016, 0.08270774643132313, 0.08189689244939052, 0.08217132804939871, 0.08175510459073884, 0.080979401127452, 0.08024484487773768, 0.07986359516039723, 0.07987658326149097, 0.08003696726461301, 0.0799554676716464, 0.07965126256263762, 0.07946065385637865, 0.07930376220868124, 0.07901623332460189, 0.07815473164277555, 0.07736699857800669, 0.07736585478405238, 0.07652084345036564, 0.07609848918436289, 0.07595472656279716, 0.07590777856778269, 0.07518728383918778, 0.07513982788394108, 0.07477819683748008, 0.07393812569164393, 0.07335344238875256, 0.07297785649222747, 0.07224242634015018, 0.07114540445292077, 0.07094706851676476, 0.0703283538142519, 0.06996359167591784, 0.0698772541415662, 0.06968640871608056, 0.06866454074007233, 0.06853396408913698, 0.0678806173241036, 0.06718200129026826, 0.06658290208694537, 0.06657249193060438, 0.06588781764021266, 0.06511271210812271, 0.06443218357349532, 0.064471123408132, 0.0642284129558888, 0.0635173115323534, 0.06343918964462462, 0.06329674529633002, 0.0630079450210575, 0.06294204965458176, 0.062429817547156784, 0.0619203862959799, 0.061780674449192635, 0.06172602991735962, 0.06143089547164993, 0.061044398109623504, 0.06118408972215063, 0.06088405758330205, 0.06091144411987865, 0.06077894145153443, 0.06078492442013884, 0.0606209059167936, 0.060536937811821845, 0.06036946774628151, 0.060401653017165546, 0.060410966299097896, 0.060345563302495644, 0.05995299868432965, 0.06001133687677236, 0.05993056699216557, 0.05981436609439936, 0.0597209534759118, 0.059726019531592595, 0.05977590852134465, 0.05964495744499214, 0.05962767229167646, 0.05973014263812967, 0.05938151563410099, 0.05936456288020329, 0.05917676023998268, 0.05902104499303153, 0.05893783839133579, 0.05898741188764769, 0.05872864618556948, 0.058582231295143054, 0.05855219334682057, 0.05847299964962768, 0.058398224318493216, 0.05830478928631713, 0.05831229990487478, 0.058190281870287956, 0.058124432961591636, 0.058150796378411064, 0.05816313704258999, 0.057973491491875515, 0.05793349780251343, 0.05797082993765227, 0.05774189310125806, 0.05773364133659309, 0.05759583034419497, 0.05772094222549981, 0.057753927787295996, 0.057841412651799484, 0.05785074748133027, 0.05802538378546845, 0.057929618382739766, 0.05767569595303425, 0.05733863858056205, 0.05738281067522627, 0.05730502543381935, 0.05747418613363362, 0.0574669653611553, 0.057403490968412164, 0.05754537047914893, 0.05761279806427511, 0.05757591753232952, 0.05741088108796864, 0.057119730284300854, 0.05731598133718076, 0.05729870300723444, 0.05714537102220213, 0.05699857486330659, 0.05690138394639893, 0.05685785590192893, 0.056835484530909364, 0.056843433399424874, 0.056819159139755604, 0.05675543971522187, 0.056707579593640964, 0.0567780807341312, 0.05679401924191297, 0.05673666076418085, 0.05672061965825538, 0.05631232152266547, 0.05632911767208001, 0.05637295992949049, 0.05657058271268667, 0.05662970632055921, 0.056599161135257384, 0.056775993189309225, 0.05678357403927067, 0.05690464558791355, 0.05669192486134251, 0.05664248493060283, 0.05667282052054508, 0.05672009964961917, 0.05671881339610546, 0.05669356488956095, 0.056593872880573465, 0.05660276780306648, 0.05657190981210274, 0.05646819718683023, 0.05635830495125122, 0.05642012986764003, 0.056403985487111806, 0.05637694085441748]}\n",
            "| \u001b[0m 15      \u001b[0m | \u001b[0m 0.8024  \u001b[0m | \u001b[0m 0.8618  \u001b[0m | \u001b[0m 0.8548  \u001b[0m | \u001b[0m 24.96   \u001b[0m | \u001b[0m 15.62   \u001b[0m | \u001b[0m 0.02276 \u001b[0m | \u001b[0m 99.72   \u001b[0m |\n",
            "=================================================================================================\n"
          ],
          "name": "stdout"
        }
      ]
    },
    {
      "cell_type": "markdown",
      "metadata": {
        "id": "oOjse8g327PE"
      },
      "source": [
        "Let's apply above model to predict \"Price\" for original test dataset."
      ]
    },
    {
      "cell_type": "code",
      "metadata": {
        "id": "Y4YaWme827PE"
      },
      "source": [
        "df_test_lig_gbm = df_test\n",
        "lig_gbm_pred = lig_gbm.predict(df_test)\n",
        "df_test_lig_gbm['Price'] = lig_gbm_pred\n",
        "df_test_lig_gbm.to_csv('flight_price_pred.csv')"
      ],
      "execution_count": null,
      "outputs": []
    },
    {
      "cell_type": "markdown",
      "metadata": {
        "id": "cx7mQ8oE27PI"
      },
      "source": [
        "## To Conclude"
      ]
    },
    {
      "cell_type": "code",
      "metadata": {
        "id": "87JOU_ZeUB6C"
      },
      "source": [
        ""
      ],
      "execution_count": null,
      "outputs": []
    },
    {
      "cell_type": "markdown",
      "metadata": {
        "id": "UHNAVnlW27PJ"
      },
      "source": [
        "In such work around, Feature Engineering plays an important role. Also here we have used dual encoding techniques to increase our model's performance.\n",
        "\n",
        "We compared RMSE score for each model and then selected the model with better RMSE score to apply on our test dataset.\n",
        "\n",
        "Advanced techniques like Pipeline, Stacking etc. can be used to tune algorithm and improve the performance of the model.\n",
        "\n",
        "Further, Hyperparameter tuning can be performed to fine tune our alogorithm and get best performance score from the model.\n",
        "\n",
        "**Credits & References:**\n",
        "\n",
        "https://medium.com/code-to-express/flight-price-prediction-7c83616a13bb\n",
        "\n",
        "https://medium.com/analytics-vidhya/hyperparameters-optimization-for-lightgbm-catboost-and-xgboost-regressors-using-bayesian-6e7c495947a9\n",
        "\n"
      ]
    }
  ]
}
